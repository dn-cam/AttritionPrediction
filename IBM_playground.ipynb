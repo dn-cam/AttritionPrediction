{
 "cells": [
  {
   "cell_type": "code",
   "execution_count": 1,
   "metadata": {},
   "outputs": [],
   "source": [
    "import pandas as pd\n",
    "import numpy as np\n",
    "\n",
    "import dash\n",
    "import dash_core_components as dcc\n",
    "import dash_html_components as html"
   ]
  },
  {
   "cell_type": "code",
   "execution_count": 62,
   "metadata": {},
   "outputs": [],
   "source": [
    "df = pd.read_csv('WA_Fn-UseC_-HR-Employee-Attrition.csv')"
   ]
  },
  {
   "cell_type": "code",
   "execution_count": 3,
   "metadata": {},
   "outputs": [
    {
     "data": {
      "text/html": [
       "<div>\n",
       "<style scoped>\n",
       "    .dataframe tbody tr th:only-of-type {\n",
       "        vertical-align: middle;\n",
       "    }\n",
       "\n",
       "    .dataframe tbody tr th {\n",
       "        vertical-align: top;\n",
       "    }\n",
       "\n",
       "    .dataframe thead th {\n",
       "        text-align: right;\n",
       "    }\n",
       "</style>\n",
       "<table border=\"1\" class=\"dataframe\">\n",
       "  <thead>\n",
       "    <tr style=\"text-align: right;\">\n",
       "      <th></th>\n",
       "      <th>Age</th>\n",
       "      <th>Attrition</th>\n",
       "      <th>BusinessTravel</th>\n",
       "      <th>DailyRate</th>\n",
       "      <th>Department</th>\n",
       "      <th>DistanceFromHome</th>\n",
       "      <th>Education</th>\n",
       "      <th>EducationField</th>\n",
       "      <th>EmployeeCount</th>\n",
       "      <th>EmployeeNumber</th>\n",
       "      <th>...</th>\n",
       "      <th>RelationshipSatisfaction</th>\n",
       "      <th>StandardHours</th>\n",
       "      <th>StockOptionLevel</th>\n",
       "      <th>TotalWorkingYears</th>\n",
       "      <th>TrainingTimesLastYear</th>\n",
       "      <th>WorkLifeBalance</th>\n",
       "      <th>YearsAtCompany</th>\n",
       "      <th>YearsInCurrentRole</th>\n",
       "      <th>YearsSinceLastPromotion</th>\n",
       "      <th>YearsWithCurrManager</th>\n",
       "    </tr>\n",
       "  </thead>\n",
       "  <tbody>\n",
       "    <tr>\n",
       "      <th>0</th>\n",
       "      <td>41</td>\n",
       "      <td>Yes</td>\n",
       "      <td>Travel_Rarely</td>\n",
       "      <td>1102</td>\n",
       "      <td>Sales</td>\n",
       "      <td>1</td>\n",
       "      <td>2</td>\n",
       "      <td>Life Sciences</td>\n",
       "      <td>1</td>\n",
       "      <td>1</td>\n",
       "      <td>...</td>\n",
       "      <td>1</td>\n",
       "      <td>80</td>\n",
       "      <td>0</td>\n",
       "      <td>8</td>\n",
       "      <td>0</td>\n",
       "      <td>1</td>\n",
       "      <td>6</td>\n",
       "      <td>4</td>\n",
       "      <td>0</td>\n",
       "      <td>5</td>\n",
       "    </tr>\n",
       "    <tr>\n",
       "      <th>1</th>\n",
       "      <td>49</td>\n",
       "      <td>No</td>\n",
       "      <td>Travel_Frequently</td>\n",
       "      <td>279</td>\n",
       "      <td>Research &amp; Development</td>\n",
       "      <td>8</td>\n",
       "      <td>1</td>\n",
       "      <td>Life Sciences</td>\n",
       "      <td>1</td>\n",
       "      <td>2</td>\n",
       "      <td>...</td>\n",
       "      <td>4</td>\n",
       "      <td>80</td>\n",
       "      <td>1</td>\n",
       "      <td>10</td>\n",
       "      <td>3</td>\n",
       "      <td>3</td>\n",
       "      <td>10</td>\n",
       "      <td>7</td>\n",
       "      <td>1</td>\n",
       "      <td>7</td>\n",
       "    </tr>\n",
       "    <tr>\n",
       "      <th>2</th>\n",
       "      <td>37</td>\n",
       "      <td>Yes</td>\n",
       "      <td>Travel_Rarely</td>\n",
       "      <td>1373</td>\n",
       "      <td>Research &amp; Development</td>\n",
       "      <td>2</td>\n",
       "      <td>2</td>\n",
       "      <td>Other</td>\n",
       "      <td>1</td>\n",
       "      <td>4</td>\n",
       "      <td>...</td>\n",
       "      <td>2</td>\n",
       "      <td>80</td>\n",
       "      <td>0</td>\n",
       "      <td>7</td>\n",
       "      <td>3</td>\n",
       "      <td>3</td>\n",
       "      <td>0</td>\n",
       "      <td>0</td>\n",
       "      <td>0</td>\n",
       "      <td>0</td>\n",
       "    </tr>\n",
       "    <tr>\n",
       "      <th>3</th>\n",
       "      <td>33</td>\n",
       "      <td>No</td>\n",
       "      <td>Travel_Frequently</td>\n",
       "      <td>1392</td>\n",
       "      <td>Research &amp; Development</td>\n",
       "      <td>3</td>\n",
       "      <td>4</td>\n",
       "      <td>Life Sciences</td>\n",
       "      <td>1</td>\n",
       "      <td>5</td>\n",
       "      <td>...</td>\n",
       "      <td>3</td>\n",
       "      <td>80</td>\n",
       "      <td>0</td>\n",
       "      <td>8</td>\n",
       "      <td>3</td>\n",
       "      <td>3</td>\n",
       "      <td>8</td>\n",
       "      <td>7</td>\n",
       "      <td>3</td>\n",
       "      <td>0</td>\n",
       "    </tr>\n",
       "    <tr>\n",
       "      <th>4</th>\n",
       "      <td>27</td>\n",
       "      <td>No</td>\n",
       "      <td>Travel_Rarely</td>\n",
       "      <td>591</td>\n",
       "      <td>Research &amp; Development</td>\n",
       "      <td>2</td>\n",
       "      <td>1</td>\n",
       "      <td>Medical</td>\n",
       "      <td>1</td>\n",
       "      <td>7</td>\n",
       "      <td>...</td>\n",
       "      <td>4</td>\n",
       "      <td>80</td>\n",
       "      <td>1</td>\n",
       "      <td>6</td>\n",
       "      <td>3</td>\n",
       "      <td>3</td>\n",
       "      <td>2</td>\n",
       "      <td>2</td>\n",
       "      <td>2</td>\n",
       "      <td>2</td>\n",
       "    </tr>\n",
       "  </tbody>\n",
       "</table>\n",
       "<p>5 rows × 35 columns</p>\n",
       "</div>"
      ],
      "text/plain": [
       "   Age Attrition     BusinessTravel  DailyRate              Department  \\\n",
       "0   41       Yes      Travel_Rarely       1102                   Sales   \n",
       "1   49        No  Travel_Frequently        279  Research & Development   \n",
       "2   37       Yes      Travel_Rarely       1373  Research & Development   \n",
       "3   33        No  Travel_Frequently       1392  Research & Development   \n",
       "4   27        No      Travel_Rarely        591  Research & Development   \n",
       "\n",
       "   DistanceFromHome  Education EducationField  EmployeeCount  EmployeeNumber  \\\n",
       "0                 1          2  Life Sciences              1               1   \n",
       "1                 8          1  Life Sciences              1               2   \n",
       "2                 2          2          Other              1               4   \n",
       "3                 3          4  Life Sciences              1               5   \n",
       "4                 2          1        Medical              1               7   \n",
       "\n",
       "   ...  RelationshipSatisfaction StandardHours  StockOptionLevel  \\\n",
       "0  ...                         1            80                 0   \n",
       "1  ...                         4            80                 1   \n",
       "2  ...                         2            80                 0   \n",
       "3  ...                         3            80                 0   \n",
       "4  ...                         4            80                 1   \n",
       "\n",
       "   TotalWorkingYears  TrainingTimesLastYear WorkLifeBalance  YearsAtCompany  \\\n",
       "0                  8                      0               1               6   \n",
       "1                 10                      3               3              10   \n",
       "2                  7                      3               3               0   \n",
       "3                  8                      3               3               8   \n",
       "4                  6                      3               3               2   \n",
       "\n",
       "  YearsInCurrentRole  YearsSinceLastPromotion  YearsWithCurrManager  \n",
       "0                  4                        0                     5  \n",
       "1                  7                        1                     7  \n",
       "2                  0                        0                     0  \n",
       "3                  7                        3                     0  \n",
       "4                  2                        2                     2  \n",
       "\n",
       "[5 rows x 35 columns]"
      ]
     },
     "execution_count": 3,
     "metadata": {},
     "output_type": "execute_result"
    }
   ],
   "source": [
    "df.head()"
   ]
  },
  {
   "cell_type": "code",
   "execution_count": 39,
   "metadata": {},
   "outputs": [],
   "source": [
    "exp = df\n",
    "exp = exp.sort_values(by=['DailyRate'])"
   ]
  },
  {
   "cell_type": "code",
   "execution_count": 66,
   "metadata": {},
   "outputs": [
    {
     "data": {
      "text/html": [
       "<div>\n",
       "<style scoped>\n",
       "    .dataframe tbody tr th:only-of-type {\n",
       "        vertical-align: middle;\n",
       "    }\n",
       "\n",
       "    .dataframe tbody tr th {\n",
       "        vertical-align: top;\n",
       "    }\n",
       "\n",
       "    .dataframe thead th {\n",
       "        text-align: right;\n",
       "    }\n",
       "</style>\n",
       "<table border=\"1\" class=\"dataframe\">\n",
       "  <thead>\n",
       "    <tr style=\"text-align: right;\">\n",
       "      <th></th>\n",
       "      <th>direction</th>\n",
       "      <th>strength</th>\n",
       "      <th>frequency</th>\n",
       "    </tr>\n",
       "  </thead>\n",
       "  <tbody>\n",
       "    <tr>\n",
       "      <th>0</th>\n",
       "      <td>N</td>\n",
       "      <td>0-1</td>\n",
       "      <td>0.5</td>\n",
       "    </tr>\n",
       "    <tr>\n",
       "      <th>1</th>\n",
       "      <td>NNE</td>\n",
       "      <td>0-1</td>\n",
       "      <td>0.6</td>\n",
       "    </tr>\n",
       "    <tr>\n",
       "      <th>2</th>\n",
       "      <td>NE</td>\n",
       "      <td>0-1</td>\n",
       "      <td>0.5</td>\n",
       "    </tr>\n",
       "    <tr>\n",
       "      <th>3</th>\n",
       "      <td>ENE</td>\n",
       "      <td>0-1</td>\n",
       "      <td>0.4</td>\n",
       "    </tr>\n",
       "    <tr>\n",
       "      <th>4</th>\n",
       "      <td>E</td>\n",
       "      <td>0-1</td>\n",
       "      <td>0.4</td>\n",
       "    </tr>\n",
       "  </tbody>\n",
       "</table>\n",
       "</div>"
      ],
      "text/plain": [
       "  direction strength  frequency\n",
       "0         N      0-1        0.5\n",
       "1       NNE      0-1        0.6\n",
       "2        NE      0-1        0.5\n",
       "3       ENE      0-1        0.4\n",
       "4         E      0-1        0.4"
      ]
     },
     "execution_count": 66,
     "metadata": {},
     "output_type": "execute_result"
    }
   ],
   "source": [
    "data = px.data.wind()\n",
    "data.head()\n",
    "\n",
    "#r=\"frequency\", theta=\"direction\", color=\"strength\","
   ]
  },
  {
   "cell_type": "code",
   "execution_count": 73,
   "metadata": {},
   "outputs": [
    {
     "data": {
      "text/plain": [
       "array(['0-1', '1-2', '2-3', '3-4', '4-4', '4-5', '5-6', '6+'],\n",
       "      dtype=object)"
      ]
     },
     "execution_count": 73,
     "metadata": {},
     "output_type": "execute_result"
    }
   ],
   "source": [
    "pd.unique(data.strength)"
   ]
  },
  {
   "cell_type": "code",
   "execution_count": 77,
   "metadata": {},
   "outputs": [
    {
     "data": {
      "application/vnd.plotly.v1+json": {
       "config": {
        "plotlyServerURL": "https://plot.ly"
       },
       "data": [
        {
         "hovertemplate": "BusinessTravel=Travel_Rarely<br>Department=%{r}<br>EducationField=%{theta}<extra></extra>",
         "legendgroup": "Travel_Rarely",
         "marker": {
          "color": "#f0f921"
         },
         "name": "Travel_Rarely",
         "r": [
          "Sales",
          "Research & Development",
          "Research & Development",
          "Research & Development",
          "Research & Development",
          "Research & Development",
          "Research & Development",
          "Research & Development",
          "Research & Development",
          "Research & Development",
          "Research & Development",
          "Research & Development",
          "Research & Development",
          "Sales",
          "Research & Development",
          "Sales",
          "Research & Development",
          "Research & Development",
          "Research & Development",
          "Research & Development",
          "Sales",
          "Research & Development",
          "Sales",
          "Research & Development",
          "Research & Development",
          "Research & Development",
          "Sales",
          "Research & Development",
          "Research & Development",
          "Sales",
          "Sales",
          "Research & Development",
          "Research & Development",
          "Research & Development",
          "Research & Development",
          "Research & Development",
          "Research & Development",
          "Research & Development",
          "Research & Development",
          "Research & Development",
          "Sales",
          "Sales",
          "Research & Development",
          "Research & Development",
          "Research & Development",
          "Research & Development",
          "Research & Development",
          "Sales",
          "Research & Development",
          "Research & Development",
          "Research & Development",
          "Research & Development",
          "Research & Development",
          "Research & Development",
          "Research & Development",
          "Research & Development",
          "Research & Development",
          "Sales",
          "Research & Development",
          "Research & Development",
          "Human Resources",
          "Research & Development",
          "Research & Development",
          "Sales",
          "Research & Development",
          "Research & Development",
          "Sales",
          "Research & Development",
          "Research & Development",
          "Sales",
          "Sales",
          "Sales",
          "Sales",
          "Research & Development",
          "Sales",
          "Sales",
          "Human Resources",
          "Research & Development",
          "Research & Development",
          "Sales",
          "Research & Development",
          "Research & Development",
          "Research & Development",
          "Research & Development",
          "Sales",
          "Research & Development",
          "Research & Development",
          "Research & Development",
          "Research & Development",
          "Sales",
          "Research & Development",
          "Research & Development",
          "Sales",
          "Research & Development",
          "Research & Development",
          "Sales",
          "Sales",
          "Human Resources",
          "Research & Development",
          "Sales",
          "Sales",
          "Human Resources",
          "Research & Development",
          "Research & Development",
          "Research & Development",
          "Research & Development",
          "Research & Development",
          "Research & Development",
          "Research & Development",
          "Research & Development",
          "Sales",
          "Sales",
          "Research & Development",
          "Research & Development",
          "Research & Development",
          "Sales",
          "Research & Development",
          "Research & Development",
          "Research & Development",
          "Research & Development",
          "Research & Development",
          "Sales",
          "Sales",
          "Research & Development",
          "Research & Development",
          "Sales",
          "Research & Development",
          "Research & Development",
          "Research & Development",
          "Sales",
          "Research & Development",
          "Research & Development",
          "Research & Development",
          "Sales",
          "Research & Development",
          "Research & Development",
          "Research & Development",
          "Research & Development",
          "Research & Development",
          "Research & Development",
          "Research & Development",
          "Research & Development",
          "Research & Development",
          "Research & Development",
          "Research & Development",
          "Research & Development",
          "Research & Development",
          "Research & Development",
          "Sales",
          "Research & Development",
          "Research & Development",
          "Sales",
          "Research & Development",
          "Research & Development",
          "Sales",
          "Research & Development",
          "Sales",
          "Research & Development",
          "Research & Development",
          "Sales",
          "Research & Development",
          "Research & Development",
          "Research & Development",
          "Research & Development",
          "Human Resources",
          "Sales",
          "Research & Development",
          "Sales",
          "Research & Development",
          "Sales",
          "Research & Development",
          "Research & Development",
          "Research & Development",
          "Research & Development",
          "Research & Development",
          "Research & Development",
          "Research & Development",
          "Research & Development",
          "Research & Development",
          "Research & Development",
          "Sales",
          "Research & Development",
          "Research & Development",
          "Research & Development",
          "Research & Development",
          "Research & Development",
          "Sales",
          "Research & Development",
          "Sales",
          "Research & Development",
          "Research & Development",
          "Research & Development",
          "Research & Development",
          "Research & Development",
          "Sales",
          "Research & Development",
          "Research & Development",
          "Sales",
          "Research & Development",
          "Research & Development",
          "Sales",
          "Research & Development",
          "Research & Development",
          "Research & Development",
          "Research & Development",
          "Research & Development",
          "Research & Development",
          "Sales",
          "Research & Development",
          "Sales",
          "Research & Development",
          "Sales",
          "Sales",
          "Research & Development",
          "Sales",
          "Research & Development",
          "Sales",
          "Research & Development",
          "Research & Development",
          "Human Resources",
          "Research & Development",
          "Research & Development",
          "Research & Development",
          "Research & Development",
          "Research & Development",
          "Sales",
          "Sales",
          "Sales",
          "Research & Development",
          "Research & Development",
          "Research & Development",
          "Sales",
          "Research & Development",
          "Research & Development",
          "Research & Development",
          "Sales",
          "Research & Development",
          "Research & Development",
          "Sales",
          "Sales",
          "Research & Development",
          "Research & Development",
          "Research & Development",
          "Sales",
          "Research & Development",
          "Research & Development",
          "Research & Development",
          "Research & Development",
          "Human Resources",
          "Research & Development",
          "Sales",
          "Research & Development",
          "Sales",
          "Research & Development",
          "Research & Development",
          "Research & Development",
          "Sales",
          "Research & Development",
          "Research & Development",
          "Sales",
          "Research & Development",
          "Sales",
          "Research & Development",
          "Research & Development",
          "Research & Development",
          "Sales",
          "Research & Development",
          "Sales",
          "Research & Development",
          "Research & Development",
          "Sales",
          "Sales",
          "Research & Development",
          "Sales",
          "Research & Development",
          "Sales",
          "Research & Development",
          "Research & Development",
          "Research & Development",
          "Research & Development",
          "Research & Development",
          "Research & Development",
          "Research & Development",
          "Sales",
          "Research & Development",
          "Sales",
          "Sales",
          "Research & Development",
          "Research & Development",
          "Research & Development",
          "Research & Development",
          "Research & Development",
          "Research & Development",
          "Research & Development",
          "Research & Development",
          "Sales",
          "Sales",
          "Research & Development",
          "Research & Development",
          "Research & Development",
          "Human Resources",
          "Sales",
          "Research & Development",
          "Research & Development",
          "Research & Development",
          "Research & Development",
          "Research & Development",
          "Research & Development",
          "Sales",
          "Research & Development",
          "Research & Development",
          "Research & Development",
          "Sales",
          "Research & Development",
          "Sales",
          "Sales",
          "Sales",
          "Research & Development",
          "Sales",
          "Research & Development",
          "Sales",
          "Research & Development",
          "Research & Development",
          "Sales",
          "Sales",
          "Sales",
          "Sales",
          "Research & Development",
          "Research & Development",
          "Sales",
          "Research & Development",
          "Research & Development",
          "Research & Development",
          "Research & Development",
          "Research & Development",
          "Sales",
          "Research & Development",
          "Sales",
          "Research & Development",
          "Sales",
          "Research & Development",
          "Sales",
          "Research & Development",
          "Sales",
          "Research & Development",
          "Research & Development",
          "Research & Development",
          "Research & Development",
          "Research & Development",
          "Human Resources",
          "Sales",
          "Sales",
          "Sales",
          "Research & Development",
          "Research & Development",
          "Sales",
          "Research & Development",
          "Sales",
          "Research & Development",
          "Research & Development",
          "Research & Development",
          "Sales",
          "Research & Development",
          "Human Resources",
          "Research & Development",
          "Research & Development",
          "Research & Development",
          "Research & Development",
          "Sales",
          "Sales",
          "Sales",
          "Research & Development",
          "Research & Development",
          "Research & Development",
          "Sales",
          "Research & Development",
          "Sales",
          "Research & Development",
          "Research & Development",
          "Research & Development",
          "Sales",
          "Research & Development",
          "Human Resources",
          "Sales",
          "Human Resources",
          "Sales",
          "Research & Development",
          "Research & Development",
          "Sales",
          "Sales",
          "Research & Development",
          "Research & Development",
          "Human Resources",
          "Research & Development",
          "Research & Development",
          "Research & Development",
          "Sales",
          "Research & Development",
          "Research & Development",
          "Research & Development",
          "Sales",
          "Research & Development",
          "Sales",
          "Sales",
          "Research & Development",
          "Sales",
          "Research & Development",
          "Research & Development",
          "Sales",
          "Research & Development",
          "Research & Development",
          "Research & Development",
          "Research & Development",
          "Sales",
          "Research & Development",
          "Sales",
          "Research & Development",
          "Research & Development",
          "Research & Development",
          "Research & Development",
          "Research & Development",
          "Sales",
          "Research & Development",
          "Research & Development",
          "Research & Development",
          "Research & Development",
          "Research & Development",
          "Research & Development",
          "Research & Development",
          "Human Resources",
          "Research & Development",
          "Research & Development",
          "Research & Development",
          "Research & Development",
          "Sales",
          "Sales",
          "Research & Development",
          "Research & Development",
          "Research & Development",
          "Sales",
          "Human Resources",
          "Sales",
          "Research & Development",
          "Research & Development",
          "Sales",
          "Research & Development",
          "Sales",
          "Sales",
          "Sales",
          "Sales",
          "Research & Development",
          "Sales",
          "Human Resources",
          "Research & Development",
          "Research & Development",
          "Human Resources",
          "Sales",
          "Research & Development",
          "Sales",
          "Research & Development",
          "Sales",
          "Research & Development",
          "Research & Development",
          "Sales",
          "Sales",
          "Research & Development",
          "Research & Development",
          "Sales",
          "Human Resources",
          "Human Resources",
          "Research & Development",
          "Research & Development",
          "Research & Development",
          "Sales",
          "Research & Development",
          "Sales",
          "Research & Development",
          "Research & Development",
          "Sales",
          "Research & Development",
          "Research & Development",
          "Research & Development",
          "Research & Development",
          "Research & Development",
          "Research & Development",
          "Sales",
          "Research & Development",
          "Research & Development",
          "Sales",
          "Research & Development",
          "Research & Development",
          "Research & Development",
          "Research & Development",
          "Research & Development",
          "Sales",
          "Sales",
          "Research & Development",
          "Research & Development",
          "Sales",
          "Research & Development",
          "Research & Development",
          "Research & Development",
          "Sales",
          "Research & Development",
          "Sales",
          "Sales",
          "Research & Development",
          "Research & Development",
          "Sales",
          "Sales",
          "Sales",
          "Sales",
          "Research & Development",
          "Research & Development",
          "Research & Development",
          "Research & Development",
          "Research & Development",
          "Sales",
          "Research & Development",
          "Research & Development",
          "Research & Development",
          "Research & Development",
          "Research & Development",
          "Research & Development",
          "Research & Development",
          "Research & Development",
          "Research & Development",
          "Research & Development",
          "Research & Development",
          "Research & Development",
          "Research & Development",
          "Research & Development",
          "Research & Development",
          "Research & Development",
          "Research & Development",
          "Sales",
          "Research & Development",
          "Research & Development",
          "Research & Development",
          "Sales",
          "Sales",
          "Sales",
          "Research & Development",
          "Sales",
          "Sales",
          "Sales",
          "Human Resources",
          "Research & Development",
          "Sales",
          "Sales",
          "Research & Development",
          "Research & Development",
          "Sales",
          "Research & Development",
          "Sales",
          "Research & Development",
          "Sales",
          "Research & Development",
          "Research & Development",
          "Research & Development",
          "Research & Development",
          "Research & Development",
          "Research & Development",
          "Research & Development",
          "Research & Development",
          "Research & Development",
          "Human Resources",
          "Research & Development",
          "Sales",
          "Research & Development",
          "Sales",
          "Research & Development",
          "Research & Development",
          "Research & Development",
          "Research & Development",
          "Research & Development",
          "Sales",
          "Research & Development",
          "Research & Development",
          "Sales",
          "Sales",
          "Research & Development",
          "Research & Development",
          "Research & Development",
          "Sales",
          "Research & Development",
          "Research & Development",
          "Human Resources",
          "Sales",
          "Research & Development",
          "Research & Development",
          "Research & Development",
          "Sales",
          "Human Resources",
          "Sales",
          "Sales",
          "Research & Development",
          "Research & Development",
          "Research & Development",
          "Research & Development",
          "Sales",
          "Research & Development",
          "Sales",
          "Research & Development",
          "Research & Development",
          "Research & Development",
          "Research & Development",
          "Research & Development",
          "Research & Development",
          "Research & Development",
          "Research & Development",
          "Research & Development",
          "Sales",
          "Human Resources",
          "Sales",
          "Research & Development",
          "Research & Development",
          "Sales",
          "Research & Development",
          "Research & Development",
          "Research & Development",
          "Research & Development",
          "Sales",
          "Research & Development",
          "Sales",
          "Research & Development",
          "Research & Development",
          "Sales",
          "Sales",
          "Research & Development",
          "Research & Development",
          "Research & Development",
          "Research & Development",
          "Research & Development",
          "Research & Development",
          "Research & Development",
          "Sales",
          "Research & Development",
          "Research & Development",
          "Research & Development",
          "Research & Development",
          "Research & Development",
          "Research & Development",
          "Research & Development",
          "Research & Development",
          "Sales",
          "Sales",
          "Research & Development",
          "Research & Development",
          "Research & Development",
          "Sales",
          "Sales",
          "Sales",
          "Research & Development",
          "Research & Development",
          "Research & Development",
          "Research & Development",
          "Sales",
          "Research & Development",
          "Research & Development",
          "Research & Development",
          "Research & Development",
          "Research & Development",
          "Sales",
          "Research & Development",
          "Research & Development",
          "Research & Development",
          "Research & Development",
          "Research & Development",
          "Research & Development",
          "Human Resources",
          "Research & Development",
          "Sales",
          "Sales",
          "Research & Development",
          "Research & Development",
          "Research & Development",
          "Research & Development",
          "Human Resources",
          "Research & Development",
          "Research & Development",
          "Human Resources",
          "Sales",
          "Sales",
          "Research & Development",
          "Research & Development",
          "Research & Development",
          "Research & Development",
          "Sales",
          "Research & Development",
          "Research & Development",
          "Sales",
          "Research & Development",
          "Research & Development",
          "Research & Development",
          "Research & Development",
          "Sales",
          "Research & Development",
          "Sales",
          "Research & Development",
          "Sales",
          "Sales",
          "Research & Development",
          "Sales",
          "Research & Development",
          "Research & Development",
          "Human Resources",
          "Research & Development",
          "Research & Development",
          "Research & Development",
          "Research & Development",
          "Human Resources",
          "Research & Development",
          "Research & Development",
          "Research & Development",
          "Sales",
          "Sales",
          "Research & Development",
          "Research & Development",
          "Research & Development",
          "Research & Development",
          "Sales",
          "Research & Development",
          "Sales",
          "Research & Development",
          "Research & Development",
          "Sales",
          "Sales",
          "Research & Development",
          "Research & Development",
          "Sales",
          "Sales",
          "Research & Development",
          "Human Resources",
          "Research & Development",
          "Sales",
          "Human Resources",
          "Sales",
          "Research & Development",
          "Research & Development",
          "Research & Development",
          "Research & Development",
          "Sales",
          "Sales",
          "Research & Development",
          "Research & Development",
          "Sales",
          "Sales",
          "Sales",
          "Human Resources",
          "Research & Development",
          "Research & Development",
          "Sales",
          "Research & Development",
          "Research & Development",
          "Research & Development",
          "Research & Development",
          "Research & Development",
          "Research & Development",
          "Research & Development",
          "Research & Development",
          "Sales",
          "Research & Development",
          "Research & Development",
          "Research & Development",
          "Sales",
          "Sales",
          "Research & Development",
          "Research & Development",
          "Research & Development",
          "Research & Development",
          "Research & Development",
          "Sales",
          "Research & Development",
          "Human Resources",
          "Research & Development",
          "Research & Development",
          "Sales",
          "Research & Development",
          "Sales",
          "Sales",
          "Research & Development",
          "Sales",
          "Sales",
          "Research & Development",
          "Sales",
          "Research & Development",
          "Research & Development",
          "Research & Development",
          "Research & Development",
          "Research & Development",
          "Sales",
          "Research & Development",
          "Research & Development",
          "Sales",
          "Sales",
          "Sales",
          "Research & Development",
          "Research & Development",
          "Sales",
          "Sales",
          "Research & Development",
          "Research & Development",
          "Research & Development",
          "Sales",
          "Research & Development",
          "Research & Development",
          "Sales",
          "Research & Development",
          "Research & Development",
          "Research & Development",
          "Research & Development",
          "Research & Development",
          "Research & Development",
          "Research & Development",
          "Research & Development",
          "Research & Development",
          "Research & Development",
          "Research & Development",
          "Research & Development",
          "Human Resources",
          "Research & Development",
          "Research & Development",
          "Research & Development",
          "Research & Development",
          "Research & Development",
          "Sales",
          "Research & Development",
          "Research & Development",
          "Sales",
          "Research & Development",
          "Research & Development",
          "Sales",
          "Research & Development",
          "Research & Development",
          "Research & Development",
          "Research & Development",
          "Sales",
          "Research & Development",
          "Research & Development",
          "Research & Development",
          "Research & Development",
          "Research & Development",
          "Research & Development",
          "Sales",
          "Sales",
          "Research & Development",
          "Sales",
          "Research & Development",
          "Sales",
          "Research & Development",
          "Sales",
          "Sales",
          "Research & Development",
          "Human Resources",
          "Research & Development",
          "Research & Development",
          "Research & Development",
          "Research & Development",
          "Research & Development",
          "Research & Development",
          "Research & Development",
          "Research & Development",
          "Research & Development",
          "Sales",
          "Research & Development",
          "Sales",
          "Research & Development",
          "Sales",
          "Research & Development",
          "Sales",
          "Human Resources",
          "Research & Development",
          "Research & Development",
          "Research & Development",
          "Research & Development",
          "Research & Development",
          "Research & Development",
          "Research & Development",
          "Research & Development",
          "Sales",
          "Sales",
          "Sales",
          "Research & Development",
          "Sales",
          "Sales",
          "Human Resources",
          "Sales",
          "Research & Development",
          "Sales",
          "Sales",
          "Research & Development",
          "Sales",
          "Sales",
          "Sales",
          "Research & Development",
          "Research & Development",
          "Research & Development",
          "Research & Development",
          "Research & Development",
          "Research & Development",
          "Human Resources",
          "Sales",
          "Sales",
          "Research & Development",
          "Research & Development",
          "Sales",
          "Research & Development",
          "Sales",
          "Research & Development",
          "Research & Development",
          "Human Resources",
          "Sales",
          "Research & Development",
          "Research & Development",
          "Research & Development",
          "Research & Development",
          "Research & Development",
          "Research & Development",
          "Research & Development",
          "Sales",
          "Research & Development",
          "Human Resources",
          "Research & Development",
          "Research & Development",
          "Sales",
          "Research & Development",
          "Research & Development",
          "Research & Development",
          "Research & Development",
          "Research & Development",
          "Sales",
          "Sales",
          "Human Resources",
          "Human Resources",
          "Research & Development",
          "Research & Development",
          "Research & Development",
          "Research & Development",
          "Research & Development",
          "Sales",
          "Sales",
          "Sales",
          "Human Resources",
          "Research & Development",
          "Research & Development",
          "Sales",
          "Research & Development",
          "Research & Development",
          "Sales",
          "Sales",
          "Research & Development",
          "Sales",
          "Research & Development",
          "Sales",
          "Research & Development",
          "Research & Development",
          "Research & Development",
          "Research & Development",
          "Research & Development",
          "Research & Development",
          "Sales",
          "Research & Development",
          "Research & Development",
          "Sales",
          "Sales",
          "Research & Development",
          "Sales",
          "Sales",
          "Research & Development",
          "Sales",
          "Research & Development",
          "Sales",
          "Sales",
          "Research & Development",
          "Sales",
          "Research & Development",
          "Sales",
          "Sales",
          "Sales",
          "Sales",
          "Research & Development",
          "Research & Development",
          "Research & Development",
          "Sales",
          "Sales",
          "Sales",
          "Research & Development",
          "Sales",
          "Research & Development",
          "Research & Development",
          "Human Resources",
          "Research & Development",
          "Sales",
          "Research & Development",
          "Research & Development",
          "Research & Development",
          "Sales",
          "Human Resources",
          "Research & Development",
          "Research & Development",
          "Research & Development",
          "Sales",
          "Sales",
          "Research & Development",
          "Research & Development",
          "Research & Development",
          "Research & Development",
          "Research & Development",
          "Research & Development",
          "Research & Development",
          "Research & Development",
          "Sales",
          "Research & Development",
          "Research & Development",
          "Sales",
          "Research & Development",
          "Sales",
          "Research & Development",
          "Sales",
          "Sales",
          "Research & Development",
          "Research & Development",
          "Research & Development",
          "Research & Development",
          "Sales",
          "Sales",
          "Research & Development",
          "Human Resources",
          "Sales",
          "Sales",
          "Sales",
          "Research & Development",
          "Research & Development",
          "Research & Development",
          "Research & Development",
          "Research & Development",
          "Sales",
          "Sales",
          "Sales",
          "Research & Development",
          "Research & Development",
          "Research & Development"
         ],
         "showlegend": true,
         "subplot": "polar",
         "theta": [
          "Life Sciences",
          "Other",
          "Medical",
          "Medical",
          "Life Sciences",
          "Medical",
          "Medical",
          "Life Sciences",
          "Life Sciences",
          "Medical",
          "Life Sciences",
          "Life Sciences",
          "Life Sciences",
          "Life Sciences",
          "Life Sciences",
          "Life Sciences",
          "Life Sciences",
          "Life Sciences",
          "Medical",
          "Other",
          "Marketing",
          "Medical",
          "Marketing",
          "Medical",
          "Other",
          "Medical",
          "Technical Degree",
          "Medical",
          "Medical",
          "Marketing",
          "Marketing",
          "Life Sciences",
          "Other",
          "Life Sciences",
          "Life Sciences",
          "Technical Degree",
          "Life Sciences",
          "Life Sciences",
          "Life Sciences",
          "Technical Degree",
          "Marketing",
          "Marketing",
          "Medical",
          "Life Sciences",
          "Life Sciences",
          "Medical",
          "Medical",
          "Life Sciences",
          "Technical Degree",
          "Medical",
          "Life Sciences",
          "Medical",
          "Life Sciences",
          "Medical",
          "Life Sciences",
          "Life Sciences",
          "Life Sciences",
          "Marketing",
          "Other",
          "Medical",
          "Medical",
          "Life Sciences",
          "Medical",
          "Life Sciences",
          "Medical",
          "Life Sciences",
          "Technical Degree",
          "Life Sciences",
          "Life Sciences",
          "Medical",
          "Marketing",
          "Medical",
          "Medical",
          "Technical Degree",
          "Other",
          "Medical",
          "Human Resources",
          "Life Sciences",
          "Other",
          "Marketing",
          "Medical",
          "Medical",
          "Life Sciences",
          "Life Sciences",
          "Life Sciences",
          "Medical",
          "Life Sciences",
          "Life Sciences",
          "Life Sciences",
          "Life Sciences",
          "Other",
          "Medical",
          "Marketing",
          "Technical Degree",
          "Medical",
          "Life Sciences",
          "Life Sciences",
          "Life Sciences",
          "Medical",
          "Life Sciences",
          "Life Sciences",
          "Human Resources",
          "Medical",
          "Medical",
          "Technical Degree",
          "Life Sciences",
          "Technical Degree",
          "Medical",
          "Life Sciences",
          "Medical",
          "Marketing",
          "Marketing",
          "Life Sciences",
          "Medical",
          "Medical",
          "Marketing",
          "Medical",
          "Medical",
          "Life Sciences",
          "Life Sciences",
          "Life Sciences",
          "Life Sciences",
          "Life Sciences",
          "Life Sciences",
          "Technical Degree",
          "Life Sciences",
          "Life Sciences",
          "Life Sciences",
          "Life Sciences",
          "Marketing",
          "Life Sciences",
          "Medical",
          "Medical",
          "Marketing",
          "Medical",
          "Medical",
          "Medical",
          "Medical",
          "Medical",
          "Medical",
          "Life Sciences",
          "Medical",
          "Life Sciences",
          "Life Sciences",
          "Life Sciences",
          "Technical Degree",
          "Medical",
          "Medical",
          "Marketing",
          "Life Sciences",
          "Medical",
          "Medical",
          "Life Sciences",
          "Technical Degree",
          "Life Sciences",
          "Technical Degree",
          "Marketing",
          "Life Sciences",
          "Medical",
          "Life Sciences",
          "Life Sciences",
          "Medical",
          "Life Sciences",
          "Technical Degree",
          "Medical",
          "Medical",
          "Medical",
          "Marketing",
          "Life Sciences",
          "Life Sciences",
          "Life Sciences",
          "Medical",
          "Life Sciences",
          "Technical Degree",
          "Other",
          "Life Sciences",
          "Life Sciences",
          "Medical",
          "Life Sciences",
          "Life Sciences",
          "Marketing",
          "Life Sciences",
          "Medical",
          "Medical",
          "Life Sciences",
          "Technical Degree",
          "Technical Degree",
          "Life Sciences",
          "Medical",
          "Medical",
          "Medical",
          "Life Sciences",
          "Medical",
          "Medical",
          "Medical",
          "Medical",
          "Life Sciences",
          "Medical",
          "Life Sciences",
          "Medical",
          "Life Sciences",
          "Technical Degree",
          "Life Sciences",
          "Life Sciences",
          "Medical",
          "Life Sciences",
          "Technical Degree",
          "Marketing",
          "Life Sciences",
          "Marketing",
          "Medical",
          "Life Sciences",
          "Medical",
          "Medical",
          "Technical Degree",
          "Medical",
          "Life Sciences",
          "Life Sciences",
          "Technical Degree",
          "Human Resources",
          "Life Sciences",
          "Medical",
          "Technical Degree",
          "Medical",
          "Life Sciences",
          "Technical Degree",
          "Life Sciences",
          "Marketing",
          "Medical",
          "Medical",
          "Medical",
          "Medical",
          "Life Sciences",
          "Life Sciences",
          "Other",
          "Medical",
          "Other",
          "Other",
          "Marketing",
          "Marketing",
          "Medical",
          "Life Sciences",
          "Medical",
          "Marketing",
          "Technical Degree",
          "Life Sciences",
          "Medical",
          "Life Sciences",
          "Technical Degree",
          "Medical",
          "Medical",
          "Medical",
          "Life Sciences",
          "Other",
          "Medical",
          "Life Sciences",
          "Marketing",
          "Medical",
          "Technical Degree",
          "Marketing",
          "Life Sciences",
          "Life Sciences",
          "Life Sciences",
          "Life Sciences",
          "Medical",
          "Life Sciences",
          "Other",
          "Life Sciences",
          "Life Sciences",
          "Life Sciences",
          "Marketing",
          "Technical Degree",
          "Medical",
          "Medical",
          "Life Sciences",
          "Marketing",
          "Life Sciences",
          "Life Sciences",
          "Life Sciences",
          "Medical",
          "Medical",
          "Medical",
          "Other",
          "Life Sciences",
          "Life Sciences",
          "Technical Degree",
          "Marketing",
          "Medical",
          "Medical",
          "Medical",
          "Life Sciences",
          "Life Sciences",
          "Life Sciences",
          "Life Sciences",
          "Medical",
          "Technical Degree",
          "Life Sciences",
          "Life Sciences",
          "Medical",
          "Technical Degree",
          "Technical Degree",
          "Marketing",
          "Life Sciences",
          "Medical",
          "Life Sciences",
          "Life Sciences",
          "Life Sciences",
          "Life Sciences",
          "Marketing",
          "Life Sciences",
          "Medical",
          "Medical",
          "Marketing",
          "Life Sciences",
          "Marketing",
          "Life Sciences",
          "Marketing",
          "Life Sciences",
          "Life Sciences",
          "Medical",
          "Other",
          "Technical Degree",
          "Medical",
          "Life Sciences",
          "Medical",
          "Medical",
          "Life Sciences",
          "Technical Degree",
          "Technical Degree",
          "Life Sciences",
          "Technical Degree",
          "Medical",
          "Life Sciences",
          "Life Sciences",
          "Medical",
          "Marketing",
          "Other",
          "Medical",
          "Life Sciences",
          "Medical",
          "Other",
          "Medical",
          "Medical",
          "Marketing",
          "Life Sciences",
          "Life Sciences",
          "Other",
          "Life Sciences",
          "Life Sciences",
          "Life Sciences",
          "Technical Degree",
          "Marketing",
          "Technical Degree",
          "Other",
          "Medical",
          "Marketing",
          "Life Sciences",
          "Medical",
          "Life Sciences",
          "Life Sciences",
          "Other",
          "Medical",
          "Life Sciences",
          "Medical",
          "Medical",
          "Medical",
          "Medical",
          "Medical",
          "Life Sciences",
          "Marketing",
          "Marketing",
          "Life Sciences",
          "Medical",
          "Medical",
          "Life Sciences",
          "Technical Degree",
          "Marketing",
          "Life Sciences",
          "Life Sciences",
          "Life Sciences",
          "Marketing",
          "Life Sciences",
          "Human Resources",
          "Marketing",
          "Human Resources",
          "Marketing",
          "Life Sciences",
          "Life Sciences",
          "Marketing",
          "Life Sciences",
          "Medical",
          "Medical",
          "Human Resources",
          "Medical",
          "Medical",
          "Medical",
          "Marketing",
          "Life Sciences",
          "Medical",
          "Life Sciences",
          "Marketing",
          "Other",
          "Medical",
          "Technical Degree",
          "Medical",
          "Other",
          "Medical",
          "Medical",
          "Technical Degree",
          "Life Sciences",
          "Medical",
          "Life Sciences",
          "Medical",
          "Life Sciences",
          "Life Sciences",
          "Life Sciences",
          "Life Sciences",
          "Life Sciences",
          "Medical",
          "Life Sciences",
          "Medical",
          "Marketing",
          "Other",
          "Other",
          "Life Sciences",
          "Life Sciences",
          "Life Sciences",
          "Life Sciences",
          "Medical",
          "Human Resources",
          "Life Sciences",
          "Medical",
          "Life Sciences",
          "Life Sciences",
          "Marketing",
          "Medical",
          "Life Sciences",
          "Technical Degree",
          "Other",
          "Marketing",
          "Human Resources",
          "Marketing",
          "Medical",
          "Medical",
          "Medical",
          "Medical",
          "Life Sciences",
          "Life Sciences",
          "Marketing",
          "Marketing",
          "Medical",
          "Marketing",
          "Medical",
          "Life Sciences",
          "Life Sciences",
          "Life Sciences",
          "Other",
          "Life Sciences",
          "Marketing",
          "Technical Degree",
          "Marketing",
          "Life Sciences",
          "Life Sciences",
          "Medical",
          "Marketing",
          "Technical Degree",
          "Life Sciences",
          "Marketing",
          "Life Sciences",
          "Human Resources",
          "Life Sciences",
          "Medical",
          "Life Sciences",
          "Medical",
          "Life Sciences",
          "Medical",
          "Other",
          "Life Sciences",
          "Life Sciences",
          "Life Sciences",
          "Life Sciences",
          "Medical",
          "Medical",
          "Life Sciences",
          "Life Sciences",
          "Medical",
          "Other",
          "Technical Degree",
          "Life Sciences",
          "Life Sciences",
          "Other",
          "Medical",
          "Other",
          "Technical Degree",
          "Marketing",
          "Marketing",
          "Medical",
          "Medical",
          "Other",
          "Technical Degree",
          "Medical",
          "Medical",
          "Life Sciences",
          "Life Sciences",
          "Life Sciences",
          "Medical",
          "Life Sciences",
          "Technical Degree",
          "Medical",
          "Other",
          "Life Sciences",
          "Life Sciences",
          "Life Sciences",
          "Life Sciences",
          "Medical",
          "Medical",
          "Technical Degree",
          "Life Sciences",
          "Life Sciences",
          "Life Sciences",
          "Medical",
          "Medical",
          "Other",
          "Technical Degree",
          "Medical",
          "Life Sciences",
          "Medical",
          "Medical",
          "Life Sciences",
          "Life Sciences",
          "Life Sciences",
          "Medical",
          "Life Sciences",
          "Life Sciences",
          "Other",
          "Marketing",
          "Life Sciences",
          "Life Sciences",
          "Medical",
          "Life Sciences",
          "Marketing",
          "Medical",
          "Life Sciences",
          "Life Sciences",
          "Marketing",
          "Technical Degree",
          "Medical",
          "Other",
          "Life Sciences",
          "Medical",
          "Medical",
          "Other",
          "Marketing",
          "Medical",
          "Life Sciences",
          "Medical",
          "Medical",
          "Life Sciences",
          "Life Sciences",
          "Life Sciences",
          "Medical",
          "Other",
          "Technical Degree",
          "Life Sciences",
          "Technical Degree",
          "Other",
          "Medical",
          "Life Sciences",
          "Technical Degree",
          "Life Sciences",
          "Life Sciences",
          "Technical Degree",
          "Medical",
          "Medical",
          "Medical",
          "Life Sciences",
          "Marketing",
          "Life Sciences",
          "Medical",
          "Marketing",
          "Marketing",
          "Medical",
          "Technical Degree",
          "Life Sciences",
          "Technical Degree",
          "Medical",
          "Medical",
          "Human Resources",
          "Marketing",
          "Life Sciences",
          "Medical",
          "Life Sciences",
          "Life Sciences",
          "Technical Degree",
          "Life Sciences",
          "Marketing",
          "Medical",
          "Medical",
          "Life Sciences",
          "Medical",
          "Marketing",
          "Life Sciences",
          "Marketing",
          "Technical Degree",
          "Medical",
          "Life Sciences",
          "Medical",
          "Life Sciences",
          "Life Sciences",
          "Life Sciences",
          "Medical",
          "Life Sciences",
          "Marketing",
          "Human Resources",
          "Life Sciences",
          "Medical",
          "Life Sciences",
          "Life Sciences",
          "Life Sciences",
          "Life Sciences",
          "Life Sciences",
          "Other",
          "Marketing",
          "Technical Degree",
          "Marketing",
          "Technical Degree",
          "Medical",
          "Technical Degree",
          "Life Sciences",
          "Medical",
          "Life Sciences",
          "Life Sciences",
          "Life Sciences",
          "Life Sciences",
          "Medical",
          "Medical",
          "Life Sciences",
          "Life Sciences",
          "Medical",
          "Technical Degree",
          "Life Sciences",
          "Life Sciences",
          "Life Sciences",
          "Life Sciences",
          "Technical Degree",
          "Marketing",
          "Marketing",
          "Life Sciences",
          "Life Sciences",
          "Life Sciences",
          "Marketing",
          "Marketing",
          "Marketing",
          "Medical",
          "Life Sciences",
          "Life Sciences",
          "Medical",
          "Marketing",
          "Life Sciences",
          "Medical",
          "Technical Degree",
          "Technical Degree",
          "Medical",
          "Medical",
          "Medical",
          "Life Sciences",
          "Life Sciences",
          "Medical",
          "Technical Degree",
          "Technical Degree",
          "Life Sciences",
          "Life Sciences",
          "Marketing",
          "Life Sciences",
          "Medical",
          "Life Sciences",
          "Life Sciences",
          "Medical",
          "Life Sciences",
          "Life Sciences",
          "Life Sciences",
          "Life Sciences",
          "Life Sciences",
          "Medical",
          "Medical",
          "Medical",
          "Life Sciences",
          "Life Sciences",
          "Medical",
          "Technical Degree",
          "Medical",
          "Marketing",
          "Life Sciences",
          "Medical",
          "Medical",
          "Technical Degree",
          "Life Sciences",
          "Medical",
          "Life Sciences",
          "Life Sciences",
          "Marketing",
          "Life Sciences",
          "Medical",
          "Marketing",
          "Life Sciences",
          "Medical",
          "Human Resources",
          "Other",
          "Medical",
          "Technical Degree",
          "Other",
          "Other",
          "Medical",
          "Medical",
          "Medical",
          "Marketing",
          "Marketing",
          "Life Sciences",
          "Life Sciences",
          "Life Sciences",
          "Life Sciences",
          "Marketing",
          "Technical Degree",
          "Life Sciences",
          "Life Sciences",
          "Medical",
          "Medical",
          "Marketing",
          "Life Sciences",
          "Medical",
          "Life Sciences",
          "Marketing",
          "Medical",
          "Medical",
          "Technical Degree",
          "Marketing",
          "Technical Degree",
          "Medical",
          "Medical",
          "Technical Degree",
          "Medical",
          "Life Sciences",
          "Other",
          "Life Sciences",
          "Life Sciences",
          "Life Sciences",
          "Medical",
          "Life Sciences",
          "Life Sciences",
          "Life Sciences",
          "Life Sciences",
          "Medical",
          "Medical",
          "Life Sciences",
          "Medical",
          "Life Sciences",
          "Life Sciences",
          "Medical",
          "Technical Degree",
          "Life Sciences",
          "Life Sciences",
          "Life Sciences",
          "Life Sciences",
          "Life Sciences",
          "Life Sciences",
          "Technical Degree",
          "Technical Degree",
          "Medical",
          "Medical",
          "Other",
          "Life Sciences",
          "Technical Degree",
          "Medical",
          "Life Sciences",
          "Medical",
          "Technical Degree",
          "Technical Degree",
          "Life Sciences",
          "Life Sciences",
          "Life Sciences",
          "Life Sciences",
          "Life Sciences",
          "Life Sciences",
          "Life Sciences",
          "Medical",
          "Technical Degree",
          "Life Sciences",
          "Technical Degree",
          "Medical",
          "Other",
          "Medical",
          "Marketing",
          "Life Sciences",
          "Life Sciences",
          "Life Sciences",
          "Life Sciences",
          "Life Sciences",
          "Medical",
          "Medical",
          "Medical",
          "Marketing",
          "Technical Degree",
          "Other",
          "Life Sciences",
          "Life Sciences",
          "Technical Degree",
          "Life Sciences",
          "Life Sciences",
          "Medical",
          "Other",
          "Medical",
          "Medical",
          "Medical",
          "Life Sciences",
          "Life Sciences",
          "Medical",
          "Other",
          "Life Sciences",
          "Medical",
          "Medical",
          "Life Sciences",
          "Medical",
          "Life Sciences",
          "Life Sciences",
          "Other",
          "Medical",
          "Medical",
          "Medical",
          "Life Sciences",
          "Medical",
          "Medical",
          "Life Sciences",
          "Medical",
          "Life Sciences",
          "Medical",
          "Other",
          "Life Sciences",
          "Medical",
          "Life Sciences",
          "Life Sciences",
          "Life Sciences",
          "Life Sciences",
          "Medical",
          "Life Sciences",
          "Medical",
          "Medical",
          "Medical",
          "Life Sciences",
          "Medical",
          "Life Sciences",
          "Life Sciences",
          "Life Sciences",
          "Life Sciences",
          "Life Sciences",
          "Life Sciences",
          "Medical",
          "Medical",
          "Medical",
          "Life Sciences",
          "Technical Degree",
          "Medical",
          "Medical",
          "Medical",
          "Life Sciences",
          "Life Sciences",
          "Life Sciences",
          "Medical",
          "Medical",
          "Marketing",
          "Medical",
          "Life Sciences",
          "Human Resources",
          "Medical",
          "Technical Degree",
          "Life Sciences",
          "Life Sciences",
          "Medical",
          "Life Sciences",
          "Life Sciences",
          "Life Sciences",
          "Life Sciences",
          "Marketing",
          "Life Sciences",
          "Medical",
          "Life Sciences",
          "Medical",
          "Life Sciences",
          "Technical Degree",
          "Medical",
          "Marketing",
          "Marketing",
          "Medical",
          "Marketing",
          "Life Sciences",
          "Marketing",
          "Technical Degree",
          "Life Sciences",
          "Medical",
          "Medical",
          "Medical",
          "Life Sciences",
          "Life Sciences",
          "Life Sciences",
          "Marketing",
          "Other",
          "Medical",
          "Marketing",
          "Technical Degree",
          "Marketing",
          "Medical",
          "Life Sciences",
          "Other",
          "Life Sciences",
          "Life Sciences",
          "Life Sciences",
          "Medical",
          "Life Sciences",
          "Medical",
          "Medical",
          "Life Sciences",
          "Marketing",
          "Medical",
          "Medical",
          "Medical",
          "Life Sciences",
          "Technical Degree",
          "Medical",
          "Life Sciences",
          "Life Sciences",
          "Medical",
          "Medical",
          "Marketing",
          "Medical",
          "Human Resources",
          "Human Resources",
          "Other",
          "Life Sciences",
          "Life Sciences",
          "Life Sciences",
          "Life Sciences",
          "Marketing",
          "Technical Degree",
          "Medical",
          "Medical",
          "Medical",
          "Life Sciences",
          "Life Sciences",
          "Other",
          "Technical Degree",
          "Medical",
          "Medical",
          "Life Sciences",
          "Technical Degree",
          "Life Sciences",
          "Life Sciences",
          "Life Sciences",
          "Medical",
          "Other",
          "Life Sciences",
          "Life Sciences",
          "Life Sciences",
          "Medical",
          "Life Sciences",
          "Life Sciences",
          "Marketing",
          "Marketing",
          "Medical",
          "Medical",
          "Medical",
          "Medical",
          "Marketing",
          "Technical Degree",
          "Marketing",
          "Marketing",
          "Medical",
          "Life Sciences",
          "Life Sciences",
          "Marketing",
          "Medical",
          "Marketing",
          "Medical",
          "Medical",
          "Life Sciences",
          "Technical Degree",
          "Life Sciences",
          "Life Sciences",
          "Marketing",
          "Life Sciences",
          "Life Sciences",
          "Life Sciences",
          "Life Sciences",
          "Human Resources",
          "Medical",
          "Marketing",
          "Medical",
          "Life Sciences",
          "Other",
          "Marketing",
          "Human Resources",
          "Medical",
          "Other",
          "Medical",
          "Life Sciences",
          "Life Sciences",
          "Life Sciences",
          "Life Sciences",
          "Medical",
          "Life Sciences",
          "Medical",
          "Medical",
          "Life Sciences",
          "Life Sciences",
          "Medical",
          "Life Sciences",
          "Medical",
          "Marketing",
          "Life Sciences",
          "Other",
          "Medical",
          "Medical",
          "Medical",
          "Medical",
          "Life Sciences",
          "Technical Degree",
          "Life Sciences",
          "Marketing",
          "Life Sciences",
          "Technical Degree",
          "Life Sciences",
          "Life Sciences",
          "Marketing",
          "Life Sciences",
          "Life Sciences",
          "Medical",
          "Life Sciences",
          "Other",
          "Medical",
          "Marketing",
          "Marketing",
          "Other",
          "Medical",
          "Life Sciences",
          "Medical"
         ],
         "type": "barpolar"
        },
        {
         "hovertemplate": "BusinessTravel=Travel_Frequently<br>Department=%{r}<br>EducationField=%{theta}<extra></extra>",
         "legendgroup": "Travel_Frequently",
         "marker": {
          "color": "#fdca26"
         },
         "name": "Travel_Frequently",
         "r": [
          "Research & Development",
          "Research & Development",
          "Research & Development",
          "Research & Development",
          "Research & Development",
          "Sales",
          "Sales",
          "Research & Development",
          "Sales",
          "Research & Development",
          "Sales",
          "Research & Development",
          "Research & Development",
          "Research & Development",
          "Sales",
          "Research & Development",
          "Research & Development",
          "Research & Development",
          "Research & Development",
          "Research & Development",
          "Research & Development",
          "Sales",
          "Sales",
          "Research & Development",
          "Research & Development",
          "Sales",
          "Research & Development",
          "Sales",
          "Research & Development",
          "Research & Development",
          "Sales",
          "Sales",
          "Sales",
          "Research & Development",
          "Research & Development",
          "Research & Development",
          "Research & Development",
          "Research & Development",
          "Research & Development",
          "Sales",
          "Sales",
          "Research & Development",
          "Sales",
          "Sales",
          "Sales",
          "Research & Development",
          "Research & Development",
          "Research & Development",
          "Research & Development",
          "Research & Development",
          "Research & Development",
          "Research & Development",
          "Sales",
          "Research & Development",
          "Research & Development",
          "Research & Development",
          "Sales",
          "Research & Development",
          "Sales",
          "Research & Development",
          "Research & Development",
          "Research & Development",
          "Research & Development",
          "Research & Development",
          "Research & Development",
          "Sales",
          "Research & Development",
          "Research & Development",
          "Sales",
          "Sales",
          "Sales",
          "Sales",
          "Research & Development",
          "Research & Development",
          "Research & Development",
          "Research & Development",
          "Sales",
          "Research & Development",
          "Research & Development",
          "Sales",
          "Research & Development",
          "Sales",
          "Research & Development",
          "Human Resources",
          "Research & Development",
          "Research & Development",
          "Research & Development",
          "Human Resources",
          "Sales",
          "Research & Development",
          "Sales",
          "Human Resources",
          "Research & Development",
          "Sales",
          "Research & Development",
          "Research & Development",
          "Sales",
          "Research & Development",
          "Research & Development",
          "Research & Development",
          "Sales",
          "Sales",
          "Sales",
          "Research & Development",
          "Sales",
          "Research & Development",
          "Sales",
          "Research & Development",
          "Sales",
          "Research & Development",
          "Sales",
          "Research & Development",
          "Research & Development",
          "Research & Development",
          "Research & Development",
          "Research & Development",
          "Research & Development",
          "Research & Development",
          "Research & Development",
          "Research & Development",
          "Research & Development",
          "Research & Development",
          "Sales",
          "Sales",
          "Research & Development",
          "Research & Development",
          "Sales",
          "Research & Development",
          "Sales",
          "Research & Development",
          "Research & Development",
          "Research & Development",
          "Research & Development",
          "Research & Development",
          "Research & Development",
          "Research & Development",
          "Research & Development",
          "Sales",
          "Research & Development",
          "Research & Development",
          "Research & Development",
          "Research & Development",
          "Sales",
          "Research & Development",
          "Research & Development",
          "Research & Development",
          "Research & Development",
          "Sales",
          "Sales",
          "Research & Development",
          "Research & Development",
          "Sales",
          "Sales",
          "Research & Development",
          "Research & Development",
          "Research & Development",
          "Research & Development",
          "Research & Development",
          "Sales",
          "Research & Development",
          "Research & Development",
          "Research & Development",
          "Research & Development",
          "Sales",
          "Research & Development",
          "Sales",
          "Research & Development",
          "Research & Development",
          "Research & Development",
          "Research & Development",
          "Research & Development",
          "Sales",
          "Research & Development",
          "Sales",
          "Research & Development",
          "Research & Development",
          "Human Resources",
          "Research & Development",
          "Research & Development",
          "Research & Development",
          "Sales",
          "Sales",
          "Research & Development",
          "Sales",
          "Sales",
          "Sales",
          "Sales",
          "Research & Development",
          "Sales",
          "Research & Development",
          "Sales",
          "Research & Development",
          "Research & Development",
          "Research & Development",
          "Research & Development",
          "Sales",
          "Research & Development",
          "Research & Development",
          "Research & Development",
          "Sales",
          "Research & Development",
          "Sales",
          "Research & Development",
          "Sales",
          "Sales",
          "Research & Development",
          "Research & Development",
          "Research & Development",
          "Sales",
          "Research & Development",
          "Research & Development",
          "Research & Development",
          "Research & Development",
          "Research & Development",
          "Human Resources",
          "Research & Development",
          "Research & Development",
          "Research & Development",
          "Research & Development",
          "Sales",
          "Research & Development",
          "Sales",
          "Research & Development",
          "Human Resources",
          "Research & Development",
          "Research & Development",
          "Research & Development",
          "Research & Development",
          "Sales",
          "Research & Development",
          "Research & Development",
          "Sales",
          "Sales",
          "Research & Development",
          "Sales",
          "Research & Development",
          "Research & Development",
          "Research & Development",
          "Human Resources",
          "Human Resources",
          "Research & Development",
          "Research & Development",
          "Research & Development",
          "Research & Development",
          "Research & Development",
          "Sales",
          "Sales",
          "Research & Development",
          "Sales",
          "Research & Development",
          "Research & Development",
          "Sales",
          "Research & Development",
          "Research & Development",
          "Human Resources",
          "Research & Development",
          "Research & Development",
          "Research & Development",
          "Sales",
          "Sales",
          "Research & Development",
          "Research & Development",
          "Research & Development",
          "Research & Development",
          "Human Resources",
          "Research & Development",
          "Sales",
          "Research & Development",
          "Human Resources",
          "Research & Development",
          "Research & Development",
          "Sales",
          "Research & Development",
          "Sales",
          "Research & Development",
          "Research & Development",
          "Sales"
         ],
         "showlegend": true,
         "subplot": "polar",
         "theta": [
          "Life Sciences",
          "Life Sciences",
          "Life Sciences",
          "Life Sciences",
          "Life Sciences",
          "Life Sciences",
          "Life Sciences",
          "Medical",
          "Marketing",
          "Life Sciences",
          "Life Sciences",
          "Life Sciences",
          "Life Sciences",
          "Medical",
          "Life Sciences",
          "Life Sciences",
          "Medical",
          "Life Sciences",
          "Life Sciences",
          "Medical",
          "Life Sciences",
          "Technical Degree",
          "Life Sciences",
          "Life Sciences",
          "Medical",
          "Marketing",
          "Life Sciences",
          "Medical",
          "Life Sciences",
          "Medical",
          "Marketing",
          "Marketing",
          "Technical Degree",
          "Medical",
          "Life Sciences",
          "Medical",
          "Technical Degree",
          "Medical",
          "Medical",
          "Life Sciences",
          "Marketing",
          "Other",
          "Marketing",
          "Medical",
          "Marketing",
          "Medical",
          "Life Sciences",
          "Medical",
          "Technical Degree",
          "Medical",
          "Life Sciences",
          "Life Sciences",
          "Life Sciences",
          "Medical",
          "Life Sciences",
          "Life Sciences",
          "Marketing",
          "Medical",
          "Marketing",
          "Life Sciences",
          "Life Sciences",
          "Life Sciences",
          "Life Sciences",
          "Life Sciences",
          "Medical",
          "Marketing",
          "Life Sciences",
          "Life Sciences",
          "Medical",
          "Technical Degree",
          "Medical",
          "Marketing",
          "Technical Degree",
          "Technical Degree",
          "Medical",
          "Life Sciences",
          "Life Sciences",
          "Life Sciences",
          "Technical Degree",
          "Marketing",
          "Life Sciences",
          "Marketing",
          "Life Sciences",
          "Human Resources",
          "Other",
          "Technical Degree",
          "Life Sciences",
          "Life Sciences",
          "Marketing",
          "Medical",
          "Medical",
          "Medical",
          "Life Sciences",
          "Life Sciences",
          "Medical",
          "Medical",
          "Life Sciences",
          "Life Sciences",
          "Life Sciences",
          "Life Sciences",
          "Medical",
          "Technical Degree",
          "Life Sciences",
          "Life Sciences",
          "Medical",
          "Medical",
          "Life Sciences",
          "Life Sciences",
          "Life Sciences",
          "Life Sciences",
          "Marketing",
          "Life Sciences",
          "Medical",
          "Life Sciences",
          "Medical",
          "Life Sciences",
          "Life Sciences",
          "Medical",
          "Life Sciences",
          "Medical",
          "Medical",
          "Life Sciences",
          "Life Sciences",
          "Medical",
          "Life Sciences",
          "Life Sciences",
          "Medical",
          "Medical",
          "Technical Degree",
          "Medical",
          "Other",
          "Medical",
          "Medical",
          "Life Sciences",
          "Medical",
          "Medical",
          "Medical",
          "Marketing",
          "Life Sciences",
          "Other",
          "Medical",
          "Medical",
          "Marketing",
          "Life Sciences",
          "Medical",
          "Life Sciences",
          "Medical",
          "Other",
          "Life Sciences",
          "Life Sciences",
          "Life Sciences",
          "Life Sciences",
          "Marketing",
          "Life Sciences",
          "Life Sciences",
          "Life Sciences",
          "Medical",
          "Medical",
          "Life Sciences",
          "Medical",
          "Medical",
          "Other",
          "Life Sciences",
          "Medical",
          "Medical",
          "Medical",
          "Other",
          "Life Sciences",
          "Medical",
          "Life Sciences",
          "Technical Degree",
          "Life Sciences",
          "Life Sciences",
          "Life Sciences",
          "Medical",
          "Medical",
          "Life Sciences",
          "Life Sciences",
          "Medical",
          "Medical",
          "Life Sciences",
          "Marketing",
          "Life Sciences",
          "Marketing",
          "Life Sciences",
          "Life Sciences",
          "Marketing",
          "Life Sciences",
          "Marketing",
          "Life Sciences",
          "Life Sciences",
          "Medical",
          "Life Sciences",
          "Life Sciences",
          "Other",
          "Life Sciences",
          "Other",
          "Life Sciences",
          "Life Sciences",
          "Medical",
          "Medical",
          "Marketing",
          "Medical",
          "Technical Degree",
          "Technical Degree",
          "Medical",
          "Medical",
          "Medical",
          "Life Sciences",
          "Life Sciences",
          "Medical",
          "Life Sciences",
          "Medical",
          "Life Sciences",
          "Human Resources",
          "Life Sciences",
          "Life Sciences",
          "Technical Degree",
          "Medical",
          "Other",
          "Life Sciences",
          "Medical",
          "Medical",
          "Human Resources",
          "Medical",
          "Technical Degree",
          "Medical",
          "Life Sciences",
          "Other",
          "Life Sciences",
          "Medical",
          "Medical",
          "Medical",
          "Medical",
          "Life Sciences",
          "Life Sciences",
          "Technical Degree",
          "Technical Degree",
          "Medical",
          "Human Resources",
          "Life Sciences",
          "Medical",
          "Technical Degree",
          "Medical",
          "Life Sciences",
          "Life Sciences",
          "Marketing",
          "Life Sciences",
          "Life Sciences",
          "Life Sciences",
          "Medical",
          "Marketing",
          "Life Sciences",
          "Life Sciences",
          "Human Resources",
          "Medical",
          "Other",
          "Medical",
          "Life Sciences",
          "Technical Degree",
          "Other",
          "Medical",
          "Life Sciences",
          "Life Sciences",
          "Human Resources",
          "Life Sciences",
          "Marketing",
          "Life Sciences",
          "Other",
          "Technical Degree",
          "Life Sciences",
          "Marketing",
          "Life Sciences",
          "Life Sciences",
          "Life Sciences",
          "Medical",
          "Medical"
         ],
         "type": "barpolar"
        },
        {
         "hovertemplate": "BusinessTravel=Non-Travel<br>Department=%{r}<br>EducationField=%{theta}<extra></extra>",
         "legendgroup": "Non-Travel",
         "marker": {
          "color": "#fb9f3a"
         },
         "name": "Non-Travel",
         "r": [
          "Research & Development",
          "Research & Development",
          "Sales",
          "Research & Development",
          "Research & Development",
          "Sales",
          "Research & Development",
          "Research & Development",
          "Human Resources",
          "Human Resources",
          "Sales",
          "Research & Development",
          "Research & Development",
          "Research & Development",
          "Research & Development",
          "Research & Development",
          "Research & Development",
          "Research & Development",
          "Research & Development",
          "Research & Development",
          "Research & Development",
          "Sales",
          "Research & Development",
          "Sales",
          "Sales",
          "Sales",
          "Research & Development",
          "Research & Development",
          "Research & Development",
          "Research & Development",
          "Research & Development",
          "Sales",
          "Sales",
          "Sales",
          "Sales",
          "Sales",
          "Research & Development",
          "Sales",
          "Sales",
          "Research & Development",
          "Research & Development",
          "Sales",
          "Research & Development",
          "Sales",
          "Sales",
          "Sales",
          "Research & Development",
          "Sales",
          "Sales",
          "Research & Development",
          "Research & Development",
          "Research & Development",
          "Research & Development",
          "Sales",
          "Research & Development",
          "Research & Development",
          "Research & Development",
          "Research & Development",
          "Research & Development",
          "Sales",
          "Research & Development",
          "Sales",
          "Research & Development",
          "Research & Development",
          "Sales",
          "Sales",
          "Sales",
          "Research & Development",
          "Sales",
          "Research & Development",
          "Research & Development",
          "Research & Development",
          "Sales",
          "Sales",
          "Sales",
          "Research & Development",
          "Research & Development",
          "Research & Development",
          "Research & Development",
          "Research & Development",
          "Research & Development",
          "Sales",
          "Research & Development",
          "Research & Development",
          "Research & Development",
          "Sales",
          "Research & Development",
          "Research & Development",
          "Human Resources",
          "Sales",
          "Research & Development",
          "Research & Development",
          "Research & Development",
          "Research & Development",
          "Sales",
          "Sales",
          "Research & Development",
          "Research & Development",
          "Research & Development",
          "Research & Development",
          "Research & Development",
          "Research & Development",
          "Research & Development",
          "Research & Development",
          "Research & Development",
          "Research & Development",
          "Research & Development",
          "Sales",
          "Research & Development",
          "Research & Development",
          "Research & Development",
          "Sales",
          "Research & Development",
          "Research & Development",
          "Sales",
          "Research & Development",
          "Research & Development",
          "Human Resources",
          "Sales",
          "Research & Development",
          "Sales",
          "Research & Development",
          "Research & Development",
          "Sales",
          "Research & Development",
          "Sales",
          "Research & Development",
          "Human Resources",
          "Research & Development",
          "Sales",
          "Research & Development",
          "Sales",
          "Research & Development",
          "Human Resources",
          "Research & Development",
          "Sales",
          "Research & Development",
          "Research & Development",
          "Research & Development",
          "Research & Development",
          "Research & Development",
          "Research & Development",
          "Research & Development",
          "Research & Development",
          "Research & Development",
          "Sales",
          "Research & Development",
          "Research & Development",
          "Sales",
          "Research & Development"
         ],
         "showlegend": true,
         "subplot": "polar",
         "theta": [
          "Medical",
          "Other",
          "Marketing",
          "Medical",
          "Medical",
          "Medical",
          "Medical",
          "Life Sciences",
          "Human Resources",
          "Human Resources",
          "Marketing",
          "Technical Degree",
          "Medical",
          "Medical",
          "Medical",
          "Medical",
          "Medical",
          "Medical",
          "Life Sciences",
          "Life Sciences",
          "Life Sciences",
          "Medical",
          "Medical",
          "Life Sciences",
          "Marketing",
          "Life Sciences",
          "Life Sciences",
          "Life Sciences",
          "Medical",
          "Life Sciences",
          "Life Sciences",
          "Marketing",
          "Life Sciences",
          "Technical Degree",
          "Medical",
          "Medical",
          "Medical",
          "Marketing",
          "Marketing",
          "Medical",
          "Life Sciences",
          "Other",
          "Medical",
          "Medical",
          "Life Sciences",
          "Other",
          "Other",
          "Medical",
          "Other",
          "Life Sciences",
          "Life Sciences",
          "Medical",
          "Life Sciences",
          "Life Sciences",
          "Medical",
          "Life Sciences",
          "Medical",
          "Life Sciences",
          "Life Sciences",
          "Medical",
          "Life Sciences",
          "Marketing",
          "Life Sciences",
          "Life Sciences",
          "Technical Degree",
          "Life Sciences",
          "Technical Degree",
          "Medical",
          "Life Sciences",
          "Life Sciences",
          "Life Sciences",
          "Life Sciences",
          "Medical",
          "Life Sciences",
          "Life Sciences",
          "Medical",
          "Medical",
          "Technical Degree",
          "Life Sciences",
          "Life Sciences",
          "Medical",
          "Life Sciences",
          "Life Sciences",
          "Life Sciences",
          "Medical",
          "Life Sciences",
          "Life Sciences",
          "Life Sciences",
          "Medical",
          "Marketing",
          "Medical",
          "Medical",
          "Medical",
          "Life Sciences",
          "Life Sciences",
          "Medical",
          "Life Sciences",
          "Life Sciences",
          "Life Sciences",
          "Technical Degree",
          "Life Sciences",
          "Technical Degree",
          "Other",
          "Life Sciences",
          "Medical",
          "Life Sciences",
          "Technical Degree",
          "Life Sciences",
          "Life Sciences",
          "Technical Degree",
          "Other",
          "Marketing",
          "Life Sciences",
          "Medical",
          "Life Sciences",
          "Medical",
          "Life Sciences",
          "Human Resources",
          "Marketing",
          "Life Sciences",
          "Marketing",
          "Technical Degree",
          "Technical Degree",
          "Life Sciences",
          "Medical",
          "Life Sciences",
          "Medical",
          "Human Resources",
          "Life Sciences",
          "Medical",
          "Medical",
          "Life Sciences",
          "Technical Degree",
          "Life Sciences",
          "Technical Degree",
          "Life Sciences",
          "Technical Degree",
          "Medical",
          "Medical",
          "Life Sciences",
          "Medical",
          "Life Sciences",
          "Medical",
          "Medical",
          "Medical",
          "Life Sciences",
          "Life Sciences",
          "Life Sciences",
          "Marketing",
          "Medical"
         ],
         "type": "barpolar"
        }
       ],
       "layout": {
        "barmode": "relative",
        "legend": {
         "title": {
          "text": "BusinessTravel"
         },
         "tracegroupgap": 0
        },
        "polar": {
         "angularaxis": {
          "direction": "clockwise",
          "rotation": 90
         },
         "domain": {
          "x": [
           0,
           1
          ],
          "y": [
           0,
           1
          ]
         }
        },
        "template": {
         "data": {
          "bar": [
           {
            "error_x": {
             "color": "#2a3f5f"
            },
            "error_y": {
             "color": "#2a3f5f"
            },
            "marker": {
             "line": {
              "color": "#E5ECF6",
              "width": 0.5
             }
            },
            "type": "bar"
           }
          ],
          "barpolar": [
           {
            "marker": {
             "line": {
              "color": "#E5ECF6",
              "width": 0.5
             }
            },
            "type": "barpolar"
           }
          ],
          "carpet": [
           {
            "aaxis": {
             "endlinecolor": "#2a3f5f",
             "gridcolor": "white",
             "linecolor": "white",
             "minorgridcolor": "white",
             "startlinecolor": "#2a3f5f"
            },
            "baxis": {
             "endlinecolor": "#2a3f5f",
             "gridcolor": "white",
             "linecolor": "white",
             "minorgridcolor": "white",
             "startlinecolor": "#2a3f5f"
            },
            "type": "carpet"
           }
          ],
          "choropleth": [
           {
            "colorbar": {
             "outlinewidth": 0,
             "ticks": ""
            },
            "type": "choropleth"
           }
          ],
          "contour": [
           {
            "colorbar": {
             "outlinewidth": 0,
             "ticks": ""
            },
            "colorscale": [
             [
              0,
              "#0d0887"
             ],
             [
              0.1111111111111111,
              "#46039f"
             ],
             [
              0.2222222222222222,
              "#7201a8"
             ],
             [
              0.3333333333333333,
              "#9c179e"
             ],
             [
              0.4444444444444444,
              "#bd3786"
             ],
             [
              0.5555555555555556,
              "#d8576b"
             ],
             [
              0.6666666666666666,
              "#ed7953"
             ],
             [
              0.7777777777777778,
              "#fb9f3a"
             ],
             [
              0.8888888888888888,
              "#fdca26"
             ],
             [
              1,
              "#f0f921"
             ]
            ],
            "type": "contour"
           }
          ],
          "contourcarpet": [
           {
            "colorbar": {
             "outlinewidth": 0,
             "ticks": ""
            },
            "type": "contourcarpet"
           }
          ],
          "heatmap": [
           {
            "colorbar": {
             "outlinewidth": 0,
             "ticks": ""
            },
            "colorscale": [
             [
              0,
              "#0d0887"
             ],
             [
              0.1111111111111111,
              "#46039f"
             ],
             [
              0.2222222222222222,
              "#7201a8"
             ],
             [
              0.3333333333333333,
              "#9c179e"
             ],
             [
              0.4444444444444444,
              "#bd3786"
             ],
             [
              0.5555555555555556,
              "#d8576b"
             ],
             [
              0.6666666666666666,
              "#ed7953"
             ],
             [
              0.7777777777777778,
              "#fb9f3a"
             ],
             [
              0.8888888888888888,
              "#fdca26"
             ],
             [
              1,
              "#f0f921"
             ]
            ],
            "type": "heatmap"
           }
          ],
          "heatmapgl": [
           {
            "colorbar": {
             "outlinewidth": 0,
             "ticks": ""
            },
            "colorscale": [
             [
              0,
              "#0d0887"
             ],
             [
              0.1111111111111111,
              "#46039f"
             ],
             [
              0.2222222222222222,
              "#7201a8"
             ],
             [
              0.3333333333333333,
              "#9c179e"
             ],
             [
              0.4444444444444444,
              "#bd3786"
             ],
             [
              0.5555555555555556,
              "#d8576b"
             ],
             [
              0.6666666666666666,
              "#ed7953"
             ],
             [
              0.7777777777777778,
              "#fb9f3a"
             ],
             [
              0.8888888888888888,
              "#fdca26"
             ],
             [
              1,
              "#f0f921"
             ]
            ],
            "type": "heatmapgl"
           }
          ],
          "histogram": [
           {
            "marker": {
             "colorbar": {
              "outlinewidth": 0,
              "ticks": ""
             }
            },
            "type": "histogram"
           }
          ],
          "histogram2d": [
           {
            "colorbar": {
             "outlinewidth": 0,
             "ticks": ""
            },
            "colorscale": [
             [
              0,
              "#0d0887"
             ],
             [
              0.1111111111111111,
              "#46039f"
             ],
             [
              0.2222222222222222,
              "#7201a8"
             ],
             [
              0.3333333333333333,
              "#9c179e"
             ],
             [
              0.4444444444444444,
              "#bd3786"
             ],
             [
              0.5555555555555556,
              "#d8576b"
             ],
             [
              0.6666666666666666,
              "#ed7953"
             ],
             [
              0.7777777777777778,
              "#fb9f3a"
             ],
             [
              0.8888888888888888,
              "#fdca26"
             ],
             [
              1,
              "#f0f921"
             ]
            ],
            "type": "histogram2d"
           }
          ],
          "histogram2dcontour": [
           {
            "colorbar": {
             "outlinewidth": 0,
             "ticks": ""
            },
            "colorscale": [
             [
              0,
              "#0d0887"
             ],
             [
              0.1111111111111111,
              "#46039f"
             ],
             [
              0.2222222222222222,
              "#7201a8"
             ],
             [
              0.3333333333333333,
              "#9c179e"
             ],
             [
              0.4444444444444444,
              "#bd3786"
             ],
             [
              0.5555555555555556,
              "#d8576b"
             ],
             [
              0.6666666666666666,
              "#ed7953"
             ],
             [
              0.7777777777777778,
              "#fb9f3a"
             ],
             [
              0.8888888888888888,
              "#fdca26"
             ],
             [
              1,
              "#f0f921"
             ]
            ],
            "type": "histogram2dcontour"
           }
          ],
          "mesh3d": [
           {
            "colorbar": {
             "outlinewidth": 0,
             "ticks": ""
            },
            "type": "mesh3d"
           }
          ],
          "parcoords": [
           {
            "line": {
             "colorbar": {
              "outlinewidth": 0,
              "ticks": ""
             }
            },
            "type": "parcoords"
           }
          ],
          "pie": [
           {
            "automargin": true,
            "type": "pie"
           }
          ],
          "scatter": [
           {
            "marker": {
             "colorbar": {
              "outlinewidth": 0,
              "ticks": ""
             }
            },
            "type": "scatter"
           }
          ],
          "scatter3d": [
           {
            "line": {
             "colorbar": {
              "outlinewidth": 0,
              "ticks": ""
             }
            },
            "marker": {
             "colorbar": {
              "outlinewidth": 0,
              "ticks": ""
             }
            },
            "type": "scatter3d"
           }
          ],
          "scattercarpet": [
           {
            "marker": {
             "colorbar": {
              "outlinewidth": 0,
              "ticks": ""
             }
            },
            "type": "scattercarpet"
           }
          ],
          "scattergeo": [
           {
            "marker": {
             "colorbar": {
              "outlinewidth": 0,
              "ticks": ""
             }
            },
            "type": "scattergeo"
           }
          ],
          "scattergl": [
           {
            "marker": {
             "colorbar": {
              "outlinewidth": 0,
              "ticks": ""
             }
            },
            "type": "scattergl"
           }
          ],
          "scattermapbox": [
           {
            "marker": {
             "colorbar": {
              "outlinewidth": 0,
              "ticks": ""
             }
            },
            "type": "scattermapbox"
           }
          ],
          "scatterpolar": [
           {
            "marker": {
             "colorbar": {
              "outlinewidth": 0,
              "ticks": ""
             }
            },
            "type": "scatterpolar"
           }
          ],
          "scatterpolargl": [
           {
            "marker": {
             "colorbar": {
              "outlinewidth": 0,
              "ticks": ""
             }
            },
            "type": "scatterpolargl"
           }
          ],
          "scatterternary": [
           {
            "marker": {
             "colorbar": {
              "outlinewidth": 0,
              "ticks": ""
             }
            },
            "type": "scatterternary"
           }
          ],
          "surface": [
           {
            "colorbar": {
             "outlinewidth": 0,
             "ticks": ""
            },
            "colorscale": [
             [
              0,
              "#0d0887"
             ],
             [
              0.1111111111111111,
              "#46039f"
             ],
             [
              0.2222222222222222,
              "#7201a8"
             ],
             [
              0.3333333333333333,
              "#9c179e"
             ],
             [
              0.4444444444444444,
              "#bd3786"
             ],
             [
              0.5555555555555556,
              "#d8576b"
             ],
             [
              0.6666666666666666,
              "#ed7953"
             ],
             [
              0.7777777777777778,
              "#fb9f3a"
             ],
             [
              0.8888888888888888,
              "#fdca26"
             ],
             [
              1,
              "#f0f921"
             ]
            ],
            "type": "surface"
           }
          ],
          "table": [
           {
            "cells": {
             "fill": {
              "color": "#EBF0F8"
             },
             "line": {
              "color": "white"
             }
            },
            "header": {
             "fill": {
              "color": "#C8D4E3"
             },
             "line": {
              "color": "white"
             }
            },
            "type": "table"
           }
          ]
         },
         "layout": {
          "annotationdefaults": {
           "arrowcolor": "#2a3f5f",
           "arrowhead": 0,
           "arrowwidth": 1
          },
          "coloraxis": {
           "colorbar": {
            "outlinewidth": 0,
            "ticks": ""
           }
          },
          "colorscale": {
           "diverging": [
            [
             0,
             "#8e0152"
            ],
            [
             0.1,
             "#c51b7d"
            ],
            [
             0.2,
             "#de77ae"
            ],
            [
             0.3,
             "#f1b6da"
            ],
            [
             0.4,
             "#fde0ef"
            ],
            [
             0.5,
             "#f7f7f7"
            ],
            [
             0.6,
             "#e6f5d0"
            ],
            [
             0.7,
             "#b8e186"
            ],
            [
             0.8,
             "#7fbc41"
            ],
            [
             0.9,
             "#4d9221"
            ],
            [
             1,
             "#276419"
            ]
           ],
           "sequential": [
            [
             0,
             "#0d0887"
            ],
            [
             0.1111111111111111,
             "#46039f"
            ],
            [
             0.2222222222222222,
             "#7201a8"
            ],
            [
             0.3333333333333333,
             "#9c179e"
            ],
            [
             0.4444444444444444,
             "#bd3786"
            ],
            [
             0.5555555555555556,
             "#d8576b"
            ],
            [
             0.6666666666666666,
             "#ed7953"
            ],
            [
             0.7777777777777778,
             "#fb9f3a"
            ],
            [
             0.8888888888888888,
             "#fdca26"
            ],
            [
             1,
             "#f0f921"
            ]
           ],
           "sequentialminus": [
            [
             0,
             "#0d0887"
            ],
            [
             0.1111111111111111,
             "#46039f"
            ],
            [
             0.2222222222222222,
             "#7201a8"
            ],
            [
             0.3333333333333333,
             "#9c179e"
            ],
            [
             0.4444444444444444,
             "#bd3786"
            ],
            [
             0.5555555555555556,
             "#d8576b"
            ],
            [
             0.6666666666666666,
             "#ed7953"
            ],
            [
             0.7777777777777778,
             "#fb9f3a"
            ],
            [
             0.8888888888888888,
             "#fdca26"
            ],
            [
             1,
             "#f0f921"
            ]
           ]
          },
          "colorway": [
           "#636efa",
           "#EF553B",
           "#00cc96",
           "#ab63fa",
           "#FFA15A",
           "#19d3f3",
           "#FF6692",
           "#B6E880",
           "#FF97FF",
           "#FECB52"
          ],
          "font": {
           "color": "#2a3f5f"
          },
          "geo": {
           "bgcolor": "white",
           "lakecolor": "white",
           "landcolor": "#E5ECF6",
           "showlakes": true,
           "showland": true,
           "subunitcolor": "white"
          },
          "hoverlabel": {
           "align": "left"
          },
          "hovermode": "closest",
          "mapbox": {
           "style": "light"
          },
          "paper_bgcolor": "white",
          "plot_bgcolor": "#E5ECF6",
          "polar": {
           "angularaxis": {
            "gridcolor": "white",
            "linecolor": "white",
            "ticks": ""
           },
           "bgcolor": "#E5ECF6",
           "radialaxis": {
            "gridcolor": "white",
            "linecolor": "white",
            "ticks": ""
           }
          },
          "scene": {
           "xaxis": {
            "backgroundcolor": "#E5ECF6",
            "gridcolor": "white",
            "gridwidth": 2,
            "linecolor": "white",
            "showbackground": true,
            "ticks": "",
            "zerolinecolor": "white"
           },
           "yaxis": {
            "backgroundcolor": "#E5ECF6",
            "gridcolor": "white",
            "gridwidth": 2,
            "linecolor": "white",
            "showbackground": true,
            "ticks": "",
            "zerolinecolor": "white"
           },
           "zaxis": {
            "backgroundcolor": "#E5ECF6",
            "gridcolor": "white",
            "gridwidth": 2,
            "linecolor": "white",
            "showbackground": true,
            "ticks": "",
            "zerolinecolor": "white"
           }
          },
          "shapedefaults": {
           "line": {
            "color": "#2a3f5f"
           }
          },
          "ternary": {
           "aaxis": {
            "gridcolor": "white",
            "linecolor": "white",
            "ticks": ""
           },
           "baxis": {
            "gridcolor": "white",
            "linecolor": "white",
            "ticks": ""
           },
           "bgcolor": "#E5ECF6",
           "caxis": {
            "gridcolor": "white",
            "linecolor": "white",
            "ticks": ""
           }
          },
          "title": {
           "x": 0.05
          },
          "xaxis": {
           "automargin": true,
           "gridcolor": "white",
           "linecolor": "white",
           "ticks": "",
           "title": {
            "standoff": 15
           },
           "zerolinecolor": "white",
           "zerolinewidth": 2
          },
          "yaxis": {
           "automargin": true,
           "gridcolor": "white",
           "linecolor": "white",
           "ticks": "",
           "title": {
            "standoff": 15
           },
           "zerolinecolor": "white",
           "zerolinewidth": 2
          }
         }
        },
        "title": {
         "text": "Part of a continuous color scale used as a discrete sequence"
        }
       }
      },
      "text/html": [
       "<div>\n",
       "        \n",
       "        \n",
       "            <div id=\"3f7b77f1-82a4-4f01-8cb7-7c02db77587e\" class=\"plotly-graph-div\" style=\"height:525px; width:100%;\"></div>\n",
       "            <script type=\"text/javascript\">\n",
       "                require([\"plotly\"], function(Plotly) {\n",
       "                    window.PLOTLYENV=window.PLOTLYENV || {};\n",
       "                    \n",
       "                if (document.getElementById(\"3f7b77f1-82a4-4f01-8cb7-7c02db77587e\")) {\n",
       "                    Plotly.newPlot(\n",
       "                        '3f7b77f1-82a4-4f01-8cb7-7c02db77587e',\n",
       "                        [{\"hovertemplate\": \"BusinessTravel=Travel_Rarely<br>Department=%{r}<br>EducationField=%{theta}<extra></extra>\", \"legendgroup\": \"Travel_Rarely\", \"marker\": {\"color\": \"#f0f921\"}, \"name\": \"Travel_Rarely\", \"r\": [\"Sales\", \"Research & Development\", \"Research & Development\", \"Research & Development\", \"Research & Development\", \"Research & Development\", \"Research & Development\", \"Research & Development\", \"Research & Development\", \"Research & Development\", \"Research & Development\", \"Research & Development\", \"Research & Development\", \"Sales\", \"Research & Development\", \"Sales\", \"Research & Development\", \"Research & Development\", \"Research & Development\", \"Research & Development\", \"Sales\", \"Research & Development\", \"Sales\", \"Research & Development\", \"Research & Development\", \"Research & Development\", \"Sales\", \"Research & Development\", \"Research & Development\", \"Sales\", \"Sales\", \"Research & Development\", \"Research & Development\", \"Research & Development\", \"Research & Development\", \"Research & Development\", \"Research & Development\", \"Research & Development\", \"Research & Development\", \"Research & Development\", \"Sales\", \"Sales\", \"Research & Development\", \"Research & Development\", \"Research & Development\", \"Research & Development\", \"Research & Development\", \"Sales\", \"Research & Development\", \"Research & Development\", \"Research & Development\", \"Research & Development\", \"Research & Development\", \"Research & Development\", \"Research & Development\", \"Research & Development\", \"Research & Development\", \"Sales\", \"Research & Development\", \"Research & Development\", \"Human Resources\", \"Research & Development\", \"Research & Development\", \"Sales\", \"Research & Development\", \"Research & Development\", \"Sales\", \"Research & Development\", \"Research & Development\", \"Sales\", \"Sales\", \"Sales\", \"Sales\", \"Research & Development\", \"Sales\", \"Sales\", \"Human Resources\", \"Research & Development\", \"Research & Development\", \"Sales\", \"Research & Development\", \"Research & Development\", \"Research & Development\", \"Research & Development\", \"Sales\", \"Research & Development\", \"Research & Development\", \"Research & Development\", \"Research & Development\", \"Sales\", \"Research & Development\", \"Research & Development\", \"Sales\", \"Research & Development\", \"Research & Development\", \"Sales\", \"Sales\", \"Human Resources\", \"Research & Development\", \"Sales\", \"Sales\", \"Human Resources\", \"Research & Development\", \"Research & Development\", \"Research & Development\", \"Research & Development\", \"Research & Development\", \"Research & Development\", \"Research & Development\", \"Research & Development\", \"Sales\", \"Sales\", \"Research & Development\", \"Research & Development\", \"Research & Development\", \"Sales\", \"Research & Development\", \"Research & Development\", \"Research & Development\", \"Research & Development\", \"Research & Development\", \"Sales\", \"Sales\", \"Research & Development\", \"Research & Development\", \"Sales\", \"Research & Development\", \"Research & Development\", \"Research & Development\", \"Sales\", \"Research & Development\", \"Research & Development\", \"Research & Development\", \"Sales\", \"Research & Development\", \"Research & Development\", \"Research & Development\", \"Research & Development\", \"Research & Development\", \"Research & Development\", \"Research & Development\", \"Research & Development\", \"Research & Development\", \"Research & Development\", \"Research & Development\", \"Research & Development\", \"Research & Development\", \"Research & Development\", \"Sales\", \"Research & Development\", \"Research & Development\", \"Sales\", \"Research & Development\", \"Research & Development\", \"Sales\", \"Research & Development\", \"Sales\", \"Research & Development\", \"Research & Development\", \"Sales\", \"Research & Development\", \"Research & Development\", \"Research & Development\", \"Research & Development\", \"Human Resources\", \"Sales\", \"Research & Development\", \"Sales\", \"Research & Development\", \"Sales\", \"Research & Development\", \"Research & Development\", \"Research & Development\", \"Research & Development\", \"Research & Development\", \"Research & Development\", \"Research & Development\", \"Research & Development\", \"Research & Development\", \"Research & Development\", \"Sales\", \"Research & Development\", \"Research & Development\", \"Research & Development\", \"Research & Development\", \"Research & Development\", \"Sales\", \"Research & Development\", \"Sales\", \"Research & Development\", \"Research & Development\", \"Research & Development\", \"Research & Development\", \"Research & Development\", \"Sales\", \"Research & Development\", \"Research & Development\", \"Sales\", \"Research & Development\", \"Research & Development\", \"Sales\", \"Research & Development\", \"Research & Development\", \"Research & Development\", \"Research & Development\", \"Research & Development\", \"Research & Development\", \"Sales\", \"Research & Development\", \"Sales\", \"Research & Development\", \"Sales\", \"Sales\", \"Research & Development\", \"Sales\", \"Research & Development\", \"Sales\", \"Research & Development\", \"Research & Development\", \"Human Resources\", \"Research & Development\", \"Research & Development\", \"Research & Development\", \"Research & Development\", \"Research & Development\", \"Sales\", \"Sales\", \"Sales\", \"Research & Development\", \"Research & Development\", \"Research & Development\", \"Sales\", \"Research & Development\", \"Research & Development\", \"Research & Development\", \"Sales\", \"Research & Development\", \"Research & Development\", \"Sales\", \"Sales\", \"Research & Development\", \"Research & Development\", \"Research & Development\", \"Sales\", \"Research & Development\", \"Research & Development\", \"Research & Development\", \"Research & Development\", \"Human Resources\", \"Research & Development\", \"Sales\", \"Research & Development\", \"Sales\", \"Research & Development\", \"Research & Development\", \"Research & Development\", \"Sales\", \"Research & Development\", \"Research & Development\", \"Sales\", \"Research & Development\", \"Sales\", \"Research & Development\", \"Research & Development\", \"Research & Development\", \"Sales\", \"Research & Development\", \"Sales\", \"Research & Development\", \"Research & Development\", \"Sales\", \"Sales\", \"Research & Development\", \"Sales\", \"Research & Development\", \"Sales\", \"Research & Development\", \"Research & Development\", \"Research & Development\", \"Research & Development\", \"Research & Development\", \"Research & Development\", \"Research & Development\", \"Sales\", \"Research & Development\", \"Sales\", \"Sales\", \"Research & Development\", \"Research & Development\", \"Research & Development\", \"Research & Development\", \"Research & Development\", \"Research & Development\", \"Research & Development\", \"Research & Development\", \"Sales\", \"Sales\", \"Research & Development\", \"Research & Development\", \"Research & Development\", \"Human Resources\", \"Sales\", \"Research & Development\", \"Research & Development\", \"Research & Development\", \"Research & Development\", \"Research & Development\", \"Research & Development\", \"Sales\", \"Research & Development\", \"Research & Development\", \"Research & Development\", \"Sales\", \"Research & Development\", \"Sales\", \"Sales\", \"Sales\", \"Research & Development\", \"Sales\", \"Research & Development\", \"Sales\", \"Research & Development\", \"Research & Development\", \"Sales\", \"Sales\", \"Sales\", \"Sales\", \"Research & Development\", \"Research & Development\", \"Sales\", \"Research & Development\", \"Research & Development\", \"Research & Development\", \"Research & Development\", \"Research & Development\", \"Sales\", \"Research & Development\", \"Sales\", \"Research & Development\", \"Sales\", \"Research & Development\", \"Sales\", \"Research & Development\", \"Sales\", \"Research & Development\", \"Research & Development\", \"Research & Development\", \"Research & Development\", \"Research & Development\", \"Human Resources\", \"Sales\", \"Sales\", \"Sales\", \"Research & Development\", \"Research & Development\", \"Sales\", \"Research & Development\", \"Sales\", \"Research & Development\", \"Research & Development\", \"Research & Development\", \"Sales\", \"Research & Development\", \"Human Resources\", \"Research & Development\", \"Research & Development\", \"Research & Development\", \"Research & Development\", \"Sales\", \"Sales\", \"Sales\", \"Research & Development\", \"Research & Development\", \"Research & Development\", \"Sales\", \"Research & Development\", \"Sales\", \"Research & Development\", \"Research & Development\", \"Research & Development\", \"Sales\", \"Research & Development\", \"Human Resources\", \"Sales\", \"Human Resources\", \"Sales\", \"Research & Development\", \"Research & Development\", \"Sales\", \"Sales\", \"Research & Development\", \"Research & Development\", \"Human Resources\", \"Research & Development\", \"Research & Development\", \"Research & Development\", \"Sales\", \"Research & Development\", \"Research & Development\", \"Research & Development\", \"Sales\", \"Research & Development\", \"Sales\", \"Sales\", \"Research & Development\", \"Sales\", \"Research & Development\", \"Research & Development\", \"Sales\", \"Research & Development\", \"Research & Development\", \"Research & Development\", \"Research & Development\", \"Sales\", \"Research & Development\", \"Sales\", \"Research & Development\", \"Research & Development\", \"Research & Development\", \"Research & Development\", \"Research & Development\", \"Sales\", \"Research & Development\", \"Research & Development\", \"Research & Development\", \"Research & Development\", \"Research & Development\", \"Research & Development\", \"Research & Development\", \"Human Resources\", \"Research & Development\", \"Research & Development\", \"Research & Development\", \"Research & Development\", \"Sales\", \"Sales\", \"Research & Development\", \"Research & Development\", \"Research & Development\", \"Sales\", \"Human Resources\", \"Sales\", \"Research & Development\", \"Research & Development\", \"Sales\", \"Research & Development\", \"Sales\", \"Sales\", \"Sales\", \"Sales\", \"Research & Development\", \"Sales\", \"Human Resources\", \"Research & Development\", \"Research & Development\", \"Human Resources\", \"Sales\", \"Research & Development\", \"Sales\", \"Research & Development\", \"Sales\", \"Research & Development\", \"Research & Development\", \"Sales\", \"Sales\", \"Research & Development\", \"Research & Development\", \"Sales\", \"Human Resources\", \"Human Resources\", \"Research & Development\", \"Research & Development\", \"Research & Development\", \"Sales\", \"Research & Development\", \"Sales\", \"Research & Development\", \"Research & Development\", \"Sales\", \"Research & Development\", \"Research & Development\", \"Research & Development\", \"Research & Development\", \"Research & Development\", \"Research & Development\", \"Sales\", \"Research & Development\", \"Research & Development\", \"Sales\", \"Research & Development\", \"Research & Development\", \"Research & Development\", \"Research & Development\", \"Research & Development\", \"Sales\", \"Sales\", \"Research & Development\", \"Research & Development\", \"Sales\", \"Research & Development\", \"Research & Development\", \"Research & Development\", \"Sales\", \"Research & Development\", \"Sales\", \"Sales\", \"Research & Development\", \"Research & Development\", \"Sales\", \"Sales\", \"Sales\", \"Sales\", \"Research & Development\", \"Research & Development\", \"Research & Development\", \"Research & Development\", \"Research & Development\", \"Sales\", \"Research & Development\", \"Research & Development\", \"Research & Development\", \"Research & Development\", \"Research & Development\", \"Research & Development\", \"Research & Development\", \"Research & Development\", \"Research & Development\", \"Research & Development\", \"Research & Development\", \"Research & Development\", \"Research & Development\", \"Research & Development\", \"Research & Development\", \"Research & Development\", \"Research & Development\", \"Sales\", \"Research & Development\", \"Research & Development\", \"Research & Development\", \"Sales\", \"Sales\", \"Sales\", \"Research & Development\", \"Sales\", \"Sales\", \"Sales\", \"Human Resources\", \"Research & Development\", \"Sales\", \"Sales\", \"Research & Development\", \"Research & Development\", \"Sales\", \"Research & Development\", \"Sales\", \"Research & Development\", \"Sales\", \"Research & Development\", \"Research & Development\", \"Research & Development\", \"Research & Development\", \"Research & Development\", \"Research & Development\", \"Research & Development\", \"Research & Development\", \"Research & Development\", \"Human Resources\", \"Research & Development\", \"Sales\", \"Research & Development\", \"Sales\", \"Research & Development\", \"Research & Development\", \"Research & Development\", \"Research & Development\", \"Research & Development\", \"Sales\", \"Research & Development\", \"Research & Development\", \"Sales\", \"Sales\", \"Research & Development\", \"Research & Development\", \"Research & Development\", \"Sales\", \"Research & Development\", \"Research & Development\", \"Human Resources\", \"Sales\", \"Research & Development\", \"Research & Development\", \"Research & Development\", \"Sales\", \"Human Resources\", \"Sales\", \"Sales\", \"Research & Development\", \"Research & Development\", \"Research & Development\", \"Research & Development\", \"Sales\", \"Research & Development\", \"Sales\", \"Research & Development\", \"Research & Development\", \"Research & Development\", \"Research & Development\", \"Research & Development\", \"Research & Development\", \"Research & Development\", \"Research & Development\", \"Research & Development\", \"Sales\", \"Human Resources\", \"Sales\", \"Research & Development\", \"Research & Development\", \"Sales\", \"Research & Development\", \"Research & Development\", \"Research & Development\", \"Research & Development\", \"Sales\", \"Research & Development\", \"Sales\", \"Research & Development\", \"Research & Development\", \"Sales\", \"Sales\", \"Research & Development\", \"Research & Development\", \"Research & Development\", \"Research & Development\", \"Research & Development\", \"Research & Development\", \"Research & Development\", \"Sales\", \"Research & Development\", \"Research & Development\", \"Research & Development\", \"Research & Development\", \"Research & Development\", \"Research & Development\", \"Research & Development\", \"Research & Development\", \"Sales\", \"Sales\", \"Research & Development\", \"Research & Development\", \"Research & Development\", \"Sales\", \"Sales\", \"Sales\", \"Research & Development\", \"Research & Development\", \"Research & Development\", \"Research & Development\", \"Sales\", \"Research & Development\", \"Research & Development\", \"Research & Development\", \"Research & Development\", \"Research & Development\", \"Sales\", \"Research & Development\", \"Research & Development\", \"Research & Development\", \"Research & Development\", \"Research & Development\", \"Research & Development\", \"Human Resources\", \"Research & Development\", \"Sales\", \"Sales\", \"Research & Development\", \"Research & Development\", \"Research & Development\", \"Research & Development\", \"Human Resources\", \"Research & Development\", \"Research & Development\", \"Human Resources\", \"Sales\", \"Sales\", \"Research & Development\", \"Research & Development\", \"Research & Development\", \"Research & Development\", \"Sales\", \"Research & Development\", \"Research & Development\", \"Sales\", \"Research & Development\", \"Research & Development\", \"Research & Development\", \"Research & Development\", \"Sales\", \"Research & Development\", \"Sales\", \"Research & Development\", \"Sales\", \"Sales\", \"Research & Development\", \"Sales\", \"Research & Development\", \"Research & Development\", \"Human Resources\", \"Research & Development\", \"Research & Development\", \"Research & Development\", \"Research & Development\", \"Human Resources\", \"Research & Development\", \"Research & Development\", \"Research & Development\", \"Sales\", \"Sales\", \"Research & Development\", \"Research & Development\", \"Research & Development\", \"Research & Development\", \"Sales\", \"Research & Development\", \"Sales\", \"Research & Development\", \"Research & Development\", \"Sales\", \"Sales\", \"Research & Development\", \"Research & Development\", \"Sales\", \"Sales\", \"Research & Development\", \"Human Resources\", \"Research & Development\", \"Sales\", \"Human Resources\", \"Sales\", \"Research & Development\", \"Research & Development\", \"Research & Development\", \"Research & Development\", \"Sales\", \"Sales\", \"Research & Development\", \"Research & Development\", \"Sales\", \"Sales\", \"Sales\", \"Human Resources\", \"Research & Development\", \"Research & Development\", \"Sales\", \"Research & Development\", \"Research & Development\", \"Research & Development\", \"Research & Development\", \"Research & Development\", \"Research & Development\", \"Research & Development\", \"Research & Development\", \"Sales\", \"Research & Development\", \"Research & Development\", \"Research & Development\", \"Sales\", \"Sales\", \"Research & Development\", \"Research & Development\", \"Research & Development\", \"Research & Development\", \"Research & Development\", \"Sales\", \"Research & Development\", \"Human Resources\", \"Research & Development\", \"Research & Development\", \"Sales\", \"Research & Development\", \"Sales\", \"Sales\", \"Research & Development\", \"Sales\", \"Sales\", \"Research & Development\", \"Sales\", \"Research & Development\", \"Research & Development\", \"Research & Development\", \"Research & Development\", \"Research & Development\", \"Sales\", \"Research & Development\", \"Research & Development\", \"Sales\", \"Sales\", \"Sales\", \"Research & Development\", \"Research & Development\", \"Sales\", \"Sales\", \"Research & Development\", \"Research & Development\", \"Research & Development\", \"Sales\", \"Research & Development\", \"Research & Development\", \"Sales\", \"Research & Development\", \"Research & Development\", \"Research & Development\", \"Research & Development\", \"Research & Development\", \"Research & Development\", \"Research & Development\", \"Research & Development\", \"Research & Development\", \"Research & Development\", \"Research & Development\", \"Research & Development\", \"Human Resources\", \"Research & Development\", \"Research & Development\", \"Research & Development\", \"Research & Development\", \"Research & Development\", \"Sales\", \"Research & Development\", \"Research & Development\", \"Sales\", \"Research & Development\", \"Research & Development\", \"Sales\", \"Research & Development\", \"Research & Development\", \"Research & Development\", \"Research & Development\", \"Sales\", \"Research & Development\", \"Research & Development\", \"Research & Development\", \"Research & Development\", \"Research & Development\", \"Research & Development\", \"Sales\", \"Sales\", \"Research & Development\", \"Sales\", \"Research & Development\", \"Sales\", \"Research & Development\", \"Sales\", \"Sales\", \"Research & Development\", \"Human Resources\", \"Research & Development\", \"Research & Development\", \"Research & Development\", \"Research & Development\", \"Research & Development\", \"Research & Development\", \"Research & Development\", \"Research & Development\", \"Research & Development\", \"Sales\", \"Research & Development\", \"Sales\", \"Research & Development\", \"Sales\", \"Research & Development\", \"Sales\", \"Human Resources\", \"Research & Development\", \"Research & Development\", \"Research & Development\", \"Research & Development\", \"Research & Development\", \"Research & Development\", \"Research & Development\", \"Research & Development\", \"Sales\", \"Sales\", \"Sales\", \"Research & Development\", \"Sales\", \"Sales\", \"Human Resources\", \"Sales\", \"Research & Development\", \"Sales\", \"Sales\", \"Research & Development\", \"Sales\", \"Sales\", \"Sales\", \"Research & Development\", \"Research & Development\", \"Research & Development\", \"Research & Development\", \"Research & Development\", \"Research & Development\", \"Human Resources\", \"Sales\", \"Sales\", \"Research & Development\", \"Research & Development\", \"Sales\", \"Research & Development\", \"Sales\", \"Research & Development\", \"Research & Development\", \"Human Resources\", \"Sales\", \"Research & Development\", \"Research & Development\", \"Research & Development\", \"Research & Development\", \"Research & Development\", \"Research & Development\", \"Research & Development\", \"Sales\", \"Research & Development\", \"Human Resources\", \"Research & Development\", \"Research & Development\", \"Sales\", \"Research & Development\", \"Research & Development\", \"Research & Development\", \"Research & Development\", \"Research & Development\", \"Sales\", \"Sales\", \"Human Resources\", \"Human Resources\", \"Research & Development\", \"Research & Development\", \"Research & Development\", \"Research & Development\", \"Research & Development\", \"Sales\", \"Sales\", \"Sales\", \"Human Resources\", \"Research & Development\", \"Research & Development\", \"Sales\", \"Research & Development\", \"Research & Development\", \"Sales\", \"Sales\", \"Research & Development\", \"Sales\", \"Research & Development\", \"Sales\", \"Research & Development\", \"Research & Development\", \"Research & Development\", \"Research & Development\", \"Research & Development\", \"Research & Development\", \"Sales\", \"Research & Development\", \"Research & Development\", \"Sales\", \"Sales\", \"Research & Development\", \"Sales\", \"Sales\", \"Research & Development\", \"Sales\", \"Research & Development\", \"Sales\", \"Sales\", \"Research & Development\", \"Sales\", \"Research & Development\", \"Sales\", \"Sales\", \"Sales\", \"Sales\", \"Research & Development\", \"Research & Development\", \"Research & Development\", \"Sales\", \"Sales\", \"Sales\", \"Research & Development\", \"Sales\", \"Research & Development\", \"Research & Development\", \"Human Resources\", \"Research & Development\", \"Sales\", \"Research & Development\", \"Research & Development\", \"Research & Development\", \"Sales\", \"Human Resources\", \"Research & Development\", \"Research & Development\", \"Research & Development\", \"Sales\", \"Sales\", \"Research & Development\", \"Research & Development\", \"Research & Development\", \"Research & Development\", \"Research & Development\", \"Research & Development\", \"Research & Development\", \"Research & Development\", \"Sales\", \"Research & Development\", \"Research & Development\", \"Sales\", \"Research & Development\", \"Sales\", \"Research & Development\", \"Sales\", \"Sales\", \"Research & Development\", \"Research & Development\", \"Research & Development\", \"Research & Development\", \"Sales\", \"Sales\", \"Research & Development\", \"Human Resources\", \"Sales\", \"Sales\", \"Sales\", \"Research & Development\", \"Research & Development\", \"Research & Development\", \"Research & Development\", \"Research & Development\", \"Sales\", \"Sales\", \"Sales\", \"Research & Development\", \"Research & Development\", \"Research & Development\"], \"showlegend\": true, \"subplot\": \"polar\", \"theta\": [\"Life Sciences\", \"Other\", \"Medical\", \"Medical\", \"Life Sciences\", \"Medical\", \"Medical\", \"Life Sciences\", \"Life Sciences\", \"Medical\", \"Life Sciences\", \"Life Sciences\", \"Life Sciences\", \"Life Sciences\", \"Life Sciences\", \"Life Sciences\", \"Life Sciences\", \"Life Sciences\", \"Medical\", \"Other\", \"Marketing\", \"Medical\", \"Marketing\", \"Medical\", \"Other\", \"Medical\", \"Technical Degree\", \"Medical\", \"Medical\", \"Marketing\", \"Marketing\", \"Life Sciences\", \"Other\", \"Life Sciences\", \"Life Sciences\", \"Technical Degree\", \"Life Sciences\", \"Life Sciences\", \"Life Sciences\", \"Technical Degree\", \"Marketing\", \"Marketing\", \"Medical\", \"Life Sciences\", \"Life Sciences\", \"Medical\", \"Medical\", \"Life Sciences\", \"Technical Degree\", \"Medical\", \"Life Sciences\", \"Medical\", \"Life Sciences\", \"Medical\", \"Life Sciences\", \"Life Sciences\", \"Life Sciences\", \"Marketing\", \"Other\", \"Medical\", \"Medical\", \"Life Sciences\", \"Medical\", \"Life Sciences\", \"Medical\", \"Life Sciences\", \"Technical Degree\", \"Life Sciences\", \"Life Sciences\", \"Medical\", \"Marketing\", \"Medical\", \"Medical\", \"Technical Degree\", \"Other\", \"Medical\", \"Human Resources\", \"Life Sciences\", \"Other\", \"Marketing\", \"Medical\", \"Medical\", \"Life Sciences\", \"Life Sciences\", \"Life Sciences\", \"Medical\", \"Life Sciences\", \"Life Sciences\", \"Life Sciences\", \"Life Sciences\", \"Other\", \"Medical\", \"Marketing\", \"Technical Degree\", \"Medical\", \"Life Sciences\", \"Life Sciences\", \"Life Sciences\", \"Medical\", \"Life Sciences\", \"Life Sciences\", \"Human Resources\", \"Medical\", \"Medical\", \"Technical Degree\", \"Life Sciences\", \"Technical Degree\", \"Medical\", \"Life Sciences\", \"Medical\", \"Marketing\", \"Marketing\", \"Life Sciences\", \"Medical\", \"Medical\", \"Marketing\", \"Medical\", \"Medical\", \"Life Sciences\", \"Life Sciences\", \"Life Sciences\", \"Life Sciences\", \"Life Sciences\", \"Life Sciences\", \"Technical Degree\", \"Life Sciences\", \"Life Sciences\", \"Life Sciences\", \"Life Sciences\", \"Marketing\", \"Life Sciences\", \"Medical\", \"Medical\", \"Marketing\", \"Medical\", \"Medical\", \"Medical\", \"Medical\", \"Medical\", \"Medical\", \"Life Sciences\", \"Medical\", \"Life Sciences\", \"Life Sciences\", \"Life Sciences\", \"Technical Degree\", \"Medical\", \"Medical\", \"Marketing\", \"Life Sciences\", \"Medical\", \"Medical\", \"Life Sciences\", \"Technical Degree\", \"Life Sciences\", \"Technical Degree\", \"Marketing\", \"Life Sciences\", \"Medical\", \"Life Sciences\", \"Life Sciences\", \"Medical\", \"Life Sciences\", \"Technical Degree\", \"Medical\", \"Medical\", \"Medical\", \"Marketing\", \"Life Sciences\", \"Life Sciences\", \"Life Sciences\", \"Medical\", \"Life Sciences\", \"Technical Degree\", \"Other\", \"Life Sciences\", \"Life Sciences\", \"Medical\", \"Life Sciences\", \"Life Sciences\", \"Marketing\", \"Life Sciences\", \"Medical\", \"Medical\", \"Life Sciences\", \"Technical Degree\", \"Technical Degree\", \"Life Sciences\", \"Medical\", \"Medical\", \"Medical\", \"Life Sciences\", \"Medical\", \"Medical\", \"Medical\", \"Medical\", \"Life Sciences\", \"Medical\", \"Life Sciences\", \"Medical\", \"Life Sciences\", \"Technical Degree\", \"Life Sciences\", \"Life Sciences\", \"Medical\", \"Life Sciences\", \"Technical Degree\", \"Marketing\", \"Life Sciences\", \"Marketing\", \"Medical\", \"Life Sciences\", \"Medical\", \"Medical\", \"Technical Degree\", \"Medical\", \"Life Sciences\", \"Life Sciences\", \"Technical Degree\", \"Human Resources\", \"Life Sciences\", \"Medical\", \"Technical Degree\", \"Medical\", \"Life Sciences\", \"Technical Degree\", \"Life Sciences\", \"Marketing\", \"Medical\", \"Medical\", \"Medical\", \"Medical\", \"Life Sciences\", \"Life Sciences\", \"Other\", \"Medical\", \"Other\", \"Other\", \"Marketing\", \"Marketing\", \"Medical\", \"Life Sciences\", \"Medical\", \"Marketing\", \"Technical Degree\", \"Life Sciences\", \"Medical\", \"Life Sciences\", \"Technical Degree\", \"Medical\", \"Medical\", \"Medical\", \"Life Sciences\", \"Other\", \"Medical\", \"Life Sciences\", \"Marketing\", \"Medical\", \"Technical Degree\", \"Marketing\", \"Life Sciences\", \"Life Sciences\", \"Life Sciences\", \"Life Sciences\", \"Medical\", \"Life Sciences\", \"Other\", \"Life Sciences\", \"Life Sciences\", \"Life Sciences\", \"Marketing\", \"Technical Degree\", \"Medical\", \"Medical\", \"Life Sciences\", \"Marketing\", \"Life Sciences\", \"Life Sciences\", \"Life Sciences\", \"Medical\", \"Medical\", \"Medical\", \"Other\", \"Life Sciences\", \"Life Sciences\", \"Technical Degree\", \"Marketing\", \"Medical\", \"Medical\", \"Medical\", \"Life Sciences\", \"Life Sciences\", \"Life Sciences\", \"Life Sciences\", \"Medical\", \"Technical Degree\", \"Life Sciences\", \"Life Sciences\", \"Medical\", \"Technical Degree\", \"Technical Degree\", \"Marketing\", \"Life Sciences\", \"Medical\", \"Life Sciences\", \"Life Sciences\", \"Life Sciences\", \"Life Sciences\", \"Marketing\", \"Life Sciences\", \"Medical\", \"Medical\", \"Marketing\", \"Life Sciences\", \"Marketing\", \"Life Sciences\", \"Marketing\", \"Life Sciences\", \"Life Sciences\", \"Medical\", \"Other\", \"Technical Degree\", \"Medical\", \"Life Sciences\", \"Medical\", \"Medical\", \"Life Sciences\", \"Technical Degree\", \"Technical Degree\", \"Life Sciences\", \"Technical Degree\", \"Medical\", \"Life Sciences\", \"Life Sciences\", \"Medical\", \"Marketing\", \"Other\", \"Medical\", \"Life Sciences\", \"Medical\", \"Other\", \"Medical\", \"Medical\", \"Marketing\", \"Life Sciences\", \"Life Sciences\", \"Other\", \"Life Sciences\", \"Life Sciences\", \"Life Sciences\", \"Technical Degree\", \"Marketing\", \"Technical Degree\", \"Other\", \"Medical\", \"Marketing\", \"Life Sciences\", \"Medical\", \"Life Sciences\", \"Life Sciences\", \"Other\", \"Medical\", \"Life Sciences\", \"Medical\", \"Medical\", \"Medical\", \"Medical\", \"Medical\", \"Life Sciences\", \"Marketing\", \"Marketing\", \"Life Sciences\", \"Medical\", \"Medical\", \"Life Sciences\", \"Technical Degree\", \"Marketing\", \"Life Sciences\", \"Life Sciences\", \"Life Sciences\", \"Marketing\", \"Life Sciences\", \"Human Resources\", \"Marketing\", \"Human Resources\", \"Marketing\", \"Life Sciences\", \"Life Sciences\", \"Marketing\", \"Life Sciences\", \"Medical\", \"Medical\", \"Human Resources\", \"Medical\", \"Medical\", \"Medical\", \"Marketing\", \"Life Sciences\", \"Medical\", \"Life Sciences\", \"Marketing\", \"Other\", \"Medical\", \"Technical Degree\", \"Medical\", \"Other\", \"Medical\", \"Medical\", \"Technical Degree\", \"Life Sciences\", \"Medical\", \"Life Sciences\", \"Medical\", \"Life Sciences\", \"Life Sciences\", \"Life Sciences\", \"Life Sciences\", \"Life Sciences\", \"Medical\", \"Life Sciences\", \"Medical\", \"Marketing\", \"Other\", \"Other\", \"Life Sciences\", \"Life Sciences\", \"Life Sciences\", \"Life Sciences\", \"Medical\", \"Human Resources\", \"Life Sciences\", \"Medical\", \"Life Sciences\", \"Life Sciences\", \"Marketing\", \"Medical\", \"Life Sciences\", \"Technical Degree\", \"Other\", \"Marketing\", \"Human Resources\", \"Marketing\", \"Medical\", \"Medical\", \"Medical\", \"Medical\", \"Life Sciences\", \"Life Sciences\", \"Marketing\", \"Marketing\", \"Medical\", \"Marketing\", \"Medical\", \"Life Sciences\", \"Life Sciences\", \"Life Sciences\", \"Other\", \"Life Sciences\", \"Marketing\", \"Technical Degree\", \"Marketing\", \"Life Sciences\", \"Life Sciences\", \"Medical\", \"Marketing\", \"Technical Degree\", \"Life Sciences\", \"Marketing\", \"Life Sciences\", \"Human Resources\", \"Life Sciences\", \"Medical\", \"Life Sciences\", \"Medical\", \"Life Sciences\", \"Medical\", \"Other\", \"Life Sciences\", \"Life Sciences\", \"Life Sciences\", \"Life Sciences\", \"Medical\", \"Medical\", \"Life Sciences\", \"Life Sciences\", \"Medical\", \"Other\", \"Technical Degree\", \"Life Sciences\", \"Life Sciences\", \"Other\", \"Medical\", \"Other\", \"Technical Degree\", \"Marketing\", \"Marketing\", \"Medical\", \"Medical\", \"Other\", \"Technical Degree\", \"Medical\", \"Medical\", \"Life Sciences\", \"Life Sciences\", \"Life Sciences\", \"Medical\", \"Life Sciences\", \"Technical Degree\", \"Medical\", \"Other\", \"Life Sciences\", \"Life Sciences\", \"Life Sciences\", \"Life Sciences\", \"Medical\", \"Medical\", \"Technical Degree\", \"Life Sciences\", \"Life Sciences\", \"Life Sciences\", \"Medical\", \"Medical\", \"Other\", \"Technical Degree\", \"Medical\", \"Life Sciences\", \"Medical\", \"Medical\", \"Life Sciences\", \"Life Sciences\", \"Life Sciences\", \"Medical\", \"Life Sciences\", \"Life Sciences\", \"Other\", \"Marketing\", \"Life Sciences\", \"Life Sciences\", \"Medical\", \"Life Sciences\", \"Marketing\", \"Medical\", \"Life Sciences\", \"Life Sciences\", \"Marketing\", \"Technical Degree\", \"Medical\", \"Other\", \"Life Sciences\", \"Medical\", \"Medical\", \"Other\", \"Marketing\", \"Medical\", \"Life Sciences\", \"Medical\", \"Medical\", \"Life Sciences\", \"Life Sciences\", \"Life Sciences\", \"Medical\", \"Other\", \"Technical Degree\", \"Life Sciences\", \"Technical Degree\", \"Other\", \"Medical\", \"Life Sciences\", \"Technical Degree\", \"Life Sciences\", \"Life Sciences\", \"Technical Degree\", \"Medical\", \"Medical\", \"Medical\", \"Life Sciences\", \"Marketing\", \"Life Sciences\", \"Medical\", \"Marketing\", \"Marketing\", \"Medical\", \"Technical Degree\", \"Life Sciences\", \"Technical Degree\", \"Medical\", \"Medical\", \"Human Resources\", \"Marketing\", \"Life Sciences\", \"Medical\", \"Life Sciences\", \"Life Sciences\", \"Technical Degree\", \"Life Sciences\", \"Marketing\", \"Medical\", \"Medical\", \"Life Sciences\", \"Medical\", \"Marketing\", \"Life Sciences\", \"Marketing\", \"Technical Degree\", \"Medical\", \"Life Sciences\", \"Medical\", \"Life Sciences\", \"Life Sciences\", \"Life Sciences\", \"Medical\", \"Life Sciences\", \"Marketing\", \"Human Resources\", \"Life Sciences\", \"Medical\", \"Life Sciences\", \"Life Sciences\", \"Life Sciences\", \"Life Sciences\", \"Life Sciences\", \"Other\", \"Marketing\", \"Technical Degree\", \"Marketing\", \"Technical Degree\", \"Medical\", \"Technical Degree\", \"Life Sciences\", \"Medical\", \"Life Sciences\", \"Life Sciences\", \"Life Sciences\", \"Life Sciences\", \"Medical\", \"Medical\", \"Life Sciences\", \"Life Sciences\", \"Medical\", \"Technical Degree\", \"Life Sciences\", \"Life Sciences\", \"Life Sciences\", \"Life Sciences\", \"Technical Degree\", \"Marketing\", \"Marketing\", \"Life Sciences\", \"Life Sciences\", \"Life Sciences\", \"Marketing\", \"Marketing\", \"Marketing\", \"Medical\", \"Life Sciences\", \"Life Sciences\", \"Medical\", \"Marketing\", \"Life Sciences\", \"Medical\", \"Technical Degree\", \"Technical Degree\", \"Medical\", \"Medical\", \"Medical\", \"Life Sciences\", \"Life Sciences\", \"Medical\", \"Technical Degree\", \"Technical Degree\", \"Life Sciences\", \"Life Sciences\", \"Marketing\", \"Life Sciences\", \"Medical\", \"Life Sciences\", \"Life Sciences\", \"Medical\", \"Life Sciences\", \"Life Sciences\", \"Life Sciences\", \"Life Sciences\", \"Life Sciences\", \"Medical\", \"Medical\", \"Medical\", \"Life Sciences\", \"Life Sciences\", \"Medical\", \"Technical Degree\", \"Medical\", \"Marketing\", \"Life Sciences\", \"Medical\", \"Medical\", \"Technical Degree\", \"Life Sciences\", \"Medical\", \"Life Sciences\", \"Life Sciences\", \"Marketing\", \"Life Sciences\", \"Medical\", \"Marketing\", \"Life Sciences\", \"Medical\", \"Human Resources\", \"Other\", \"Medical\", \"Technical Degree\", \"Other\", \"Other\", \"Medical\", \"Medical\", \"Medical\", \"Marketing\", \"Marketing\", \"Life Sciences\", \"Life Sciences\", \"Life Sciences\", \"Life Sciences\", \"Marketing\", \"Technical Degree\", \"Life Sciences\", \"Life Sciences\", \"Medical\", \"Medical\", \"Marketing\", \"Life Sciences\", \"Medical\", \"Life Sciences\", \"Marketing\", \"Medical\", \"Medical\", \"Technical Degree\", \"Marketing\", \"Technical Degree\", \"Medical\", \"Medical\", \"Technical Degree\", \"Medical\", \"Life Sciences\", \"Other\", \"Life Sciences\", \"Life Sciences\", \"Life Sciences\", \"Medical\", \"Life Sciences\", \"Life Sciences\", \"Life Sciences\", \"Life Sciences\", \"Medical\", \"Medical\", \"Life Sciences\", \"Medical\", \"Life Sciences\", \"Life Sciences\", \"Medical\", \"Technical Degree\", \"Life Sciences\", \"Life Sciences\", \"Life Sciences\", \"Life Sciences\", \"Life Sciences\", \"Life Sciences\", \"Technical Degree\", \"Technical Degree\", \"Medical\", \"Medical\", \"Other\", \"Life Sciences\", \"Technical Degree\", \"Medical\", \"Life Sciences\", \"Medical\", \"Technical Degree\", \"Technical Degree\", \"Life Sciences\", \"Life Sciences\", \"Life Sciences\", \"Life Sciences\", \"Life Sciences\", \"Life Sciences\", \"Life Sciences\", \"Medical\", \"Technical Degree\", \"Life Sciences\", \"Technical Degree\", \"Medical\", \"Other\", \"Medical\", \"Marketing\", \"Life Sciences\", \"Life Sciences\", \"Life Sciences\", \"Life Sciences\", \"Life Sciences\", \"Medical\", \"Medical\", \"Medical\", \"Marketing\", \"Technical Degree\", \"Other\", \"Life Sciences\", \"Life Sciences\", \"Technical Degree\", \"Life Sciences\", \"Life Sciences\", \"Medical\", \"Other\", \"Medical\", \"Medical\", \"Medical\", \"Life Sciences\", \"Life Sciences\", \"Medical\", \"Other\", \"Life Sciences\", \"Medical\", \"Medical\", \"Life Sciences\", \"Medical\", \"Life Sciences\", \"Life Sciences\", \"Other\", \"Medical\", \"Medical\", \"Medical\", \"Life Sciences\", \"Medical\", \"Medical\", \"Life Sciences\", \"Medical\", \"Life Sciences\", \"Medical\", \"Other\", \"Life Sciences\", \"Medical\", \"Life Sciences\", \"Life Sciences\", \"Life Sciences\", \"Life Sciences\", \"Medical\", \"Life Sciences\", \"Medical\", \"Medical\", \"Medical\", \"Life Sciences\", \"Medical\", \"Life Sciences\", \"Life Sciences\", \"Life Sciences\", \"Life Sciences\", \"Life Sciences\", \"Life Sciences\", \"Medical\", \"Medical\", \"Medical\", \"Life Sciences\", \"Technical Degree\", \"Medical\", \"Medical\", \"Medical\", \"Life Sciences\", \"Life Sciences\", \"Life Sciences\", \"Medical\", \"Medical\", \"Marketing\", \"Medical\", \"Life Sciences\", \"Human Resources\", \"Medical\", \"Technical Degree\", \"Life Sciences\", \"Life Sciences\", \"Medical\", \"Life Sciences\", \"Life Sciences\", \"Life Sciences\", \"Life Sciences\", \"Marketing\", \"Life Sciences\", \"Medical\", \"Life Sciences\", \"Medical\", \"Life Sciences\", \"Technical Degree\", \"Medical\", \"Marketing\", \"Marketing\", \"Medical\", \"Marketing\", \"Life Sciences\", \"Marketing\", \"Technical Degree\", \"Life Sciences\", \"Medical\", \"Medical\", \"Medical\", \"Life Sciences\", \"Life Sciences\", \"Life Sciences\", \"Marketing\", \"Other\", \"Medical\", \"Marketing\", \"Technical Degree\", \"Marketing\", \"Medical\", \"Life Sciences\", \"Other\", \"Life Sciences\", \"Life Sciences\", \"Life Sciences\", \"Medical\", \"Life Sciences\", \"Medical\", \"Medical\", \"Life Sciences\", \"Marketing\", \"Medical\", \"Medical\", \"Medical\", \"Life Sciences\", \"Technical Degree\", \"Medical\", \"Life Sciences\", \"Life Sciences\", \"Medical\", \"Medical\", \"Marketing\", \"Medical\", \"Human Resources\", \"Human Resources\", \"Other\", \"Life Sciences\", \"Life Sciences\", \"Life Sciences\", \"Life Sciences\", \"Marketing\", \"Technical Degree\", \"Medical\", \"Medical\", \"Medical\", \"Life Sciences\", \"Life Sciences\", \"Other\", \"Technical Degree\", \"Medical\", \"Medical\", \"Life Sciences\", \"Technical Degree\", \"Life Sciences\", \"Life Sciences\", \"Life Sciences\", \"Medical\", \"Other\", \"Life Sciences\", \"Life Sciences\", \"Life Sciences\", \"Medical\", \"Life Sciences\", \"Life Sciences\", \"Marketing\", \"Marketing\", \"Medical\", \"Medical\", \"Medical\", \"Medical\", \"Marketing\", \"Technical Degree\", \"Marketing\", \"Marketing\", \"Medical\", \"Life Sciences\", \"Life Sciences\", \"Marketing\", \"Medical\", \"Marketing\", \"Medical\", \"Medical\", \"Life Sciences\", \"Technical Degree\", \"Life Sciences\", \"Life Sciences\", \"Marketing\", \"Life Sciences\", \"Life Sciences\", \"Life Sciences\", \"Life Sciences\", \"Human Resources\", \"Medical\", \"Marketing\", \"Medical\", \"Life Sciences\", \"Other\", \"Marketing\", \"Human Resources\", \"Medical\", \"Other\", \"Medical\", \"Life Sciences\", \"Life Sciences\", \"Life Sciences\", \"Life Sciences\", \"Medical\", \"Life Sciences\", \"Medical\", \"Medical\", \"Life Sciences\", \"Life Sciences\", \"Medical\", \"Life Sciences\", \"Medical\", \"Marketing\", \"Life Sciences\", \"Other\", \"Medical\", \"Medical\", \"Medical\", \"Medical\", \"Life Sciences\", \"Technical Degree\", \"Life Sciences\", \"Marketing\", \"Life Sciences\", \"Technical Degree\", \"Life Sciences\", \"Life Sciences\", \"Marketing\", \"Life Sciences\", \"Life Sciences\", \"Medical\", \"Life Sciences\", \"Other\", \"Medical\", \"Marketing\", \"Marketing\", \"Other\", \"Medical\", \"Life Sciences\", \"Medical\"], \"type\": \"barpolar\"}, {\"hovertemplate\": \"BusinessTravel=Travel_Frequently<br>Department=%{r}<br>EducationField=%{theta}<extra></extra>\", \"legendgroup\": \"Travel_Frequently\", \"marker\": {\"color\": \"#fdca26\"}, \"name\": \"Travel_Frequently\", \"r\": [\"Research & Development\", \"Research & Development\", \"Research & Development\", \"Research & Development\", \"Research & Development\", \"Sales\", \"Sales\", \"Research & Development\", \"Sales\", \"Research & Development\", \"Sales\", \"Research & Development\", \"Research & Development\", \"Research & Development\", \"Sales\", \"Research & Development\", \"Research & Development\", \"Research & Development\", \"Research & Development\", \"Research & Development\", \"Research & Development\", \"Sales\", \"Sales\", \"Research & Development\", \"Research & Development\", \"Sales\", \"Research & Development\", \"Sales\", \"Research & Development\", \"Research & Development\", \"Sales\", \"Sales\", \"Sales\", \"Research & Development\", \"Research & Development\", \"Research & Development\", \"Research & Development\", \"Research & Development\", \"Research & Development\", \"Sales\", \"Sales\", \"Research & Development\", \"Sales\", \"Sales\", \"Sales\", \"Research & Development\", \"Research & Development\", \"Research & Development\", \"Research & Development\", \"Research & Development\", \"Research & Development\", \"Research & Development\", \"Sales\", \"Research & Development\", \"Research & Development\", \"Research & Development\", \"Sales\", \"Research & Development\", \"Sales\", \"Research & Development\", \"Research & Development\", \"Research & Development\", \"Research & Development\", \"Research & Development\", \"Research & Development\", \"Sales\", \"Research & Development\", \"Research & Development\", \"Sales\", \"Sales\", \"Sales\", \"Sales\", \"Research & Development\", \"Research & Development\", \"Research & Development\", \"Research & Development\", \"Sales\", \"Research & Development\", \"Research & Development\", \"Sales\", \"Research & Development\", \"Sales\", \"Research & Development\", \"Human Resources\", \"Research & Development\", \"Research & Development\", \"Research & Development\", \"Human Resources\", \"Sales\", \"Research & Development\", \"Sales\", \"Human Resources\", \"Research & Development\", \"Sales\", \"Research & Development\", \"Research & Development\", \"Sales\", \"Research & Development\", \"Research & Development\", \"Research & Development\", \"Sales\", \"Sales\", \"Sales\", \"Research & Development\", \"Sales\", \"Research & Development\", \"Sales\", \"Research & Development\", \"Sales\", \"Research & Development\", \"Sales\", \"Research & Development\", \"Research & Development\", \"Research & Development\", \"Research & Development\", \"Research & Development\", \"Research & Development\", \"Research & Development\", \"Research & Development\", \"Research & Development\", \"Research & Development\", \"Research & Development\", \"Sales\", \"Sales\", \"Research & Development\", \"Research & Development\", \"Sales\", \"Research & Development\", \"Sales\", \"Research & Development\", \"Research & Development\", \"Research & Development\", \"Research & Development\", \"Research & Development\", \"Research & Development\", \"Research & Development\", \"Research & Development\", \"Sales\", \"Research & Development\", \"Research & Development\", \"Research & Development\", \"Research & Development\", \"Sales\", \"Research & Development\", \"Research & Development\", \"Research & Development\", \"Research & Development\", \"Sales\", \"Sales\", \"Research & Development\", \"Research & Development\", \"Sales\", \"Sales\", \"Research & Development\", \"Research & Development\", \"Research & Development\", \"Research & Development\", \"Research & Development\", \"Sales\", \"Research & Development\", \"Research & Development\", \"Research & Development\", \"Research & Development\", \"Sales\", \"Research & Development\", \"Sales\", \"Research & Development\", \"Research & Development\", \"Research & Development\", \"Research & Development\", \"Research & Development\", \"Sales\", \"Research & Development\", \"Sales\", \"Research & Development\", \"Research & Development\", \"Human Resources\", \"Research & Development\", \"Research & Development\", \"Research & Development\", \"Sales\", \"Sales\", \"Research & Development\", \"Sales\", \"Sales\", \"Sales\", \"Sales\", \"Research & Development\", \"Sales\", \"Research & Development\", \"Sales\", \"Research & Development\", \"Research & Development\", \"Research & Development\", \"Research & Development\", \"Sales\", \"Research & Development\", \"Research & Development\", \"Research & Development\", \"Sales\", \"Research & Development\", \"Sales\", \"Research & Development\", \"Sales\", \"Sales\", \"Research & Development\", \"Research & Development\", \"Research & Development\", \"Sales\", \"Research & Development\", \"Research & Development\", \"Research & Development\", \"Research & Development\", \"Research & Development\", \"Human Resources\", \"Research & Development\", \"Research & Development\", \"Research & Development\", \"Research & Development\", \"Sales\", \"Research & Development\", \"Sales\", \"Research & Development\", \"Human Resources\", \"Research & Development\", \"Research & Development\", \"Research & Development\", \"Research & Development\", \"Sales\", \"Research & Development\", \"Research & Development\", \"Sales\", \"Sales\", \"Research & Development\", \"Sales\", \"Research & Development\", \"Research & Development\", \"Research & Development\", \"Human Resources\", \"Human Resources\", \"Research & Development\", \"Research & Development\", \"Research & Development\", \"Research & Development\", \"Research & Development\", \"Sales\", \"Sales\", \"Research & Development\", \"Sales\", \"Research & Development\", \"Research & Development\", \"Sales\", \"Research & Development\", \"Research & Development\", \"Human Resources\", \"Research & Development\", \"Research & Development\", \"Research & Development\", \"Sales\", \"Sales\", \"Research & Development\", \"Research & Development\", \"Research & Development\", \"Research & Development\", \"Human Resources\", \"Research & Development\", \"Sales\", \"Research & Development\", \"Human Resources\", \"Research & Development\", \"Research & Development\", \"Sales\", \"Research & Development\", \"Sales\", \"Research & Development\", \"Research & Development\", \"Sales\"], \"showlegend\": true, \"subplot\": \"polar\", \"theta\": [\"Life Sciences\", \"Life Sciences\", \"Life Sciences\", \"Life Sciences\", \"Life Sciences\", \"Life Sciences\", \"Life Sciences\", \"Medical\", \"Marketing\", \"Life Sciences\", \"Life Sciences\", \"Life Sciences\", \"Life Sciences\", \"Medical\", \"Life Sciences\", \"Life Sciences\", \"Medical\", \"Life Sciences\", \"Life Sciences\", \"Medical\", \"Life Sciences\", \"Technical Degree\", \"Life Sciences\", \"Life Sciences\", \"Medical\", \"Marketing\", \"Life Sciences\", \"Medical\", \"Life Sciences\", \"Medical\", \"Marketing\", \"Marketing\", \"Technical Degree\", \"Medical\", \"Life Sciences\", \"Medical\", \"Technical Degree\", \"Medical\", \"Medical\", \"Life Sciences\", \"Marketing\", \"Other\", \"Marketing\", \"Medical\", \"Marketing\", \"Medical\", \"Life Sciences\", \"Medical\", \"Technical Degree\", \"Medical\", \"Life Sciences\", \"Life Sciences\", \"Life Sciences\", \"Medical\", \"Life Sciences\", \"Life Sciences\", \"Marketing\", \"Medical\", \"Marketing\", \"Life Sciences\", \"Life Sciences\", \"Life Sciences\", \"Life Sciences\", \"Life Sciences\", \"Medical\", \"Marketing\", \"Life Sciences\", \"Life Sciences\", \"Medical\", \"Technical Degree\", \"Medical\", \"Marketing\", \"Technical Degree\", \"Technical Degree\", \"Medical\", \"Life Sciences\", \"Life Sciences\", \"Life Sciences\", \"Technical Degree\", \"Marketing\", \"Life Sciences\", \"Marketing\", \"Life Sciences\", \"Human Resources\", \"Other\", \"Technical Degree\", \"Life Sciences\", \"Life Sciences\", \"Marketing\", \"Medical\", \"Medical\", \"Medical\", \"Life Sciences\", \"Life Sciences\", \"Medical\", \"Medical\", \"Life Sciences\", \"Life Sciences\", \"Life Sciences\", \"Life Sciences\", \"Medical\", \"Technical Degree\", \"Life Sciences\", \"Life Sciences\", \"Medical\", \"Medical\", \"Life Sciences\", \"Life Sciences\", \"Life Sciences\", \"Life Sciences\", \"Marketing\", \"Life Sciences\", \"Medical\", \"Life Sciences\", \"Medical\", \"Life Sciences\", \"Life Sciences\", \"Medical\", \"Life Sciences\", \"Medical\", \"Medical\", \"Life Sciences\", \"Life Sciences\", \"Medical\", \"Life Sciences\", \"Life Sciences\", \"Medical\", \"Medical\", \"Technical Degree\", \"Medical\", \"Other\", \"Medical\", \"Medical\", \"Life Sciences\", \"Medical\", \"Medical\", \"Medical\", \"Marketing\", \"Life Sciences\", \"Other\", \"Medical\", \"Medical\", \"Marketing\", \"Life Sciences\", \"Medical\", \"Life Sciences\", \"Medical\", \"Other\", \"Life Sciences\", \"Life Sciences\", \"Life Sciences\", \"Life Sciences\", \"Marketing\", \"Life Sciences\", \"Life Sciences\", \"Life Sciences\", \"Medical\", \"Medical\", \"Life Sciences\", \"Medical\", \"Medical\", \"Other\", \"Life Sciences\", \"Medical\", \"Medical\", \"Medical\", \"Other\", \"Life Sciences\", \"Medical\", \"Life Sciences\", \"Technical Degree\", \"Life Sciences\", \"Life Sciences\", \"Life Sciences\", \"Medical\", \"Medical\", \"Life Sciences\", \"Life Sciences\", \"Medical\", \"Medical\", \"Life Sciences\", \"Marketing\", \"Life Sciences\", \"Marketing\", \"Life Sciences\", \"Life Sciences\", \"Marketing\", \"Life Sciences\", \"Marketing\", \"Life Sciences\", \"Life Sciences\", \"Medical\", \"Life Sciences\", \"Life Sciences\", \"Other\", \"Life Sciences\", \"Other\", \"Life Sciences\", \"Life Sciences\", \"Medical\", \"Medical\", \"Marketing\", \"Medical\", \"Technical Degree\", \"Technical Degree\", \"Medical\", \"Medical\", \"Medical\", \"Life Sciences\", \"Life Sciences\", \"Medical\", \"Life Sciences\", \"Medical\", \"Life Sciences\", \"Human Resources\", \"Life Sciences\", \"Life Sciences\", \"Technical Degree\", \"Medical\", \"Other\", \"Life Sciences\", \"Medical\", \"Medical\", \"Human Resources\", \"Medical\", \"Technical Degree\", \"Medical\", \"Life Sciences\", \"Other\", \"Life Sciences\", \"Medical\", \"Medical\", \"Medical\", \"Medical\", \"Life Sciences\", \"Life Sciences\", \"Technical Degree\", \"Technical Degree\", \"Medical\", \"Human Resources\", \"Life Sciences\", \"Medical\", \"Technical Degree\", \"Medical\", \"Life Sciences\", \"Life Sciences\", \"Marketing\", \"Life Sciences\", \"Life Sciences\", \"Life Sciences\", \"Medical\", \"Marketing\", \"Life Sciences\", \"Life Sciences\", \"Human Resources\", \"Medical\", \"Other\", \"Medical\", \"Life Sciences\", \"Technical Degree\", \"Other\", \"Medical\", \"Life Sciences\", \"Life Sciences\", \"Human Resources\", \"Life Sciences\", \"Marketing\", \"Life Sciences\", \"Other\", \"Technical Degree\", \"Life Sciences\", \"Marketing\", \"Life Sciences\", \"Life Sciences\", \"Life Sciences\", \"Medical\", \"Medical\"], \"type\": \"barpolar\"}, {\"hovertemplate\": \"BusinessTravel=Non-Travel<br>Department=%{r}<br>EducationField=%{theta}<extra></extra>\", \"legendgroup\": \"Non-Travel\", \"marker\": {\"color\": \"#fb9f3a\"}, \"name\": \"Non-Travel\", \"r\": [\"Research & Development\", \"Research & Development\", \"Sales\", \"Research & Development\", \"Research & Development\", \"Sales\", \"Research & Development\", \"Research & Development\", \"Human Resources\", \"Human Resources\", \"Sales\", \"Research & Development\", \"Research & Development\", \"Research & Development\", \"Research & Development\", \"Research & Development\", \"Research & Development\", \"Research & Development\", \"Research & Development\", \"Research & Development\", \"Research & Development\", \"Sales\", \"Research & Development\", \"Sales\", \"Sales\", \"Sales\", \"Research & Development\", \"Research & Development\", \"Research & Development\", \"Research & Development\", \"Research & Development\", \"Sales\", \"Sales\", \"Sales\", \"Sales\", \"Sales\", \"Research & Development\", \"Sales\", \"Sales\", \"Research & Development\", \"Research & Development\", \"Sales\", \"Research & Development\", \"Sales\", \"Sales\", \"Sales\", \"Research & Development\", \"Sales\", \"Sales\", \"Research & Development\", \"Research & Development\", \"Research & Development\", \"Research & Development\", \"Sales\", \"Research & Development\", \"Research & Development\", \"Research & Development\", \"Research & Development\", \"Research & Development\", \"Sales\", \"Research & Development\", \"Sales\", \"Research & Development\", \"Research & Development\", \"Sales\", \"Sales\", \"Sales\", \"Research & Development\", \"Sales\", \"Research & Development\", \"Research & Development\", \"Research & Development\", \"Sales\", \"Sales\", \"Sales\", \"Research & Development\", \"Research & Development\", \"Research & Development\", \"Research & Development\", \"Research & Development\", \"Research & Development\", \"Sales\", \"Research & Development\", \"Research & Development\", \"Research & Development\", \"Sales\", \"Research & Development\", \"Research & Development\", \"Human Resources\", \"Sales\", \"Research & Development\", \"Research & Development\", \"Research & Development\", \"Research & Development\", \"Sales\", \"Sales\", \"Research & Development\", \"Research & Development\", \"Research & Development\", \"Research & Development\", \"Research & Development\", \"Research & Development\", \"Research & Development\", \"Research & Development\", \"Research & Development\", \"Research & Development\", \"Research & Development\", \"Sales\", \"Research & Development\", \"Research & Development\", \"Research & Development\", \"Sales\", \"Research & Development\", \"Research & Development\", \"Sales\", \"Research & Development\", \"Research & Development\", \"Human Resources\", \"Sales\", \"Research & Development\", \"Sales\", \"Research & Development\", \"Research & Development\", \"Sales\", \"Research & Development\", \"Sales\", \"Research & Development\", \"Human Resources\", \"Research & Development\", \"Sales\", \"Research & Development\", \"Sales\", \"Research & Development\", \"Human Resources\", \"Research & Development\", \"Sales\", \"Research & Development\", \"Research & Development\", \"Research & Development\", \"Research & Development\", \"Research & Development\", \"Research & Development\", \"Research & Development\", \"Research & Development\", \"Research & Development\", \"Sales\", \"Research & Development\", \"Research & Development\", \"Sales\", \"Research & Development\"], \"showlegend\": true, \"subplot\": \"polar\", \"theta\": [\"Medical\", \"Other\", \"Marketing\", \"Medical\", \"Medical\", \"Medical\", \"Medical\", \"Life Sciences\", \"Human Resources\", \"Human Resources\", \"Marketing\", \"Technical Degree\", \"Medical\", \"Medical\", \"Medical\", \"Medical\", \"Medical\", \"Medical\", \"Life Sciences\", \"Life Sciences\", \"Life Sciences\", \"Medical\", \"Medical\", \"Life Sciences\", \"Marketing\", \"Life Sciences\", \"Life Sciences\", \"Life Sciences\", \"Medical\", \"Life Sciences\", \"Life Sciences\", \"Marketing\", \"Life Sciences\", \"Technical Degree\", \"Medical\", \"Medical\", \"Medical\", \"Marketing\", \"Marketing\", \"Medical\", \"Life Sciences\", \"Other\", \"Medical\", \"Medical\", \"Life Sciences\", \"Other\", \"Other\", \"Medical\", \"Other\", \"Life Sciences\", \"Life Sciences\", \"Medical\", \"Life Sciences\", \"Life Sciences\", \"Medical\", \"Life Sciences\", \"Medical\", \"Life Sciences\", \"Life Sciences\", \"Medical\", \"Life Sciences\", \"Marketing\", \"Life Sciences\", \"Life Sciences\", \"Technical Degree\", \"Life Sciences\", \"Technical Degree\", \"Medical\", \"Life Sciences\", \"Life Sciences\", \"Life Sciences\", \"Life Sciences\", \"Medical\", \"Life Sciences\", \"Life Sciences\", \"Medical\", \"Medical\", \"Technical Degree\", \"Life Sciences\", \"Life Sciences\", \"Medical\", \"Life Sciences\", \"Life Sciences\", \"Life Sciences\", \"Medical\", \"Life Sciences\", \"Life Sciences\", \"Life Sciences\", \"Medical\", \"Marketing\", \"Medical\", \"Medical\", \"Medical\", \"Life Sciences\", \"Life Sciences\", \"Medical\", \"Life Sciences\", \"Life Sciences\", \"Life Sciences\", \"Technical Degree\", \"Life Sciences\", \"Technical Degree\", \"Other\", \"Life Sciences\", \"Medical\", \"Life Sciences\", \"Technical Degree\", \"Life Sciences\", \"Life Sciences\", \"Technical Degree\", \"Other\", \"Marketing\", \"Life Sciences\", \"Medical\", \"Life Sciences\", \"Medical\", \"Life Sciences\", \"Human Resources\", \"Marketing\", \"Life Sciences\", \"Marketing\", \"Technical Degree\", \"Technical Degree\", \"Life Sciences\", \"Medical\", \"Life Sciences\", \"Medical\", \"Human Resources\", \"Life Sciences\", \"Medical\", \"Medical\", \"Life Sciences\", \"Technical Degree\", \"Life Sciences\", \"Technical Degree\", \"Life Sciences\", \"Technical Degree\", \"Medical\", \"Medical\", \"Life Sciences\", \"Medical\", \"Life Sciences\", \"Medical\", \"Medical\", \"Medical\", \"Life Sciences\", \"Life Sciences\", \"Life Sciences\", \"Marketing\", \"Medical\"], \"type\": \"barpolar\"}],\n",
       "                        {\"barmode\": \"relative\", \"legend\": {\"title\": {\"text\": \"BusinessTravel\"}, \"tracegroupgap\": 0}, \"polar\": {\"angularaxis\": {\"direction\": \"clockwise\", \"rotation\": 90}, \"domain\": {\"x\": [0.0, 1.0], \"y\": [0.0, 1.0]}}, \"template\": {\"data\": {\"bar\": [{\"error_x\": {\"color\": \"#2a3f5f\"}, \"error_y\": {\"color\": \"#2a3f5f\"}, \"marker\": {\"line\": {\"color\": \"#E5ECF6\", \"width\": 0.5}}, \"type\": \"bar\"}], \"barpolar\": [{\"marker\": {\"line\": {\"color\": \"#E5ECF6\", \"width\": 0.5}}, \"type\": \"barpolar\"}], \"carpet\": [{\"aaxis\": {\"endlinecolor\": \"#2a3f5f\", \"gridcolor\": \"white\", \"linecolor\": \"white\", \"minorgridcolor\": \"white\", \"startlinecolor\": \"#2a3f5f\"}, \"baxis\": {\"endlinecolor\": \"#2a3f5f\", \"gridcolor\": \"white\", \"linecolor\": \"white\", \"minorgridcolor\": \"white\", \"startlinecolor\": \"#2a3f5f\"}, \"type\": \"carpet\"}], \"choropleth\": [{\"colorbar\": {\"outlinewidth\": 0, \"ticks\": \"\"}, \"type\": \"choropleth\"}], \"contour\": [{\"colorbar\": {\"outlinewidth\": 0, \"ticks\": \"\"}, \"colorscale\": [[0.0, \"#0d0887\"], [0.1111111111111111, \"#46039f\"], [0.2222222222222222, \"#7201a8\"], [0.3333333333333333, \"#9c179e\"], [0.4444444444444444, \"#bd3786\"], [0.5555555555555556, \"#d8576b\"], [0.6666666666666666, \"#ed7953\"], [0.7777777777777778, \"#fb9f3a\"], [0.8888888888888888, \"#fdca26\"], [1.0, \"#f0f921\"]], \"type\": \"contour\"}], \"contourcarpet\": [{\"colorbar\": {\"outlinewidth\": 0, \"ticks\": \"\"}, \"type\": \"contourcarpet\"}], \"heatmap\": [{\"colorbar\": {\"outlinewidth\": 0, \"ticks\": \"\"}, \"colorscale\": [[0.0, \"#0d0887\"], [0.1111111111111111, \"#46039f\"], [0.2222222222222222, \"#7201a8\"], [0.3333333333333333, \"#9c179e\"], [0.4444444444444444, \"#bd3786\"], [0.5555555555555556, \"#d8576b\"], [0.6666666666666666, \"#ed7953\"], [0.7777777777777778, \"#fb9f3a\"], [0.8888888888888888, \"#fdca26\"], [1.0, \"#f0f921\"]], \"type\": \"heatmap\"}], \"heatmapgl\": [{\"colorbar\": {\"outlinewidth\": 0, \"ticks\": \"\"}, \"colorscale\": [[0.0, \"#0d0887\"], [0.1111111111111111, \"#46039f\"], [0.2222222222222222, \"#7201a8\"], [0.3333333333333333, \"#9c179e\"], [0.4444444444444444, \"#bd3786\"], [0.5555555555555556, \"#d8576b\"], [0.6666666666666666, \"#ed7953\"], [0.7777777777777778, \"#fb9f3a\"], [0.8888888888888888, \"#fdca26\"], [1.0, \"#f0f921\"]], \"type\": \"heatmapgl\"}], \"histogram\": [{\"marker\": {\"colorbar\": {\"outlinewidth\": 0, \"ticks\": \"\"}}, \"type\": \"histogram\"}], \"histogram2d\": [{\"colorbar\": {\"outlinewidth\": 0, \"ticks\": \"\"}, \"colorscale\": [[0.0, \"#0d0887\"], [0.1111111111111111, \"#46039f\"], [0.2222222222222222, \"#7201a8\"], [0.3333333333333333, \"#9c179e\"], [0.4444444444444444, \"#bd3786\"], [0.5555555555555556, \"#d8576b\"], [0.6666666666666666, \"#ed7953\"], [0.7777777777777778, \"#fb9f3a\"], [0.8888888888888888, \"#fdca26\"], [1.0, \"#f0f921\"]], \"type\": \"histogram2d\"}], \"histogram2dcontour\": [{\"colorbar\": {\"outlinewidth\": 0, \"ticks\": \"\"}, \"colorscale\": [[0.0, \"#0d0887\"], [0.1111111111111111, \"#46039f\"], [0.2222222222222222, \"#7201a8\"], [0.3333333333333333, \"#9c179e\"], [0.4444444444444444, \"#bd3786\"], [0.5555555555555556, \"#d8576b\"], [0.6666666666666666, \"#ed7953\"], [0.7777777777777778, \"#fb9f3a\"], [0.8888888888888888, \"#fdca26\"], [1.0, \"#f0f921\"]], \"type\": \"histogram2dcontour\"}], \"mesh3d\": [{\"colorbar\": {\"outlinewidth\": 0, \"ticks\": \"\"}, \"type\": \"mesh3d\"}], \"parcoords\": [{\"line\": {\"colorbar\": {\"outlinewidth\": 0, \"ticks\": \"\"}}, \"type\": \"parcoords\"}], \"pie\": [{\"automargin\": true, \"type\": \"pie\"}], \"scatter\": [{\"marker\": {\"colorbar\": {\"outlinewidth\": 0, \"ticks\": \"\"}}, \"type\": \"scatter\"}], \"scatter3d\": [{\"line\": {\"colorbar\": {\"outlinewidth\": 0, \"ticks\": \"\"}}, \"marker\": {\"colorbar\": {\"outlinewidth\": 0, \"ticks\": \"\"}}, \"type\": \"scatter3d\"}], \"scattercarpet\": [{\"marker\": {\"colorbar\": {\"outlinewidth\": 0, \"ticks\": \"\"}}, \"type\": \"scattercarpet\"}], \"scattergeo\": [{\"marker\": {\"colorbar\": {\"outlinewidth\": 0, \"ticks\": \"\"}}, \"type\": \"scattergeo\"}], \"scattergl\": [{\"marker\": {\"colorbar\": {\"outlinewidth\": 0, \"ticks\": \"\"}}, \"type\": \"scattergl\"}], \"scattermapbox\": [{\"marker\": {\"colorbar\": {\"outlinewidth\": 0, \"ticks\": \"\"}}, \"type\": \"scattermapbox\"}], \"scatterpolar\": [{\"marker\": {\"colorbar\": {\"outlinewidth\": 0, \"ticks\": \"\"}}, \"type\": \"scatterpolar\"}], \"scatterpolargl\": [{\"marker\": {\"colorbar\": {\"outlinewidth\": 0, \"ticks\": \"\"}}, \"type\": \"scatterpolargl\"}], \"scatterternary\": [{\"marker\": {\"colorbar\": {\"outlinewidth\": 0, \"ticks\": \"\"}}, \"type\": \"scatterternary\"}], \"surface\": [{\"colorbar\": {\"outlinewidth\": 0, \"ticks\": \"\"}, \"colorscale\": [[0.0, \"#0d0887\"], [0.1111111111111111, \"#46039f\"], [0.2222222222222222, \"#7201a8\"], [0.3333333333333333, \"#9c179e\"], [0.4444444444444444, \"#bd3786\"], [0.5555555555555556, \"#d8576b\"], [0.6666666666666666, \"#ed7953\"], [0.7777777777777778, \"#fb9f3a\"], [0.8888888888888888, \"#fdca26\"], [1.0, \"#f0f921\"]], \"type\": \"surface\"}], \"table\": [{\"cells\": {\"fill\": {\"color\": \"#EBF0F8\"}, \"line\": {\"color\": \"white\"}}, \"header\": {\"fill\": {\"color\": \"#C8D4E3\"}, \"line\": {\"color\": \"white\"}}, \"type\": \"table\"}]}, \"layout\": {\"annotationdefaults\": {\"arrowcolor\": \"#2a3f5f\", \"arrowhead\": 0, \"arrowwidth\": 1}, \"coloraxis\": {\"colorbar\": {\"outlinewidth\": 0, \"ticks\": \"\"}}, \"colorscale\": {\"diverging\": [[0, \"#8e0152\"], [0.1, \"#c51b7d\"], [0.2, \"#de77ae\"], [0.3, \"#f1b6da\"], [0.4, \"#fde0ef\"], [0.5, \"#f7f7f7\"], [0.6, \"#e6f5d0\"], [0.7, \"#b8e186\"], [0.8, \"#7fbc41\"], [0.9, \"#4d9221\"], [1, \"#276419\"]], \"sequential\": [[0.0, \"#0d0887\"], [0.1111111111111111, \"#46039f\"], [0.2222222222222222, \"#7201a8\"], [0.3333333333333333, \"#9c179e\"], [0.4444444444444444, \"#bd3786\"], [0.5555555555555556, \"#d8576b\"], [0.6666666666666666, \"#ed7953\"], [0.7777777777777778, \"#fb9f3a\"], [0.8888888888888888, \"#fdca26\"], [1.0, \"#f0f921\"]], \"sequentialminus\": [[0.0, \"#0d0887\"], [0.1111111111111111, \"#46039f\"], [0.2222222222222222, \"#7201a8\"], [0.3333333333333333, \"#9c179e\"], [0.4444444444444444, \"#bd3786\"], [0.5555555555555556, \"#d8576b\"], [0.6666666666666666, \"#ed7953\"], [0.7777777777777778, \"#fb9f3a\"], [0.8888888888888888, \"#fdca26\"], [1.0, \"#f0f921\"]]}, \"colorway\": [\"#636efa\", \"#EF553B\", \"#00cc96\", \"#ab63fa\", \"#FFA15A\", \"#19d3f3\", \"#FF6692\", \"#B6E880\", \"#FF97FF\", \"#FECB52\"], \"font\": {\"color\": \"#2a3f5f\"}, \"geo\": {\"bgcolor\": \"white\", \"lakecolor\": \"white\", \"landcolor\": \"#E5ECF6\", \"showlakes\": true, \"showland\": true, \"subunitcolor\": \"white\"}, \"hoverlabel\": {\"align\": \"left\"}, \"hovermode\": \"closest\", \"mapbox\": {\"style\": \"light\"}, \"paper_bgcolor\": \"white\", \"plot_bgcolor\": \"#E5ECF6\", \"polar\": {\"angularaxis\": {\"gridcolor\": \"white\", \"linecolor\": \"white\", \"ticks\": \"\"}, \"bgcolor\": \"#E5ECF6\", \"radialaxis\": {\"gridcolor\": \"white\", \"linecolor\": \"white\", \"ticks\": \"\"}}, \"scene\": {\"xaxis\": {\"backgroundcolor\": \"#E5ECF6\", \"gridcolor\": \"white\", \"gridwidth\": 2, \"linecolor\": \"white\", \"showbackground\": true, \"ticks\": \"\", \"zerolinecolor\": \"white\"}, \"yaxis\": {\"backgroundcolor\": \"#E5ECF6\", \"gridcolor\": \"white\", \"gridwidth\": 2, \"linecolor\": \"white\", \"showbackground\": true, \"ticks\": \"\", \"zerolinecolor\": \"white\"}, \"zaxis\": {\"backgroundcolor\": \"#E5ECF6\", \"gridcolor\": \"white\", \"gridwidth\": 2, \"linecolor\": \"white\", \"showbackground\": true, \"ticks\": \"\", \"zerolinecolor\": \"white\"}}, \"shapedefaults\": {\"line\": {\"color\": \"#2a3f5f\"}}, \"ternary\": {\"aaxis\": {\"gridcolor\": \"white\", \"linecolor\": \"white\", \"ticks\": \"\"}, \"baxis\": {\"gridcolor\": \"white\", \"linecolor\": \"white\", \"ticks\": \"\"}, \"bgcolor\": \"#E5ECF6\", \"caxis\": {\"gridcolor\": \"white\", \"linecolor\": \"white\", \"ticks\": \"\"}}, \"title\": {\"x\": 0.05}, \"xaxis\": {\"automargin\": true, \"gridcolor\": \"white\", \"linecolor\": \"white\", \"ticks\": \"\", \"title\": {\"standoff\": 15}, \"zerolinecolor\": \"white\", \"zerolinewidth\": 2}, \"yaxis\": {\"automargin\": true, \"gridcolor\": \"white\", \"linecolor\": \"white\", \"ticks\": \"\", \"title\": {\"standoff\": 15}, \"zerolinecolor\": \"white\", \"zerolinewidth\": 2}}}, \"title\": {\"text\": \"Part of a continuous color scale used as a discrete sequence\"}},\n",
       "                        {\"responsive\": true}\n",
       "                    ).then(function(){\n",
       "                            \n",
       "var gd = document.getElementById('3f7b77f1-82a4-4f01-8cb7-7c02db77587e');\n",
       "var x = new MutationObserver(function (mutations, observer) {{\n",
       "        var display = window.getComputedStyle(gd).display;\n",
       "        if (!display || display === 'none') {{\n",
       "            console.log([gd, 'removed!']);\n",
       "            Plotly.purge(gd);\n",
       "            observer.disconnect();\n",
       "        }}\n",
       "}});\n",
       "\n",
       "// Listen for the removal of the full notebook cells\n",
       "var notebookContainer = gd.closest('#notebook-container');\n",
       "if (notebookContainer) {{\n",
       "    x.observe(notebookContainer, {childList: true});\n",
       "}}\n",
       "\n",
       "// Listen for the clearing of the current output cell\n",
       "var outputEl = gd.closest('.output');\n",
       "if (outputEl) {{\n",
       "    x.observe(outputEl, {childList: true});\n",
       "}}\n",
       "\n",
       "                        })\n",
       "                };\n",
       "                });\n",
       "            </script>\n",
       "        </div>"
      ]
     },
     "metadata": {},
     "output_type": "display_data"
    }
   ],
   "source": [
    "import plotly.express as px\n",
    "#df = px.data.wind()\n",
    "fig = px.bar_polar(df, r=\"Department\", theta=\"EducationField\", color=\"BusinessTravel\",\n",
    "                   color_discrete_sequence= px.colors.sequential.Plasma_r,\n",
    "                   title=\"Part of a continuous color scale used as a discrete sequence\"\n",
    "                  )\n",
    "fig.show()"
   ]
  },
  {
   "cell_type": "code",
   "execution_count": 81,
   "metadata": {},
   "outputs": [
    {
     "ename": "TypeError",
     "evalue": "histogram() got an unexpected keyword argument 'bin'",
     "output_type": "error",
     "traceback": [
      "\u001b[0;31m---------------------------------------------------------------------------\u001b[0m",
      "\u001b[0;31mTypeError\u001b[0m                                 Traceback (most recent call last)",
      "\u001b[0;32m<ipython-input-81-ffac3561110d>\u001b[0m in \u001b[0;36m<module>\u001b[0;34m\u001b[0m\n\u001b[1;32m      1\u001b[0m \u001b[0;32mimport\u001b[0m \u001b[0mplotly\u001b[0m\u001b[0;34m.\u001b[0m\u001b[0mexpress\u001b[0m \u001b[0;32mas\u001b[0m \u001b[0mpx\u001b[0m\u001b[0;34m\u001b[0m\u001b[0;34m\u001b[0m\u001b[0m\n\u001b[0;32m----> 2\u001b[0;31m \u001b[0mfig\u001b[0m \u001b[0;34m=\u001b[0m \u001b[0mpx\u001b[0m\u001b[0;34m.\u001b[0m\u001b[0mhistogram\u001b[0m\u001b[0;34m(\u001b[0m\u001b[0mx\u001b[0m\u001b[0;34m=\u001b[0m\u001b[0mexp\u001b[0m\u001b[0;34m.\u001b[0m\u001b[0mWorkLifeBalance\u001b[0m\u001b[0;34m,\u001b[0m \u001b[0mcolor\u001b[0m\u001b[0;34m=\u001b[0m\u001b[0mexp\u001b[0m\u001b[0;34m.\u001b[0m\u001b[0mAttrition\u001b[0m\u001b[0;34m,\u001b[0m \u001b[0mbin\u001b[0m\u001b[0;34m=\u001b[0m\u001b[0;36m0.1\u001b[0m\u001b[0;34m)\u001b[0m\u001b[0;34m\u001b[0m\u001b[0;34m\u001b[0m\u001b[0m\n\u001b[0m\u001b[1;32m      3\u001b[0m fig.update_layout(\n\u001b[1;32m      4\u001b[0m     \u001b[0mwidth\u001b[0m\u001b[0;34m=\u001b[0m\u001b[0;36m600\u001b[0m\u001b[0;34m,\u001b[0m\u001b[0;34m\u001b[0m\u001b[0;34m\u001b[0m\u001b[0m\n\u001b[1;32m      5\u001b[0m     \u001b[0mheight\u001b[0m\u001b[0;34m=\u001b[0m\u001b[0;36m300\u001b[0m\u001b[0;34m,\u001b[0m\u001b[0;34m\u001b[0m\u001b[0;34m\u001b[0m\u001b[0m\n",
      "\u001b[0;31mTypeError\u001b[0m: histogram() got an unexpected keyword argument 'bin'"
     ]
    }
   ],
   "source": [
    "import plotly.express as px\n",
    "fig = px.histogram(x=exp.WorkLifeBalance, color=exp.Attrition, bin=0.1)\n",
    "fig.update_layout(\n",
    "    width=600,\n",
    "    height=300,\n",
    "    margin=dict(l=20, r=20, t=20, b=20), \n",
    "    title=\"Plot Title\",\n",
    "    xaxis_title=\"Attrition (Yes/No)\",\n",
    "    yaxis_title=\"Count\",\n",
    "    font=dict(\n",
    "        family=\"Courier New, monospace\",\n",
    "        size=10,\n",
    "        color=\"#7f7f7f\"\n",
    "    )\n",
    ")\n",
    "fig.show()"
   ]
  },
  {
   "cell_type": "markdown",
   "metadata": {},
   "source": [
    "Age - Attrition\n",
    "Business-Attrition\n",
    "Department-Attrition"
   ]
  },
  {
   "cell_type": "code",
   "execution_count": 4,
   "metadata": {},
   "outputs": [
    {
     "data": {
      "text/plain": [
       "Index(['Age', 'Attrition', 'BusinessTravel', 'DailyRate', 'Department',\n",
       "       'DistanceFromHome', 'Education', 'EducationField', 'EmployeeCount',\n",
       "       'EmployeeNumber', 'EnvironmentSatisfaction', 'Gender', 'HourlyRate',\n",
       "       'JobInvolvement', 'JobLevel', 'JobRole', 'JobSatisfaction',\n",
       "       'MaritalStatus', 'MonthlyIncome', 'MonthlyRate', 'NumCompaniesWorked',\n",
       "       'Over18', 'OverTime', 'PercentSalaryHike', 'PerformanceRating',\n",
       "       'RelationshipSatisfaction', 'StandardHours', 'StockOptionLevel',\n",
       "       'TotalWorkingYears', 'TrainingTimesLastYear', 'WorkLifeBalance',\n",
       "       'YearsAtCompany', 'YearsInCurrentRole', 'YearsSinceLastPromotion',\n",
       "       'YearsWithCurrManager'],\n",
       "      dtype='object')"
      ]
     },
     "execution_count": 4,
     "metadata": {},
     "output_type": "execute_result"
    }
   ],
   "source": [
    "df.columns"
   ]
  },
  {
   "cell_type": "code",
   "execution_count": 5,
   "metadata": {},
   "outputs": [
    {
     "data": {
      "text/plain": [
       "1470"
      ]
     },
     "execution_count": 5,
     "metadata": {},
     "output_type": "execute_result"
    }
   ],
   "source": [
    "len(df)"
   ]
  },
  {
   "cell_type": "code",
   "execution_count": 6,
   "metadata": {},
   "outputs": [
    {
     "name": "stdout",
     "output_type": "stream",
     "text": [
      "237\n",
      "1233\n"
     ]
    }
   ],
   "source": [
    "print(df.Attrition.value_counts().Yes) #237\n",
    "print(df.Attrition.value_counts().No) #1233\n",
    "#total: 1470"
   ]
  },
  {
   "cell_type": "code",
   "execution_count": 36,
   "metadata": {},
   "outputs": [
    {
     "data": {
      "application/vnd.plotly.v1+json": {
       "config": {
        "plotlyServerURL": "https://plot.ly"
       },
       "data": [
        {
         "domain": {
          "x": [
           0,
           0.5
          ]
         },
         "hole": 0.3,
         "hoverinfo": "label+percent",
         "labels": [
          "Yes",
          "No"
         ],
         "name": "number of students rate",
         "type": "pie",
         "values": [
          237,
          1233
         ]
        }
       ],
       "layout": {
        "height": 400,
        "margin": {
         "b": 20,
         "l": 20,
         "r": 20,
         "t": 20
        },
        "template": {
         "data": {
          "bar": [
           {
            "error_x": {
             "color": "#2a3f5f"
            },
            "error_y": {
             "color": "#2a3f5f"
            },
            "marker": {
             "line": {
              "color": "#E5ECF6",
              "width": 0.5
             }
            },
            "type": "bar"
           }
          ],
          "barpolar": [
           {
            "marker": {
             "line": {
              "color": "#E5ECF6",
              "width": 0.5
             }
            },
            "type": "barpolar"
           }
          ],
          "carpet": [
           {
            "aaxis": {
             "endlinecolor": "#2a3f5f",
             "gridcolor": "white",
             "linecolor": "white",
             "minorgridcolor": "white",
             "startlinecolor": "#2a3f5f"
            },
            "baxis": {
             "endlinecolor": "#2a3f5f",
             "gridcolor": "white",
             "linecolor": "white",
             "minorgridcolor": "white",
             "startlinecolor": "#2a3f5f"
            },
            "type": "carpet"
           }
          ],
          "choropleth": [
           {
            "colorbar": {
             "outlinewidth": 0,
             "ticks": ""
            },
            "type": "choropleth"
           }
          ],
          "contour": [
           {
            "colorbar": {
             "outlinewidth": 0,
             "ticks": ""
            },
            "colorscale": [
             [
              0,
              "#0d0887"
             ],
             [
              0.1111111111111111,
              "#46039f"
             ],
             [
              0.2222222222222222,
              "#7201a8"
             ],
             [
              0.3333333333333333,
              "#9c179e"
             ],
             [
              0.4444444444444444,
              "#bd3786"
             ],
             [
              0.5555555555555556,
              "#d8576b"
             ],
             [
              0.6666666666666666,
              "#ed7953"
             ],
             [
              0.7777777777777778,
              "#fb9f3a"
             ],
             [
              0.8888888888888888,
              "#fdca26"
             ],
             [
              1,
              "#f0f921"
             ]
            ],
            "type": "contour"
           }
          ],
          "contourcarpet": [
           {
            "colorbar": {
             "outlinewidth": 0,
             "ticks": ""
            },
            "type": "contourcarpet"
           }
          ],
          "heatmap": [
           {
            "colorbar": {
             "outlinewidth": 0,
             "ticks": ""
            },
            "colorscale": [
             [
              0,
              "#0d0887"
             ],
             [
              0.1111111111111111,
              "#46039f"
             ],
             [
              0.2222222222222222,
              "#7201a8"
             ],
             [
              0.3333333333333333,
              "#9c179e"
             ],
             [
              0.4444444444444444,
              "#bd3786"
             ],
             [
              0.5555555555555556,
              "#d8576b"
             ],
             [
              0.6666666666666666,
              "#ed7953"
             ],
             [
              0.7777777777777778,
              "#fb9f3a"
             ],
             [
              0.8888888888888888,
              "#fdca26"
             ],
             [
              1,
              "#f0f921"
             ]
            ],
            "type": "heatmap"
           }
          ],
          "heatmapgl": [
           {
            "colorbar": {
             "outlinewidth": 0,
             "ticks": ""
            },
            "colorscale": [
             [
              0,
              "#0d0887"
             ],
             [
              0.1111111111111111,
              "#46039f"
             ],
             [
              0.2222222222222222,
              "#7201a8"
             ],
             [
              0.3333333333333333,
              "#9c179e"
             ],
             [
              0.4444444444444444,
              "#bd3786"
             ],
             [
              0.5555555555555556,
              "#d8576b"
             ],
             [
              0.6666666666666666,
              "#ed7953"
             ],
             [
              0.7777777777777778,
              "#fb9f3a"
             ],
             [
              0.8888888888888888,
              "#fdca26"
             ],
             [
              1,
              "#f0f921"
             ]
            ],
            "type": "heatmapgl"
           }
          ],
          "histogram": [
           {
            "marker": {
             "colorbar": {
              "outlinewidth": 0,
              "ticks": ""
             }
            },
            "type": "histogram"
           }
          ],
          "histogram2d": [
           {
            "colorbar": {
             "outlinewidth": 0,
             "ticks": ""
            },
            "colorscale": [
             [
              0,
              "#0d0887"
             ],
             [
              0.1111111111111111,
              "#46039f"
             ],
             [
              0.2222222222222222,
              "#7201a8"
             ],
             [
              0.3333333333333333,
              "#9c179e"
             ],
             [
              0.4444444444444444,
              "#bd3786"
             ],
             [
              0.5555555555555556,
              "#d8576b"
             ],
             [
              0.6666666666666666,
              "#ed7953"
             ],
             [
              0.7777777777777778,
              "#fb9f3a"
             ],
             [
              0.8888888888888888,
              "#fdca26"
             ],
             [
              1,
              "#f0f921"
             ]
            ],
            "type": "histogram2d"
           }
          ],
          "histogram2dcontour": [
           {
            "colorbar": {
             "outlinewidth": 0,
             "ticks": ""
            },
            "colorscale": [
             [
              0,
              "#0d0887"
             ],
             [
              0.1111111111111111,
              "#46039f"
             ],
             [
              0.2222222222222222,
              "#7201a8"
             ],
             [
              0.3333333333333333,
              "#9c179e"
             ],
             [
              0.4444444444444444,
              "#bd3786"
             ],
             [
              0.5555555555555556,
              "#d8576b"
             ],
             [
              0.6666666666666666,
              "#ed7953"
             ],
             [
              0.7777777777777778,
              "#fb9f3a"
             ],
             [
              0.8888888888888888,
              "#fdca26"
             ],
             [
              1,
              "#f0f921"
             ]
            ],
            "type": "histogram2dcontour"
           }
          ],
          "mesh3d": [
           {
            "colorbar": {
             "outlinewidth": 0,
             "ticks": ""
            },
            "type": "mesh3d"
           }
          ],
          "parcoords": [
           {
            "line": {
             "colorbar": {
              "outlinewidth": 0,
              "ticks": ""
             }
            },
            "type": "parcoords"
           }
          ],
          "pie": [
           {
            "automargin": true,
            "type": "pie"
           }
          ],
          "scatter": [
           {
            "marker": {
             "colorbar": {
              "outlinewidth": 0,
              "ticks": ""
             }
            },
            "type": "scatter"
           }
          ],
          "scatter3d": [
           {
            "line": {
             "colorbar": {
              "outlinewidth": 0,
              "ticks": ""
             }
            },
            "marker": {
             "colorbar": {
              "outlinewidth": 0,
              "ticks": ""
             }
            },
            "type": "scatter3d"
           }
          ],
          "scattercarpet": [
           {
            "marker": {
             "colorbar": {
              "outlinewidth": 0,
              "ticks": ""
             }
            },
            "type": "scattercarpet"
           }
          ],
          "scattergeo": [
           {
            "marker": {
             "colorbar": {
              "outlinewidth": 0,
              "ticks": ""
             }
            },
            "type": "scattergeo"
           }
          ],
          "scattergl": [
           {
            "marker": {
             "colorbar": {
              "outlinewidth": 0,
              "ticks": ""
             }
            },
            "type": "scattergl"
           }
          ],
          "scattermapbox": [
           {
            "marker": {
             "colorbar": {
              "outlinewidth": 0,
              "ticks": ""
             }
            },
            "type": "scattermapbox"
           }
          ],
          "scatterpolar": [
           {
            "marker": {
             "colorbar": {
              "outlinewidth": 0,
              "ticks": ""
             }
            },
            "type": "scatterpolar"
           }
          ],
          "scatterpolargl": [
           {
            "marker": {
             "colorbar": {
              "outlinewidth": 0,
              "ticks": ""
             }
            },
            "type": "scatterpolargl"
           }
          ],
          "scatterternary": [
           {
            "marker": {
             "colorbar": {
              "outlinewidth": 0,
              "ticks": ""
             }
            },
            "type": "scatterternary"
           }
          ],
          "surface": [
           {
            "colorbar": {
             "outlinewidth": 0,
             "ticks": ""
            },
            "colorscale": [
             [
              0,
              "#0d0887"
             ],
             [
              0.1111111111111111,
              "#46039f"
             ],
             [
              0.2222222222222222,
              "#7201a8"
             ],
             [
              0.3333333333333333,
              "#9c179e"
             ],
             [
              0.4444444444444444,
              "#bd3786"
             ],
             [
              0.5555555555555556,
              "#d8576b"
             ],
             [
              0.6666666666666666,
              "#ed7953"
             ],
             [
              0.7777777777777778,
              "#fb9f3a"
             ],
             [
              0.8888888888888888,
              "#fdca26"
             ],
             [
              1,
              "#f0f921"
             ]
            ],
            "type": "surface"
           }
          ],
          "table": [
           {
            "cells": {
             "fill": {
              "color": "#EBF0F8"
             },
             "line": {
              "color": "white"
             }
            },
            "header": {
             "fill": {
              "color": "#C8D4E3"
             },
             "line": {
              "color": "white"
             }
            },
            "type": "table"
           }
          ]
         },
         "layout": {
          "annotationdefaults": {
           "arrowcolor": "#2a3f5f",
           "arrowhead": 0,
           "arrowwidth": 1
          },
          "coloraxis": {
           "colorbar": {
            "outlinewidth": 0,
            "ticks": ""
           }
          },
          "colorscale": {
           "diverging": [
            [
             0,
             "#8e0152"
            ],
            [
             0.1,
             "#c51b7d"
            ],
            [
             0.2,
             "#de77ae"
            ],
            [
             0.3,
             "#f1b6da"
            ],
            [
             0.4,
             "#fde0ef"
            ],
            [
             0.5,
             "#f7f7f7"
            ],
            [
             0.6,
             "#e6f5d0"
            ],
            [
             0.7,
             "#b8e186"
            ],
            [
             0.8,
             "#7fbc41"
            ],
            [
             0.9,
             "#4d9221"
            ],
            [
             1,
             "#276419"
            ]
           ],
           "sequential": [
            [
             0,
             "#0d0887"
            ],
            [
             0.1111111111111111,
             "#46039f"
            ],
            [
             0.2222222222222222,
             "#7201a8"
            ],
            [
             0.3333333333333333,
             "#9c179e"
            ],
            [
             0.4444444444444444,
             "#bd3786"
            ],
            [
             0.5555555555555556,
             "#d8576b"
            ],
            [
             0.6666666666666666,
             "#ed7953"
            ],
            [
             0.7777777777777778,
             "#fb9f3a"
            ],
            [
             0.8888888888888888,
             "#fdca26"
            ],
            [
             1,
             "#f0f921"
            ]
           ],
           "sequentialminus": [
            [
             0,
             "#0d0887"
            ],
            [
             0.1111111111111111,
             "#46039f"
            ],
            [
             0.2222222222222222,
             "#7201a8"
            ],
            [
             0.3333333333333333,
             "#9c179e"
            ],
            [
             0.4444444444444444,
             "#bd3786"
            ],
            [
             0.5555555555555556,
             "#d8576b"
            ],
            [
             0.6666666666666666,
             "#ed7953"
            ],
            [
             0.7777777777777778,
             "#fb9f3a"
            ],
            [
             0.8888888888888888,
             "#fdca26"
            ],
            [
             1,
             "#f0f921"
            ]
           ]
          },
          "colorway": [
           "#636efa",
           "#EF553B",
           "#00cc96",
           "#ab63fa",
           "#FFA15A",
           "#19d3f3",
           "#FF6692",
           "#B6E880",
           "#FF97FF",
           "#FECB52"
          ],
          "font": {
           "color": "#2a3f5f"
          },
          "geo": {
           "bgcolor": "white",
           "lakecolor": "white",
           "landcolor": "#E5ECF6",
           "showlakes": true,
           "showland": true,
           "subunitcolor": "white"
          },
          "hoverlabel": {
           "align": "left"
          },
          "hovermode": "closest",
          "mapbox": {
           "style": "light"
          },
          "paper_bgcolor": "white",
          "plot_bgcolor": "#E5ECF6",
          "polar": {
           "angularaxis": {
            "gridcolor": "white",
            "linecolor": "white",
            "ticks": ""
           },
           "bgcolor": "#E5ECF6",
           "radialaxis": {
            "gridcolor": "white",
            "linecolor": "white",
            "ticks": ""
           }
          },
          "scene": {
           "xaxis": {
            "backgroundcolor": "#E5ECF6",
            "gridcolor": "white",
            "gridwidth": 2,
            "linecolor": "white",
            "showbackground": true,
            "ticks": "",
            "zerolinecolor": "white"
           },
           "yaxis": {
            "backgroundcolor": "#E5ECF6",
            "gridcolor": "white",
            "gridwidth": 2,
            "linecolor": "white",
            "showbackground": true,
            "ticks": "",
            "zerolinecolor": "white"
           },
           "zaxis": {
            "backgroundcolor": "#E5ECF6",
            "gridcolor": "white",
            "gridwidth": 2,
            "linecolor": "white",
            "showbackground": true,
            "ticks": "",
            "zerolinecolor": "white"
           }
          },
          "shapedefaults": {
           "line": {
            "color": "#2a3f5f"
           }
          },
          "ternary": {
           "aaxis": {
            "gridcolor": "white",
            "linecolor": "white",
            "ticks": ""
           },
           "baxis": {
            "gridcolor": "white",
            "linecolor": "white",
            "ticks": ""
           },
           "bgcolor": "#E5ECF6",
           "caxis": {
            "gridcolor": "white",
            "linecolor": "white",
            "ticks": ""
           }
          },
          "title": {
           "x": 0.05
          },
          "xaxis": {
           "automargin": true,
           "gridcolor": "white",
           "linecolor": "white",
           "ticks": "",
           "title": {
            "standoff": 15
           },
           "zerolinecolor": "white",
           "zerolinewidth": 2
          },
          "yaxis": {
           "automargin": true,
           "gridcolor": "white",
           "linecolor": "white",
           "ticks": "",
           "title": {
            "standoff": 15
           },
           "zerolinecolor": "white",
           "zerolinewidth": 2
          }
         }
        },
        "title": {
         "text": "Donut Chart for Class Distribution"
        },
        "width": 400
       }
      },
      "text/html": [
       "<div>\n",
       "        \n",
       "        \n",
       "            <div id=\"9e5b24b8-47bf-4e66-913f-cb6ef7b6ecf5\" class=\"plotly-graph-div\" style=\"height:400px; width:400px;\"></div>\n",
       "            <script type=\"text/javascript\">\n",
       "                require([\"plotly\"], function(Plotly) {\n",
       "                    window.PLOTLYENV=window.PLOTLYENV || {};\n",
       "                    \n",
       "                if (document.getElementById(\"9e5b24b8-47bf-4e66-913f-cb6ef7b6ecf5\")) {\n",
       "                    Plotly.newPlot(\n",
       "                        '9e5b24b8-47bf-4e66-913f-cb6ef7b6ecf5',\n",
       "                        [{\"domain\": {\"x\": [0, 0.5]}, \"hole\": 0.3, \"hoverinfo\": \"label+percent\", \"labels\": [\"Yes\", \"No\"], \"name\": \"number of students rate\", \"type\": \"pie\", \"values\": [237, 1233]}],\n",
       "                        {\"height\": 400, \"margin\": {\"b\": 20, \"l\": 20, \"r\": 20, \"t\": 20}, \"template\": {\"data\": {\"bar\": [{\"error_x\": {\"color\": \"#2a3f5f\"}, \"error_y\": {\"color\": \"#2a3f5f\"}, \"marker\": {\"line\": {\"color\": \"#E5ECF6\", \"width\": 0.5}}, \"type\": \"bar\"}], \"barpolar\": [{\"marker\": {\"line\": {\"color\": \"#E5ECF6\", \"width\": 0.5}}, \"type\": \"barpolar\"}], \"carpet\": [{\"aaxis\": {\"endlinecolor\": \"#2a3f5f\", \"gridcolor\": \"white\", \"linecolor\": \"white\", \"minorgridcolor\": \"white\", \"startlinecolor\": \"#2a3f5f\"}, \"baxis\": {\"endlinecolor\": \"#2a3f5f\", \"gridcolor\": \"white\", \"linecolor\": \"white\", \"minorgridcolor\": \"white\", \"startlinecolor\": \"#2a3f5f\"}, \"type\": \"carpet\"}], \"choropleth\": [{\"colorbar\": {\"outlinewidth\": 0, \"ticks\": \"\"}, \"type\": \"choropleth\"}], \"contour\": [{\"colorbar\": {\"outlinewidth\": 0, \"ticks\": \"\"}, \"colorscale\": [[0.0, \"#0d0887\"], [0.1111111111111111, \"#46039f\"], [0.2222222222222222, \"#7201a8\"], [0.3333333333333333, \"#9c179e\"], [0.4444444444444444, \"#bd3786\"], [0.5555555555555556, \"#d8576b\"], [0.6666666666666666, \"#ed7953\"], [0.7777777777777778, \"#fb9f3a\"], [0.8888888888888888, \"#fdca26\"], [1.0, \"#f0f921\"]], \"type\": \"contour\"}], \"contourcarpet\": [{\"colorbar\": {\"outlinewidth\": 0, \"ticks\": \"\"}, \"type\": \"contourcarpet\"}], \"heatmap\": [{\"colorbar\": {\"outlinewidth\": 0, \"ticks\": \"\"}, \"colorscale\": [[0.0, \"#0d0887\"], [0.1111111111111111, \"#46039f\"], [0.2222222222222222, \"#7201a8\"], [0.3333333333333333, \"#9c179e\"], [0.4444444444444444, \"#bd3786\"], [0.5555555555555556, \"#d8576b\"], [0.6666666666666666, \"#ed7953\"], [0.7777777777777778, \"#fb9f3a\"], [0.8888888888888888, \"#fdca26\"], [1.0, \"#f0f921\"]], \"type\": \"heatmap\"}], \"heatmapgl\": [{\"colorbar\": {\"outlinewidth\": 0, \"ticks\": \"\"}, \"colorscale\": [[0.0, \"#0d0887\"], [0.1111111111111111, \"#46039f\"], [0.2222222222222222, \"#7201a8\"], [0.3333333333333333, \"#9c179e\"], [0.4444444444444444, \"#bd3786\"], [0.5555555555555556, \"#d8576b\"], [0.6666666666666666, \"#ed7953\"], [0.7777777777777778, \"#fb9f3a\"], [0.8888888888888888, \"#fdca26\"], [1.0, \"#f0f921\"]], \"type\": \"heatmapgl\"}], \"histogram\": [{\"marker\": {\"colorbar\": {\"outlinewidth\": 0, \"ticks\": \"\"}}, \"type\": \"histogram\"}], \"histogram2d\": [{\"colorbar\": {\"outlinewidth\": 0, \"ticks\": \"\"}, \"colorscale\": [[0.0, \"#0d0887\"], [0.1111111111111111, \"#46039f\"], [0.2222222222222222, \"#7201a8\"], [0.3333333333333333, \"#9c179e\"], [0.4444444444444444, \"#bd3786\"], [0.5555555555555556, \"#d8576b\"], [0.6666666666666666, \"#ed7953\"], [0.7777777777777778, \"#fb9f3a\"], [0.8888888888888888, \"#fdca26\"], [1.0, \"#f0f921\"]], \"type\": \"histogram2d\"}], \"histogram2dcontour\": [{\"colorbar\": {\"outlinewidth\": 0, \"ticks\": \"\"}, \"colorscale\": [[0.0, \"#0d0887\"], [0.1111111111111111, \"#46039f\"], [0.2222222222222222, \"#7201a8\"], [0.3333333333333333, \"#9c179e\"], [0.4444444444444444, \"#bd3786\"], [0.5555555555555556, \"#d8576b\"], [0.6666666666666666, \"#ed7953\"], [0.7777777777777778, \"#fb9f3a\"], [0.8888888888888888, \"#fdca26\"], [1.0, \"#f0f921\"]], \"type\": \"histogram2dcontour\"}], \"mesh3d\": [{\"colorbar\": {\"outlinewidth\": 0, \"ticks\": \"\"}, \"type\": \"mesh3d\"}], \"parcoords\": [{\"line\": {\"colorbar\": {\"outlinewidth\": 0, \"ticks\": \"\"}}, \"type\": \"parcoords\"}], \"pie\": [{\"automargin\": true, \"type\": \"pie\"}], \"scatter\": [{\"marker\": {\"colorbar\": {\"outlinewidth\": 0, \"ticks\": \"\"}}, \"type\": \"scatter\"}], \"scatter3d\": [{\"line\": {\"colorbar\": {\"outlinewidth\": 0, \"ticks\": \"\"}}, \"marker\": {\"colorbar\": {\"outlinewidth\": 0, \"ticks\": \"\"}}, \"type\": \"scatter3d\"}], \"scattercarpet\": [{\"marker\": {\"colorbar\": {\"outlinewidth\": 0, \"ticks\": \"\"}}, \"type\": \"scattercarpet\"}], \"scattergeo\": [{\"marker\": {\"colorbar\": {\"outlinewidth\": 0, \"ticks\": \"\"}}, \"type\": \"scattergeo\"}], \"scattergl\": [{\"marker\": {\"colorbar\": {\"outlinewidth\": 0, \"ticks\": \"\"}}, \"type\": \"scattergl\"}], \"scattermapbox\": [{\"marker\": {\"colorbar\": {\"outlinewidth\": 0, \"ticks\": \"\"}}, \"type\": \"scattermapbox\"}], \"scatterpolar\": [{\"marker\": {\"colorbar\": {\"outlinewidth\": 0, \"ticks\": \"\"}}, \"type\": \"scatterpolar\"}], \"scatterpolargl\": [{\"marker\": {\"colorbar\": {\"outlinewidth\": 0, \"ticks\": \"\"}}, \"type\": \"scatterpolargl\"}], \"scatterternary\": [{\"marker\": {\"colorbar\": {\"outlinewidth\": 0, \"ticks\": \"\"}}, \"type\": \"scatterternary\"}], \"surface\": [{\"colorbar\": {\"outlinewidth\": 0, \"ticks\": \"\"}, \"colorscale\": [[0.0, \"#0d0887\"], [0.1111111111111111, \"#46039f\"], [0.2222222222222222, \"#7201a8\"], [0.3333333333333333, \"#9c179e\"], [0.4444444444444444, \"#bd3786\"], [0.5555555555555556, \"#d8576b\"], [0.6666666666666666, \"#ed7953\"], [0.7777777777777778, \"#fb9f3a\"], [0.8888888888888888, \"#fdca26\"], [1.0, \"#f0f921\"]], \"type\": \"surface\"}], \"table\": [{\"cells\": {\"fill\": {\"color\": \"#EBF0F8\"}, \"line\": {\"color\": \"white\"}}, \"header\": {\"fill\": {\"color\": \"#C8D4E3\"}, \"line\": {\"color\": \"white\"}}, \"type\": \"table\"}]}, \"layout\": {\"annotationdefaults\": {\"arrowcolor\": \"#2a3f5f\", \"arrowhead\": 0, \"arrowwidth\": 1}, \"coloraxis\": {\"colorbar\": {\"outlinewidth\": 0, \"ticks\": \"\"}}, \"colorscale\": {\"diverging\": [[0, \"#8e0152\"], [0.1, \"#c51b7d\"], [0.2, \"#de77ae\"], [0.3, \"#f1b6da\"], [0.4, \"#fde0ef\"], [0.5, \"#f7f7f7\"], [0.6, \"#e6f5d0\"], [0.7, \"#b8e186\"], [0.8, \"#7fbc41\"], [0.9, \"#4d9221\"], [1, \"#276419\"]], \"sequential\": [[0.0, \"#0d0887\"], [0.1111111111111111, \"#46039f\"], [0.2222222222222222, \"#7201a8\"], [0.3333333333333333, \"#9c179e\"], [0.4444444444444444, \"#bd3786\"], [0.5555555555555556, \"#d8576b\"], [0.6666666666666666, \"#ed7953\"], [0.7777777777777778, \"#fb9f3a\"], [0.8888888888888888, \"#fdca26\"], [1.0, \"#f0f921\"]], \"sequentialminus\": [[0.0, \"#0d0887\"], [0.1111111111111111, \"#46039f\"], [0.2222222222222222, \"#7201a8\"], [0.3333333333333333, \"#9c179e\"], [0.4444444444444444, \"#bd3786\"], [0.5555555555555556, \"#d8576b\"], [0.6666666666666666, \"#ed7953\"], [0.7777777777777778, \"#fb9f3a\"], [0.8888888888888888, \"#fdca26\"], [1.0, \"#f0f921\"]]}, \"colorway\": [\"#636efa\", \"#EF553B\", \"#00cc96\", \"#ab63fa\", \"#FFA15A\", \"#19d3f3\", \"#FF6692\", \"#B6E880\", \"#FF97FF\", \"#FECB52\"], \"font\": {\"color\": \"#2a3f5f\"}, \"geo\": {\"bgcolor\": \"white\", \"lakecolor\": \"white\", \"landcolor\": \"#E5ECF6\", \"showlakes\": true, \"showland\": true, \"subunitcolor\": \"white\"}, \"hoverlabel\": {\"align\": \"left\"}, \"hovermode\": \"closest\", \"mapbox\": {\"style\": \"light\"}, \"paper_bgcolor\": \"white\", \"plot_bgcolor\": \"#E5ECF6\", \"polar\": {\"angularaxis\": {\"gridcolor\": \"white\", \"linecolor\": \"white\", \"ticks\": \"\"}, \"bgcolor\": \"#E5ECF6\", \"radialaxis\": {\"gridcolor\": \"white\", \"linecolor\": \"white\", \"ticks\": \"\"}}, \"scene\": {\"xaxis\": {\"backgroundcolor\": \"#E5ECF6\", \"gridcolor\": \"white\", \"gridwidth\": 2, \"linecolor\": \"white\", \"showbackground\": true, \"ticks\": \"\", \"zerolinecolor\": \"white\"}, \"yaxis\": {\"backgroundcolor\": \"#E5ECF6\", \"gridcolor\": \"white\", \"gridwidth\": 2, \"linecolor\": \"white\", \"showbackground\": true, \"ticks\": \"\", \"zerolinecolor\": \"white\"}, \"zaxis\": {\"backgroundcolor\": \"#E5ECF6\", \"gridcolor\": \"white\", \"gridwidth\": 2, \"linecolor\": \"white\", \"showbackground\": true, \"ticks\": \"\", \"zerolinecolor\": \"white\"}}, \"shapedefaults\": {\"line\": {\"color\": \"#2a3f5f\"}}, \"ternary\": {\"aaxis\": {\"gridcolor\": \"white\", \"linecolor\": \"white\", \"ticks\": \"\"}, \"baxis\": {\"gridcolor\": \"white\", \"linecolor\": \"white\", \"ticks\": \"\"}, \"bgcolor\": \"#E5ECF6\", \"caxis\": {\"gridcolor\": \"white\", \"linecolor\": \"white\", \"ticks\": \"\"}}, \"title\": {\"x\": 0.05}, \"xaxis\": {\"automargin\": true, \"gridcolor\": \"white\", \"linecolor\": \"white\", \"ticks\": \"\", \"title\": {\"standoff\": 15}, \"zerolinecolor\": \"white\", \"zerolinewidth\": 2}, \"yaxis\": {\"automargin\": true, \"gridcolor\": \"white\", \"linecolor\": \"white\", \"ticks\": \"\", \"title\": {\"standoff\": 15}, \"zerolinecolor\": \"white\", \"zerolinewidth\": 2}}}, \"title\": {\"text\": \"Donut Chart for Class Distribution\"}, \"width\": 400},\n",
       "                        {\"responsive\": true}\n",
       "                    ).then(function(){\n",
       "                            \n",
       "var gd = document.getElementById('9e5b24b8-47bf-4e66-913f-cb6ef7b6ecf5');\n",
       "var x = new MutationObserver(function (mutations, observer) {{\n",
       "        var display = window.getComputedStyle(gd).display;\n",
       "        if (!display || display === 'none') {{\n",
       "            console.log([gd, 'removed!']);\n",
       "            Plotly.purge(gd);\n",
       "            observer.disconnect();\n",
       "        }}\n",
       "}});\n",
       "\n",
       "// Listen for the removal of the full notebook cells\n",
       "var notebookContainer = gd.closest('#notebook-container');\n",
       "if (notebookContainer) {{\n",
       "    x.observe(notebookContainer, {childList: true});\n",
       "}}\n",
       "\n",
       "// Listen for the clearing of the current output cell\n",
       "var outputEl = gd.closest('.output');\n",
       "if (outputEl) {{\n",
       "    x.observe(outputEl, {childList: true});\n",
       "}}\n",
       "\n",
       "                        })\n",
       "                };\n",
       "                });\n",
       "            </script>\n",
       "        </div>"
      ]
     },
     "metadata": {},
     "output_type": "display_data"
    }
   ],
   "source": [
    "import plotly.graph_objects as go\n",
    "\n",
    "data = [\n",
    "      {\n",
    "          'values': [df.Attrition.value_counts().Yes, df.Attrition.value_counts().No],\n",
    "          'labels': labels,\n",
    "          'domain': {'x': [0, 0.5]},\n",
    "          'name': 'number of students rate',\n",
    "          'hoverinfo': 'label+percent',\n",
    "          'hole': 0.3,\n",
    "          'type': 'pie'\n",
    "      }]\n",
    "\n",
    "fig = go.Figure(data=data)\n",
    "\n",
    "fig.update_layout(\n",
    "    title='Donut Chart for Class Distribution',\n",
    "    width=400,\n",
    "    height=400,\n",
    "    margin=dict(l=20, r=20, t=20, b=20)   \n",
    ")\n",
    "fig.show()"
   ]
  },
  {
   "cell_type": "code",
   "execution_count": 37,
   "metadata": {},
   "outputs": [
    {
     "data": {
      "text/html": [
       "        <script type=\"text/javascript\">\n",
       "        window.PlotlyConfig = {MathJaxConfig: 'local'};\n",
       "        if (window.MathJax) {MathJax.Hub.Config({SVG: {font: \"STIX-Web\"}});}\n",
       "        if (typeof require !== 'undefined') {\n",
       "        require.undef(\"plotly\");\n",
       "        requirejs.config({\n",
       "            paths: {\n",
       "                'plotly': ['https://cdn.plot.ly/plotly-latest.min']\n",
       "            }\n",
       "        });\n",
       "        require(['plotly'], function(Plotly) {\n",
       "            window._Plotly = Plotly;\n",
       "        });\n",
       "        }\n",
       "        </script>\n",
       "        "
      ]
     },
     "metadata": {},
     "output_type": "display_data"
    },
    {
     "data": {
      "application/vnd.plotly.v1+json": {
       "config": {
        "linkText": "Export to plot.ly",
        "plotlyServerURL": "https://plot.ly",
        "showLink": false
       },
       "data": [
        {
         "domain": {
          "x": [
           0,
           0.5
          ]
         },
         "hole": 0.3,
         "hoverinfo": "label+percent",
         "labels": [
          "Yes",
          "No"
         ],
         "name": "number of students rate",
         "type": "pie",
         "values": [
          237,
          1233
         ]
        }
       ],
       "layout": {
        "annotations": [
         {
          "font": {
           "size": 20
          },
          "showarrow": false,
          "text": "",
          "x": 0.9,
          "y": 1
         }
        ],
        "template": {
         "data": {
          "bar": [
           {
            "error_x": {
             "color": "#2a3f5f"
            },
            "error_y": {
             "color": "#2a3f5f"
            },
            "marker": {
             "line": {
              "color": "#E5ECF6",
              "width": 0.5
             }
            },
            "type": "bar"
           }
          ],
          "barpolar": [
           {
            "marker": {
             "line": {
              "color": "#E5ECF6",
              "width": 0.5
             }
            },
            "type": "barpolar"
           }
          ],
          "carpet": [
           {
            "aaxis": {
             "endlinecolor": "#2a3f5f",
             "gridcolor": "white",
             "linecolor": "white",
             "minorgridcolor": "white",
             "startlinecolor": "#2a3f5f"
            },
            "baxis": {
             "endlinecolor": "#2a3f5f",
             "gridcolor": "white",
             "linecolor": "white",
             "minorgridcolor": "white",
             "startlinecolor": "#2a3f5f"
            },
            "type": "carpet"
           }
          ],
          "choropleth": [
           {
            "colorbar": {
             "outlinewidth": 0,
             "ticks": ""
            },
            "type": "choropleth"
           }
          ],
          "contour": [
           {
            "colorbar": {
             "outlinewidth": 0,
             "ticks": ""
            },
            "colorscale": [
             [
              0,
              "#0d0887"
             ],
             [
              0.1111111111111111,
              "#46039f"
             ],
             [
              0.2222222222222222,
              "#7201a8"
             ],
             [
              0.3333333333333333,
              "#9c179e"
             ],
             [
              0.4444444444444444,
              "#bd3786"
             ],
             [
              0.5555555555555556,
              "#d8576b"
             ],
             [
              0.6666666666666666,
              "#ed7953"
             ],
             [
              0.7777777777777778,
              "#fb9f3a"
             ],
             [
              0.8888888888888888,
              "#fdca26"
             ],
             [
              1,
              "#f0f921"
             ]
            ],
            "type": "contour"
           }
          ],
          "contourcarpet": [
           {
            "colorbar": {
             "outlinewidth": 0,
             "ticks": ""
            },
            "type": "contourcarpet"
           }
          ],
          "heatmap": [
           {
            "colorbar": {
             "outlinewidth": 0,
             "ticks": ""
            },
            "colorscale": [
             [
              0,
              "#0d0887"
             ],
             [
              0.1111111111111111,
              "#46039f"
             ],
             [
              0.2222222222222222,
              "#7201a8"
             ],
             [
              0.3333333333333333,
              "#9c179e"
             ],
             [
              0.4444444444444444,
              "#bd3786"
             ],
             [
              0.5555555555555556,
              "#d8576b"
             ],
             [
              0.6666666666666666,
              "#ed7953"
             ],
             [
              0.7777777777777778,
              "#fb9f3a"
             ],
             [
              0.8888888888888888,
              "#fdca26"
             ],
             [
              1,
              "#f0f921"
             ]
            ],
            "type": "heatmap"
           }
          ],
          "heatmapgl": [
           {
            "colorbar": {
             "outlinewidth": 0,
             "ticks": ""
            },
            "colorscale": [
             [
              0,
              "#0d0887"
             ],
             [
              0.1111111111111111,
              "#46039f"
             ],
             [
              0.2222222222222222,
              "#7201a8"
             ],
             [
              0.3333333333333333,
              "#9c179e"
             ],
             [
              0.4444444444444444,
              "#bd3786"
             ],
             [
              0.5555555555555556,
              "#d8576b"
             ],
             [
              0.6666666666666666,
              "#ed7953"
             ],
             [
              0.7777777777777778,
              "#fb9f3a"
             ],
             [
              0.8888888888888888,
              "#fdca26"
             ],
             [
              1,
              "#f0f921"
             ]
            ],
            "type": "heatmapgl"
           }
          ],
          "histogram": [
           {
            "marker": {
             "colorbar": {
              "outlinewidth": 0,
              "ticks": ""
             }
            },
            "type": "histogram"
           }
          ],
          "histogram2d": [
           {
            "colorbar": {
             "outlinewidth": 0,
             "ticks": ""
            },
            "colorscale": [
             [
              0,
              "#0d0887"
             ],
             [
              0.1111111111111111,
              "#46039f"
             ],
             [
              0.2222222222222222,
              "#7201a8"
             ],
             [
              0.3333333333333333,
              "#9c179e"
             ],
             [
              0.4444444444444444,
              "#bd3786"
             ],
             [
              0.5555555555555556,
              "#d8576b"
             ],
             [
              0.6666666666666666,
              "#ed7953"
             ],
             [
              0.7777777777777778,
              "#fb9f3a"
             ],
             [
              0.8888888888888888,
              "#fdca26"
             ],
             [
              1,
              "#f0f921"
             ]
            ],
            "type": "histogram2d"
           }
          ],
          "histogram2dcontour": [
           {
            "colorbar": {
             "outlinewidth": 0,
             "ticks": ""
            },
            "colorscale": [
             [
              0,
              "#0d0887"
             ],
             [
              0.1111111111111111,
              "#46039f"
             ],
             [
              0.2222222222222222,
              "#7201a8"
             ],
             [
              0.3333333333333333,
              "#9c179e"
             ],
             [
              0.4444444444444444,
              "#bd3786"
             ],
             [
              0.5555555555555556,
              "#d8576b"
             ],
             [
              0.6666666666666666,
              "#ed7953"
             ],
             [
              0.7777777777777778,
              "#fb9f3a"
             ],
             [
              0.8888888888888888,
              "#fdca26"
             ],
             [
              1,
              "#f0f921"
             ]
            ],
            "type": "histogram2dcontour"
           }
          ],
          "mesh3d": [
           {
            "colorbar": {
             "outlinewidth": 0,
             "ticks": ""
            },
            "type": "mesh3d"
           }
          ],
          "parcoords": [
           {
            "line": {
             "colorbar": {
              "outlinewidth": 0,
              "ticks": ""
             }
            },
            "type": "parcoords"
           }
          ],
          "pie": [
           {
            "automargin": true,
            "type": "pie"
           }
          ],
          "scatter": [
           {
            "marker": {
             "colorbar": {
              "outlinewidth": 0,
              "ticks": ""
             }
            },
            "type": "scatter"
           }
          ],
          "scatter3d": [
           {
            "line": {
             "colorbar": {
              "outlinewidth": 0,
              "ticks": ""
             }
            },
            "marker": {
             "colorbar": {
              "outlinewidth": 0,
              "ticks": ""
             }
            },
            "type": "scatter3d"
           }
          ],
          "scattercarpet": [
           {
            "marker": {
             "colorbar": {
              "outlinewidth": 0,
              "ticks": ""
             }
            },
            "type": "scattercarpet"
           }
          ],
          "scattergeo": [
           {
            "marker": {
             "colorbar": {
              "outlinewidth": 0,
              "ticks": ""
             }
            },
            "type": "scattergeo"
           }
          ],
          "scattergl": [
           {
            "marker": {
             "colorbar": {
              "outlinewidth": 0,
              "ticks": ""
             }
            },
            "type": "scattergl"
           }
          ],
          "scattermapbox": [
           {
            "marker": {
             "colorbar": {
              "outlinewidth": 0,
              "ticks": ""
             }
            },
            "type": "scattermapbox"
           }
          ],
          "scatterpolar": [
           {
            "marker": {
             "colorbar": {
              "outlinewidth": 0,
              "ticks": ""
             }
            },
            "type": "scatterpolar"
           }
          ],
          "scatterpolargl": [
           {
            "marker": {
             "colorbar": {
              "outlinewidth": 0,
              "ticks": ""
             }
            },
            "type": "scatterpolargl"
           }
          ],
          "scatterternary": [
           {
            "marker": {
             "colorbar": {
              "outlinewidth": 0,
              "ticks": ""
             }
            },
            "type": "scatterternary"
           }
          ],
          "surface": [
           {
            "colorbar": {
             "outlinewidth": 0,
             "ticks": ""
            },
            "colorscale": [
             [
              0,
              "#0d0887"
             ],
             [
              0.1111111111111111,
              "#46039f"
             ],
             [
              0.2222222222222222,
              "#7201a8"
             ],
             [
              0.3333333333333333,
              "#9c179e"
             ],
             [
              0.4444444444444444,
              "#bd3786"
             ],
             [
              0.5555555555555556,
              "#d8576b"
             ],
             [
              0.6666666666666666,
              "#ed7953"
             ],
             [
              0.7777777777777778,
              "#fb9f3a"
             ],
             [
              0.8888888888888888,
              "#fdca26"
             ],
             [
              1,
              "#f0f921"
             ]
            ],
            "type": "surface"
           }
          ],
          "table": [
           {
            "cells": {
             "fill": {
              "color": "#EBF0F8"
             },
             "line": {
              "color": "white"
             }
            },
            "header": {
             "fill": {
              "color": "#C8D4E3"
             },
             "line": {
              "color": "white"
             }
            },
            "type": "table"
           }
          ]
         },
         "layout": {
          "annotationdefaults": {
           "arrowcolor": "#2a3f5f",
           "arrowhead": 0,
           "arrowwidth": 1
          },
          "coloraxis": {
           "colorbar": {
            "outlinewidth": 0,
            "ticks": ""
           }
          },
          "colorscale": {
           "diverging": [
            [
             0,
             "#8e0152"
            ],
            [
             0.1,
             "#c51b7d"
            ],
            [
             0.2,
             "#de77ae"
            ],
            [
             0.3,
             "#f1b6da"
            ],
            [
             0.4,
             "#fde0ef"
            ],
            [
             0.5,
             "#f7f7f7"
            ],
            [
             0.6,
             "#e6f5d0"
            ],
            [
             0.7,
             "#b8e186"
            ],
            [
             0.8,
             "#7fbc41"
            ],
            [
             0.9,
             "#4d9221"
            ],
            [
             1,
             "#276419"
            ]
           ],
           "sequential": [
            [
             0,
             "#0d0887"
            ],
            [
             0.1111111111111111,
             "#46039f"
            ],
            [
             0.2222222222222222,
             "#7201a8"
            ],
            [
             0.3333333333333333,
             "#9c179e"
            ],
            [
             0.4444444444444444,
             "#bd3786"
            ],
            [
             0.5555555555555556,
             "#d8576b"
            ],
            [
             0.6666666666666666,
             "#ed7953"
            ],
            [
             0.7777777777777778,
             "#fb9f3a"
            ],
            [
             0.8888888888888888,
             "#fdca26"
            ],
            [
             1,
             "#f0f921"
            ]
           ],
           "sequentialminus": [
            [
             0,
             "#0d0887"
            ],
            [
             0.1111111111111111,
             "#46039f"
            ],
            [
             0.2222222222222222,
             "#7201a8"
            ],
            [
             0.3333333333333333,
             "#9c179e"
            ],
            [
             0.4444444444444444,
             "#bd3786"
            ],
            [
             0.5555555555555556,
             "#d8576b"
            ],
            [
             0.6666666666666666,
             "#ed7953"
            ],
            [
             0.7777777777777778,
             "#fb9f3a"
            ],
            [
             0.8888888888888888,
             "#fdca26"
            ],
            [
             1,
             "#f0f921"
            ]
           ]
          },
          "colorway": [
           "#636efa",
           "#EF553B",
           "#00cc96",
           "#ab63fa",
           "#FFA15A",
           "#19d3f3",
           "#FF6692",
           "#B6E880",
           "#FF97FF",
           "#FECB52"
          ],
          "font": {
           "color": "#2a3f5f"
          },
          "geo": {
           "bgcolor": "white",
           "lakecolor": "white",
           "landcolor": "#E5ECF6",
           "showlakes": true,
           "showland": true,
           "subunitcolor": "white"
          },
          "hoverlabel": {
           "align": "left"
          },
          "hovermode": "closest",
          "mapbox": {
           "style": "light"
          },
          "paper_bgcolor": "white",
          "plot_bgcolor": "#E5ECF6",
          "polar": {
           "angularaxis": {
            "gridcolor": "white",
            "linecolor": "white",
            "ticks": ""
           },
           "bgcolor": "#E5ECF6",
           "radialaxis": {
            "gridcolor": "white",
            "linecolor": "white",
            "ticks": ""
           }
          },
          "scene": {
           "xaxis": {
            "backgroundcolor": "#E5ECF6",
            "gridcolor": "white",
            "gridwidth": 2,
            "linecolor": "white",
            "showbackground": true,
            "ticks": "",
            "zerolinecolor": "white"
           },
           "yaxis": {
            "backgroundcolor": "#E5ECF6",
            "gridcolor": "white",
            "gridwidth": 2,
            "linecolor": "white",
            "showbackground": true,
            "ticks": "",
            "zerolinecolor": "white"
           },
           "zaxis": {
            "backgroundcolor": "#E5ECF6",
            "gridcolor": "white",
            "gridwidth": 2,
            "linecolor": "white",
            "showbackground": true,
            "ticks": "",
            "zerolinecolor": "white"
           }
          },
          "shapedefaults": {
           "line": {
            "color": "#2a3f5f"
           }
          },
          "ternary": {
           "aaxis": {
            "gridcolor": "white",
            "linecolor": "white",
            "ticks": ""
           },
           "baxis": {
            "gridcolor": "white",
            "linecolor": "white",
            "ticks": ""
           },
           "bgcolor": "#E5ECF6",
           "caxis": {
            "gridcolor": "white",
            "linecolor": "white",
            "ticks": ""
           }
          },
          "title": {
           "x": 0.05
          },
          "xaxis": {
           "automargin": true,
           "gridcolor": "white",
           "linecolor": "white",
           "ticks": "",
           "title": {
            "standoff": 15
           },
           "zerolinecolor": "white",
           "zerolinewidth": 2
          },
          "yaxis": {
           "automargin": true,
           "gridcolor": "white",
           "linecolor": "white",
           "ticks": "",
           "title": {
            "standoff": 15
           },
           "zerolinecolor": "white",
           "zerolinewidth": 2
          }
         }
        },
        "title": {
         "text": "universities number of students rates"
        }
       }
      },
      "text/html": [
       "<div>\n",
       "        \n",
       "        \n",
       "            <div id=\"3eae5a60-73d9-495b-9d1b-f4d88febca25\" class=\"plotly-graph-div\" style=\"height:525px; width:100%;\"></div>\n",
       "            <script type=\"text/javascript\">\n",
       "                require([\"plotly\"], function(Plotly) {\n",
       "                    window.PLOTLYENV=window.PLOTLYENV || {};\n",
       "                    \n",
       "                if (document.getElementById(\"3eae5a60-73d9-495b-9d1b-f4d88febca25\")) {\n",
       "                    Plotly.newPlot(\n",
       "                        '3eae5a60-73d9-495b-9d1b-f4d88febca25',\n",
       "                        [{\"domain\": {\"x\": [0, 0.5]}, \"hole\": 0.3, \"hoverinfo\": \"label+percent\", \"labels\": [\"Yes\", \"No\"], \"name\": \"number of students rate\", \"type\": \"pie\", \"values\": [237, 1233]}],\n",
       "                        {\"annotations\": [{\"font\": {\"size\": 20}, \"showarrow\": false, \"text\": \"\", \"x\": 0.9, \"y\": 1}], \"template\": {\"data\": {\"bar\": [{\"error_x\": {\"color\": \"#2a3f5f\"}, \"error_y\": {\"color\": \"#2a3f5f\"}, \"marker\": {\"line\": {\"color\": \"#E5ECF6\", \"width\": 0.5}}, \"type\": \"bar\"}], \"barpolar\": [{\"marker\": {\"line\": {\"color\": \"#E5ECF6\", \"width\": 0.5}}, \"type\": \"barpolar\"}], \"carpet\": [{\"aaxis\": {\"endlinecolor\": \"#2a3f5f\", \"gridcolor\": \"white\", \"linecolor\": \"white\", \"minorgridcolor\": \"white\", \"startlinecolor\": \"#2a3f5f\"}, \"baxis\": {\"endlinecolor\": \"#2a3f5f\", \"gridcolor\": \"white\", \"linecolor\": \"white\", \"minorgridcolor\": \"white\", \"startlinecolor\": \"#2a3f5f\"}, \"type\": \"carpet\"}], \"choropleth\": [{\"colorbar\": {\"outlinewidth\": 0, \"ticks\": \"\"}, \"type\": \"choropleth\"}], \"contour\": [{\"colorbar\": {\"outlinewidth\": 0, \"ticks\": \"\"}, \"colorscale\": [[0.0, \"#0d0887\"], [0.1111111111111111, \"#46039f\"], [0.2222222222222222, \"#7201a8\"], [0.3333333333333333, \"#9c179e\"], [0.4444444444444444, \"#bd3786\"], [0.5555555555555556, \"#d8576b\"], [0.6666666666666666, \"#ed7953\"], [0.7777777777777778, \"#fb9f3a\"], [0.8888888888888888, \"#fdca26\"], [1.0, \"#f0f921\"]], \"type\": \"contour\"}], \"contourcarpet\": [{\"colorbar\": {\"outlinewidth\": 0, \"ticks\": \"\"}, \"type\": \"contourcarpet\"}], \"heatmap\": [{\"colorbar\": {\"outlinewidth\": 0, \"ticks\": \"\"}, \"colorscale\": [[0.0, \"#0d0887\"], [0.1111111111111111, \"#46039f\"], [0.2222222222222222, \"#7201a8\"], [0.3333333333333333, \"#9c179e\"], [0.4444444444444444, \"#bd3786\"], [0.5555555555555556, \"#d8576b\"], [0.6666666666666666, \"#ed7953\"], [0.7777777777777778, \"#fb9f3a\"], [0.8888888888888888, \"#fdca26\"], [1.0, \"#f0f921\"]], \"type\": \"heatmap\"}], \"heatmapgl\": [{\"colorbar\": {\"outlinewidth\": 0, \"ticks\": \"\"}, \"colorscale\": [[0.0, \"#0d0887\"], [0.1111111111111111, \"#46039f\"], [0.2222222222222222, \"#7201a8\"], [0.3333333333333333, \"#9c179e\"], [0.4444444444444444, \"#bd3786\"], [0.5555555555555556, \"#d8576b\"], [0.6666666666666666, \"#ed7953\"], [0.7777777777777778, \"#fb9f3a\"], [0.8888888888888888, \"#fdca26\"], [1.0, \"#f0f921\"]], \"type\": \"heatmapgl\"}], \"histogram\": [{\"marker\": {\"colorbar\": {\"outlinewidth\": 0, \"ticks\": \"\"}}, \"type\": \"histogram\"}], \"histogram2d\": [{\"colorbar\": {\"outlinewidth\": 0, \"ticks\": \"\"}, \"colorscale\": [[0.0, \"#0d0887\"], [0.1111111111111111, \"#46039f\"], [0.2222222222222222, \"#7201a8\"], [0.3333333333333333, \"#9c179e\"], [0.4444444444444444, \"#bd3786\"], [0.5555555555555556, \"#d8576b\"], [0.6666666666666666, \"#ed7953\"], [0.7777777777777778, \"#fb9f3a\"], [0.8888888888888888, \"#fdca26\"], [1.0, \"#f0f921\"]], \"type\": \"histogram2d\"}], \"histogram2dcontour\": [{\"colorbar\": {\"outlinewidth\": 0, \"ticks\": \"\"}, \"colorscale\": [[0.0, \"#0d0887\"], [0.1111111111111111, \"#46039f\"], [0.2222222222222222, \"#7201a8\"], [0.3333333333333333, \"#9c179e\"], [0.4444444444444444, \"#bd3786\"], [0.5555555555555556, \"#d8576b\"], [0.6666666666666666, \"#ed7953\"], [0.7777777777777778, \"#fb9f3a\"], [0.8888888888888888, \"#fdca26\"], [1.0, \"#f0f921\"]], \"type\": \"histogram2dcontour\"}], \"mesh3d\": [{\"colorbar\": {\"outlinewidth\": 0, \"ticks\": \"\"}, \"type\": \"mesh3d\"}], \"parcoords\": [{\"line\": {\"colorbar\": {\"outlinewidth\": 0, \"ticks\": \"\"}}, \"type\": \"parcoords\"}], \"pie\": [{\"automargin\": true, \"type\": \"pie\"}], \"scatter\": [{\"marker\": {\"colorbar\": {\"outlinewidth\": 0, \"ticks\": \"\"}}, \"type\": \"scatter\"}], \"scatter3d\": [{\"line\": {\"colorbar\": {\"outlinewidth\": 0, \"ticks\": \"\"}}, \"marker\": {\"colorbar\": {\"outlinewidth\": 0, \"ticks\": \"\"}}, \"type\": \"scatter3d\"}], \"scattercarpet\": [{\"marker\": {\"colorbar\": {\"outlinewidth\": 0, \"ticks\": \"\"}}, \"type\": \"scattercarpet\"}], \"scattergeo\": [{\"marker\": {\"colorbar\": {\"outlinewidth\": 0, \"ticks\": \"\"}}, \"type\": \"scattergeo\"}], \"scattergl\": [{\"marker\": {\"colorbar\": {\"outlinewidth\": 0, \"ticks\": \"\"}}, \"type\": \"scattergl\"}], \"scattermapbox\": [{\"marker\": {\"colorbar\": {\"outlinewidth\": 0, \"ticks\": \"\"}}, \"type\": \"scattermapbox\"}], \"scatterpolar\": [{\"marker\": {\"colorbar\": {\"outlinewidth\": 0, \"ticks\": \"\"}}, \"type\": \"scatterpolar\"}], \"scatterpolargl\": [{\"marker\": {\"colorbar\": {\"outlinewidth\": 0, \"ticks\": \"\"}}, \"type\": \"scatterpolargl\"}], \"scatterternary\": [{\"marker\": {\"colorbar\": {\"outlinewidth\": 0, \"ticks\": \"\"}}, \"type\": \"scatterternary\"}], \"surface\": [{\"colorbar\": {\"outlinewidth\": 0, \"ticks\": \"\"}, \"colorscale\": [[0.0, \"#0d0887\"], [0.1111111111111111, \"#46039f\"], [0.2222222222222222, \"#7201a8\"], [0.3333333333333333, \"#9c179e\"], [0.4444444444444444, \"#bd3786\"], [0.5555555555555556, \"#d8576b\"], [0.6666666666666666, \"#ed7953\"], [0.7777777777777778, \"#fb9f3a\"], [0.8888888888888888, \"#fdca26\"], [1.0, \"#f0f921\"]], \"type\": \"surface\"}], \"table\": [{\"cells\": {\"fill\": {\"color\": \"#EBF0F8\"}, \"line\": {\"color\": \"white\"}}, \"header\": {\"fill\": {\"color\": \"#C8D4E3\"}, \"line\": {\"color\": \"white\"}}, \"type\": \"table\"}]}, \"layout\": {\"annotationdefaults\": {\"arrowcolor\": \"#2a3f5f\", \"arrowhead\": 0, \"arrowwidth\": 1}, \"coloraxis\": {\"colorbar\": {\"outlinewidth\": 0, \"ticks\": \"\"}}, \"colorscale\": {\"diverging\": [[0, \"#8e0152\"], [0.1, \"#c51b7d\"], [0.2, \"#de77ae\"], [0.3, \"#f1b6da\"], [0.4, \"#fde0ef\"], [0.5, \"#f7f7f7\"], [0.6, \"#e6f5d0\"], [0.7, \"#b8e186\"], [0.8, \"#7fbc41\"], [0.9, \"#4d9221\"], [1, \"#276419\"]], \"sequential\": [[0.0, \"#0d0887\"], [0.1111111111111111, \"#46039f\"], [0.2222222222222222, \"#7201a8\"], [0.3333333333333333, \"#9c179e\"], [0.4444444444444444, \"#bd3786\"], [0.5555555555555556, \"#d8576b\"], [0.6666666666666666, \"#ed7953\"], [0.7777777777777778, \"#fb9f3a\"], [0.8888888888888888, \"#fdca26\"], [1.0, \"#f0f921\"]], \"sequentialminus\": [[0.0, \"#0d0887\"], [0.1111111111111111, \"#46039f\"], [0.2222222222222222, \"#7201a8\"], [0.3333333333333333, \"#9c179e\"], [0.4444444444444444, \"#bd3786\"], [0.5555555555555556, \"#d8576b\"], [0.6666666666666666, \"#ed7953\"], [0.7777777777777778, \"#fb9f3a\"], [0.8888888888888888, \"#fdca26\"], [1.0, \"#f0f921\"]]}, \"colorway\": [\"#636efa\", \"#EF553B\", \"#00cc96\", \"#ab63fa\", \"#FFA15A\", \"#19d3f3\", \"#FF6692\", \"#B6E880\", \"#FF97FF\", \"#FECB52\"], \"font\": {\"color\": \"#2a3f5f\"}, \"geo\": {\"bgcolor\": \"white\", \"lakecolor\": \"white\", \"landcolor\": \"#E5ECF6\", \"showlakes\": true, \"showland\": true, \"subunitcolor\": \"white\"}, \"hoverlabel\": {\"align\": \"left\"}, \"hovermode\": \"closest\", \"mapbox\": {\"style\": \"light\"}, \"paper_bgcolor\": \"white\", \"plot_bgcolor\": \"#E5ECF6\", \"polar\": {\"angularaxis\": {\"gridcolor\": \"white\", \"linecolor\": \"white\", \"ticks\": \"\"}, \"bgcolor\": \"#E5ECF6\", \"radialaxis\": {\"gridcolor\": \"white\", \"linecolor\": \"white\", \"ticks\": \"\"}}, \"scene\": {\"xaxis\": {\"backgroundcolor\": \"#E5ECF6\", \"gridcolor\": \"white\", \"gridwidth\": 2, \"linecolor\": \"white\", \"showbackground\": true, \"ticks\": \"\", \"zerolinecolor\": \"white\"}, \"yaxis\": {\"backgroundcolor\": \"#E5ECF6\", \"gridcolor\": \"white\", \"gridwidth\": 2, \"linecolor\": \"white\", \"showbackground\": true, \"ticks\": \"\", \"zerolinecolor\": \"white\"}, \"zaxis\": {\"backgroundcolor\": \"#E5ECF6\", \"gridcolor\": \"white\", \"gridwidth\": 2, \"linecolor\": \"white\", \"showbackground\": true, \"ticks\": \"\", \"zerolinecolor\": \"white\"}}, \"shapedefaults\": {\"line\": {\"color\": \"#2a3f5f\"}}, \"ternary\": {\"aaxis\": {\"gridcolor\": \"white\", \"linecolor\": \"white\", \"ticks\": \"\"}, \"baxis\": {\"gridcolor\": \"white\", \"linecolor\": \"white\", \"ticks\": \"\"}, \"bgcolor\": \"#E5ECF6\", \"caxis\": {\"gridcolor\": \"white\", \"linecolor\": \"white\", \"ticks\": \"\"}}, \"title\": {\"x\": 0.05}, \"xaxis\": {\"automargin\": true, \"gridcolor\": \"white\", \"linecolor\": \"white\", \"ticks\": \"\", \"title\": {\"standoff\": 15}, \"zerolinecolor\": \"white\", \"zerolinewidth\": 2}, \"yaxis\": {\"automargin\": true, \"gridcolor\": \"white\", \"linecolor\": \"white\", \"ticks\": \"\", \"title\": {\"standoff\": 15}, \"zerolinecolor\": \"white\", \"zerolinewidth\": 2}}}, \"title\": {\"text\": \"universities number of students rates\"}},\n",
       "                        {\"responsive\": true}\n",
       "                    ).then(function(){\n",
       "                            \n",
       "var gd = document.getElementById('3eae5a60-73d9-495b-9d1b-f4d88febca25');\n",
       "var x = new MutationObserver(function (mutations, observer) {{\n",
       "        var display = window.getComputedStyle(gd).display;\n",
       "        if (!display || display === 'none') {{\n",
       "            console.log([gd, 'removed!']);\n",
       "            Plotly.purge(gd);\n",
       "            observer.disconnect();\n",
       "        }}\n",
       "}});\n",
       "\n",
       "// Listen for the removal of the full notebook cells\n",
       "var notebookContainer = gd.closest('#notebook-container');\n",
       "if (notebookContainer) {{\n",
       "    x.observe(notebookContainer, {childList: true});\n",
       "}}\n",
       "\n",
       "// Listen for the clearing of the current output cell\n",
       "var outputEl = gd.closest('.output');\n",
       "if (outputEl) {{\n",
       "    x.observe(outputEl, {childList: true});\n",
       "}}\n",
       "\n",
       "                        })\n",
       "                };\n",
       "                });\n",
       "            </script>\n",
       "        </div>"
      ]
     },
     "metadata": {},
     "output_type": "display_data"
    }
   ],
   "source": [
    "import cufflinks as cf\n",
    "\n",
    "from plotly.offline import init_notebook_mode, iplot\n",
    "init_notebook_mode(connected=True)\n",
    "import plotly.graph_objs as go\n",
    "\n",
    "pie1 = df.Attrition\n",
    "# below we will change strings that contain ',' to string thats contain '.' and \n",
    "# then convert them into float.\n",
    "#pie1_list = [float(each.replace(',', '.')) for each in df2016.num_students]\n",
    "labels = pd.unique(df.Attrition)\n",
    "\n",
    "# figure\n",
    "fig = {\n",
    "    'data': [\n",
    "      {\n",
    "          'values': [df.Attrition.value_counts().Yes, df.Attrition.value_counts().No],\n",
    "          'labels': labels,\n",
    "          'domain': {'x': [0, 0.5]},\n",
    "          'name': 'number of students rate',\n",
    "          'hoverinfo': 'label+percent',\n",
    "          'hole': 0.3,\n",
    "          'type': 'pie'\n",
    "      },],\n",
    "    'layout': {\n",
    "        'title': 'universities number of students rates',\n",
    "        'annotations': [\n",
    "            {'font': {'size':20},\n",
    "             'showarrow': False,\n",
    "             \"text\": \"\",\n",
    "              'x': 0.90,\n",
    "              'y': 1 },\n",
    "            \n",
    "        ]\n",
    "    }\n",
    "}\n",
    "\n",
    "iplot(fig)"
   ]
  },
  {
   "cell_type": "code",
   "execution_count": null,
   "metadata": {},
   "outputs": [],
   "source": [
    "dframe['Attrition'] = dframe['Attrition'].map({'Yes': 1, 'No': 0})\n",
    "\n",
    "dframe.Attrition"
   ]
  },
  {
   "cell_type": "code",
   "execution_count": 9,
   "metadata": {},
   "outputs": [
    {
     "name": "stdout",
     "output_type": "stream",
     "text": [
      "Help on function iplot in module plotly.offline.offline:\n",
      "\n",
      "iplot(figure_or_data, show_link=False, link_text='Export to plot.ly', validate=True, image=None, filename='plot_image', image_width=800, image_height=600, config=None, auto_play=True, animation_opts=None)\n",
      "    Draw plotly graphs inside an IPython or Jupyter notebook\n",
      "    \n",
      "    figure_or_data -- a plotly.graph_objs.Figure or plotly.graph_objs.Data or\n",
      "                      dict or list that describes a Plotly graph.\n",
      "                      See https://plot.ly/python/ for examples of\n",
      "                      graph descriptions.\n",
      "    \n",
      "    Keyword arguments:\n",
      "    show_link (default=False) -- display a link in the bottom-right corner of\n",
      "                                of the chart that will export the chart to\n",
      "                                Plotly Cloud or Plotly Enterprise\n",
      "    link_text (default='Export to plot.ly') -- the text of export link\n",
      "    validate (default=True) -- validate that all of the keys in the figure\n",
      "                               are valid? omit if your version of plotly.js\n",
      "                               has become outdated with your version of\n",
      "                               graph_reference.json or if you need to include\n",
      "                               extra, unnecessary keys in your figure.\n",
      "    image (default=None |'png' |'jpeg' |'svg' |'webp') -- This parameter sets\n",
      "        the format of the image to be downloaded, if we choose to download an\n",
      "        image. This parameter has a default value of None indicating that no\n",
      "        image should be downloaded. Please note: for higher resolution images\n",
      "        and more export options, consider using plotly.io.write_image. See\n",
      "        https://plot.ly/python/static-image-export/ for more details.\n",
      "    filename (default='plot') -- Sets the name of the file your image\n",
      "        will be saved to. The extension should not be included.\n",
      "    image_height (default=600) -- Specifies the height of the image in `px`.\n",
      "    image_width (default=800) -- Specifies the width of the image in `px`.\n",
      "    config (default=None) -- Plot view options dictionary. Keyword arguments\n",
      "        `show_link` and `link_text` set the associated options in this\n",
      "        dictionary if it doesn't contain them already.\n",
      "    auto_play (default=True) -- Whether to automatically start the animation\n",
      "        sequence on page load, if the figure contains frames. Has no effect if\n",
      "        the figure does not contain frames.\n",
      "    animation_opts (default=None) -- Dict of custom animation parameters that\n",
      "        are used for the automatically started animation on page load. This\n",
      "        dict is passed to the function Plotly.animate in Plotly.js. See\n",
      "        https://github.com/plotly/plotly.js/blob/master/src/plots/animation_attributes.js\n",
      "        for available options. Has no effect if the figure\n",
      "        does not contain frames, or auto_play is False.\n",
      "    \n",
      "    Example:\n",
      "    ```\n",
      "    from plotly.offline import init_notebook_mode, iplot\n",
      "    init_notebook_mode()\n",
      "    iplot([{'x': [1, 2, 3], 'y': [5, 2, 7]}])\n",
      "    # We can also download an image of the plot by setting the image to the\n",
      "    format you want. e.g. `image='png'`\n",
      "    iplot([{'x': [1, 2, 3], 'y': [5, 2, 7]}], image='png')\n",
      "    ```\n",
      "    \n",
      "    animation_opts Example:\n",
      "    ```\n",
      "    from plotly.offline import iplot\n",
      "    figure = {'data': [{'x': [0, 1], 'y': [0, 1]}],\n",
      "              'layout': {'xaxis': {'range': [0, 5], 'autorange': False},\n",
      "                         'yaxis': {'range': [0, 5], 'autorange': False},\n",
      "                         'title': 'Start Title'},\n",
      "              'frames': [{'data': [{'x': [1, 2], 'y': [1, 2]}]},\n",
      "                         {'data': [{'x': [1, 4], 'y': [1, 4]}]},\n",
      "                         {'data': [{'x': [3, 4], 'y': [3, 4]}],\n",
      "                          'layout': {'title': 'End Title'}}]}\n",
      "    iplot(figure, animation_opts={'frame': {'duration': 1}})\n",
      "    ```\n",
      "\n"
     ]
    }
   ],
   "source": [
    "help(iplot)"
   ]
  },
  {
   "cell_type": "code",
   "execution_count": null,
   "metadata": {},
   "outputs": [],
   "source": [
    "pv = pd.pivot_table(dframe, index=['JobLevel'], columns=[\"WorkLifeBalance\"], values=['Attrition'], aggfunc=sum, fill_value=0)\n"
   ]
  },
  {
   "cell_type": "code",
   "execution_count": null,
   "metadata": {},
   "outputs": [],
   "source": [
    "df['Attrition']\n"
   ]
  },
  {
   "cell_type": "code",
   "execution_count": null,
   "metadata": {},
   "outputs": [],
   "source": [
    "len(df[df['Attrition']=='No']) // 1239+1238"
   ]
  },
  {
   "cell_type": "code",
   "execution_count": null,
   "metadata": {},
   "outputs": [],
   "source": [
    "pv"
   ]
  },
  {
   "cell_type": "code",
   "execution_count": null,
   "metadata": {},
   "outputs": [],
   "source": []
  },
  {
   "cell_type": "code",
   "execution_count": null,
   "metadata": {},
   "outputs": [],
   "source": []
  }
 ],
 "metadata": {
  "kernelspec": {
   "display_name": "Python 3",
   "language": "python",
   "name": "python3"
  },
  "language_info": {
   "codemirror_mode": {
    "name": "ipython",
    "version": 3
   },
   "file_extension": ".py",
   "mimetype": "text/x-python",
   "name": "python",
   "nbconvert_exporter": "python",
   "pygments_lexer": "ipython3",
   "version": "3.7.3"
  }
 },
 "nbformat": 4,
 "nbformat_minor": 4
}
